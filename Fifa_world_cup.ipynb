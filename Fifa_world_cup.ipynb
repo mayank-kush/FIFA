{
 "cells": [
  {
   "cell_type": "code",
   "execution_count": 1,
   "id": "937f0f1b",
   "metadata": {},
   "outputs": [],
   "source": [
    "#import all libraries\n",
    "import pandas as pd\n",
    "import numpy as np\n",
    "import matplotlib.pyplot as plt\n",
    "import seaborn as sns\n",
    "import datetime as dt"
   ]
  },
  {
   "cell_type": "code",
   "execution_count": 2,
   "id": "42531384",
   "metadata": {},
   "outputs": [],
   "source": [
    "# import and read all csv files\n",
    "matches=pd.read_csv('WorldCupMatches.csv')\n",
    "players=pd.read_csv('WorldCupPlayers.csv')\n",
    "cups=pd.read_csv('WorldCups.csv')"
   ]
  },
  {
   "cell_type": "code",
   "execution_count": 3,
   "id": "80105650",
   "metadata": {},
   "outputs": [
    {
     "data": {
      "text/html": [
       "<div>\n",
       "<style scoped>\n",
       "    .dataframe tbody tr th:only-of-type {\n",
       "        vertical-align: middle;\n",
       "    }\n",
       "\n",
       "    .dataframe tbody tr th {\n",
       "        vertical-align: top;\n",
       "    }\n",
       "\n",
       "    .dataframe thead th {\n",
       "        text-align: right;\n",
       "    }\n",
       "</style>\n",
       "<table border=\"1\" class=\"dataframe\">\n",
       "  <thead>\n",
       "    <tr style=\"text-align: right;\">\n",
       "      <th></th>\n",
       "      <th>Year</th>\n",
       "      <th>Datetime</th>\n",
       "      <th>Stage</th>\n",
       "      <th>Stadium</th>\n",
       "      <th>City</th>\n",
       "      <th>Home Team Name</th>\n",
       "      <th>Home Team Goals</th>\n",
       "      <th>Away Team Goals</th>\n",
       "      <th>Away Team Name</th>\n",
       "      <th>Win conditions</th>\n",
       "      <th>Attendance</th>\n",
       "      <th>Half-time Home Goals</th>\n",
       "      <th>Half-time Away Goals</th>\n",
       "      <th>Referee</th>\n",
       "      <th>Assistant 1</th>\n",
       "      <th>Assistant 2</th>\n",
       "      <th>RoundID</th>\n",
       "      <th>MatchID</th>\n",
       "      <th>Home Team Initials</th>\n",
       "      <th>Away Team Initials</th>\n",
       "    </tr>\n",
       "  </thead>\n",
       "  <tbody>\n",
       "    <tr>\n",
       "      <th>0</th>\n",
       "      <td>1930.0</td>\n",
       "      <td>13 Jul 1930 - 15:00</td>\n",
       "      <td>Group 1</td>\n",
       "      <td>Pocitos</td>\n",
       "      <td>Montevideo</td>\n",
       "      <td>France</td>\n",
       "      <td>4.0</td>\n",
       "      <td>1.0</td>\n",
       "      <td>Mexico</td>\n",
       "      <td></td>\n",
       "      <td>4444.0</td>\n",
       "      <td>3.0</td>\n",
       "      <td>0.0</td>\n",
       "      <td>LOMBARDI Domingo (URU)</td>\n",
       "      <td>CRISTOPHE Henry (BEL)</td>\n",
       "      <td>REGO Gilberto (BRA)</td>\n",
       "      <td>201.0</td>\n",
       "      <td>1096.0</td>\n",
       "      <td>FRA</td>\n",
       "      <td>MEX</td>\n",
       "    </tr>\n",
       "    <tr>\n",
       "      <th>1</th>\n",
       "      <td>1930.0</td>\n",
       "      <td>13 Jul 1930 - 15:00</td>\n",
       "      <td>Group 4</td>\n",
       "      <td>Parque Central</td>\n",
       "      <td>Montevideo</td>\n",
       "      <td>USA</td>\n",
       "      <td>3.0</td>\n",
       "      <td>0.0</td>\n",
       "      <td>Belgium</td>\n",
       "      <td></td>\n",
       "      <td>18346.0</td>\n",
       "      <td>2.0</td>\n",
       "      <td>0.0</td>\n",
       "      <td>MACIAS Jose (ARG)</td>\n",
       "      <td>MATEUCCI Francisco (URU)</td>\n",
       "      <td>WARNKEN Alberto (CHI)</td>\n",
       "      <td>201.0</td>\n",
       "      <td>1090.0</td>\n",
       "      <td>USA</td>\n",
       "      <td>BEL</td>\n",
       "    </tr>\n",
       "    <tr>\n",
       "      <th>2</th>\n",
       "      <td>1930.0</td>\n",
       "      <td>14 Jul 1930 - 12:45</td>\n",
       "      <td>Group 2</td>\n",
       "      <td>Parque Central</td>\n",
       "      <td>Montevideo</td>\n",
       "      <td>Yugoslavia</td>\n",
       "      <td>2.0</td>\n",
       "      <td>1.0</td>\n",
       "      <td>Brazil</td>\n",
       "      <td></td>\n",
       "      <td>24059.0</td>\n",
       "      <td>2.0</td>\n",
       "      <td>0.0</td>\n",
       "      <td>TEJADA Anibal (URU)</td>\n",
       "      <td>VALLARINO Ricardo (URU)</td>\n",
       "      <td>BALWAY Thomas (FRA)</td>\n",
       "      <td>201.0</td>\n",
       "      <td>1093.0</td>\n",
       "      <td>YUG</td>\n",
       "      <td>BRA</td>\n",
       "    </tr>\n",
       "    <tr>\n",
       "      <th>3</th>\n",
       "      <td>1930.0</td>\n",
       "      <td>14 Jul 1930 - 14:50</td>\n",
       "      <td>Group 3</td>\n",
       "      <td>Pocitos</td>\n",
       "      <td>Montevideo</td>\n",
       "      <td>Romania</td>\n",
       "      <td>3.0</td>\n",
       "      <td>1.0</td>\n",
       "      <td>Peru</td>\n",
       "      <td></td>\n",
       "      <td>2549.0</td>\n",
       "      <td>1.0</td>\n",
       "      <td>0.0</td>\n",
       "      <td>WARNKEN Alberto (CHI)</td>\n",
       "      <td>LANGENUS Jean (BEL)</td>\n",
       "      <td>MATEUCCI Francisco (URU)</td>\n",
       "      <td>201.0</td>\n",
       "      <td>1098.0</td>\n",
       "      <td>ROU</td>\n",
       "      <td>PER</td>\n",
       "    </tr>\n",
       "    <tr>\n",
       "      <th>4</th>\n",
       "      <td>1930.0</td>\n",
       "      <td>15 Jul 1930 - 16:00</td>\n",
       "      <td>Group 1</td>\n",
       "      <td>Parque Central</td>\n",
       "      <td>Montevideo</td>\n",
       "      <td>Argentina</td>\n",
       "      <td>1.0</td>\n",
       "      <td>0.0</td>\n",
       "      <td>France</td>\n",
       "      <td></td>\n",
       "      <td>23409.0</td>\n",
       "      <td>0.0</td>\n",
       "      <td>0.0</td>\n",
       "      <td>REGO Gilberto (BRA)</td>\n",
       "      <td>SAUCEDO Ulises (BOL)</td>\n",
       "      <td>RADULESCU Constantin (ROU)</td>\n",
       "      <td>201.0</td>\n",
       "      <td>1085.0</td>\n",
       "      <td>ARG</td>\n",
       "      <td>FRA</td>\n",
       "    </tr>\n",
       "  </tbody>\n",
       "</table>\n",
       "</div>"
      ],
      "text/plain": [
       "     Year              Datetime    Stage         Stadium         City  \\\n",
       "0  1930.0  13 Jul 1930 - 15:00   Group 1         Pocitos  Montevideo    \n",
       "1  1930.0  13 Jul 1930 - 15:00   Group 4  Parque Central  Montevideo    \n",
       "2  1930.0  14 Jul 1930 - 12:45   Group 2  Parque Central  Montevideo    \n",
       "3  1930.0  14 Jul 1930 - 14:50   Group 3         Pocitos  Montevideo    \n",
       "4  1930.0  15 Jul 1930 - 16:00   Group 1  Parque Central  Montevideo    \n",
       "\n",
       "  Home Team Name  Home Team Goals  Away Team Goals Away Team Name  \\\n",
       "0         France              4.0              1.0         Mexico   \n",
       "1            USA              3.0              0.0        Belgium   \n",
       "2     Yugoslavia              2.0              1.0         Brazil   \n",
       "3        Romania              3.0              1.0           Peru   \n",
       "4      Argentina              1.0              0.0         France   \n",
       "\n",
       "  Win conditions  Attendance  Half-time Home Goals  Half-time Away Goals  \\\n",
       "0                     4444.0                   3.0                   0.0   \n",
       "1                    18346.0                   2.0                   0.0   \n",
       "2                    24059.0                   2.0                   0.0   \n",
       "3                     2549.0                   1.0                   0.0   \n",
       "4                    23409.0                   0.0                   0.0   \n",
       "\n",
       "                  Referee               Assistant 1  \\\n",
       "0  LOMBARDI Domingo (URU)     CRISTOPHE Henry (BEL)   \n",
       "1       MACIAS Jose (ARG)  MATEUCCI Francisco (URU)   \n",
       "2     TEJADA Anibal (URU)   VALLARINO Ricardo (URU)   \n",
       "3   WARNKEN Alberto (CHI)       LANGENUS Jean (BEL)   \n",
       "4     REGO Gilberto (BRA)      SAUCEDO Ulises (BOL)   \n",
       "\n",
       "                  Assistant 2  RoundID  MatchID Home Team Initials  \\\n",
       "0         REGO Gilberto (BRA)    201.0   1096.0                FRA   \n",
       "1       WARNKEN Alberto (CHI)    201.0   1090.0                USA   \n",
       "2         BALWAY Thomas (FRA)    201.0   1093.0                YUG   \n",
       "3    MATEUCCI Francisco (URU)    201.0   1098.0                ROU   \n",
       "4  RADULESCU Constantin (ROU)    201.0   1085.0                ARG   \n",
       "\n",
       "  Away Team Initials  \n",
       "0                MEX  \n",
       "1                BEL  \n",
       "2                BRA  \n",
       "3                PER  \n",
       "4                FRA  "
      ]
     },
     "execution_count": 3,
     "metadata": {},
     "output_type": "execute_result"
    }
   ],
   "source": [
    "matches.head()"
   ]
  },
  {
   "cell_type": "code",
   "execution_count": 4,
   "id": "e6cf828e",
   "metadata": {},
   "outputs": [
    {
     "name": "stdout",
     "output_type": "stream",
     "text": [
      "<class 'pandas.core.frame.DataFrame'>\n",
      "RangeIndex: 4572 entries, 0 to 4571\n",
      "Data columns (total 20 columns):\n",
      " #   Column                Non-Null Count  Dtype  \n",
      "---  ------                --------------  -----  \n",
      " 0   Year                  852 non-null    float64\n",
      " 1   Datetime              852 non-null    object \n",
      " 2   Stage                 852 non-null    object \n",
      " 3   Stadium               852 non-null    object \n",
      " 4   City                  852 non-null    object \n",
      " 5   Home Team Name        852 non-null    object \n",
      " 6   Home Team Goals       852 non-null    float64\n",
      " 7   Away Team Goals       852 non-null    float64\n",
      " 8   Away Team Name        852 non-null    object \n",
      " 9   Win conditions        852 non-null    object \n",
      " 10  Attendance            850 non-null    float64\n",
      " 11  Half-time Home Goals  852 non-null    float64\n",
      " 12  Half-time Away Goals  852 non-null    float64\n",
      " 13  Referee               852 non-null    object \n",
      " 14  Assistant 1           852 non-null    object \n",
      " 15  Assistant 2           852 non-null    object \n",
      " 16  RoundID               852 non-null    float64\n",
      " 17  MatchID               852 non-null    float64\n",
      " 18  Home Team Initials    852 non-null    object \n",
      " 19  Away Team Initials    852 non-null    object \n",
      "dtypes: float64(8), object(12)\n",
      "memory usage: 714.5+ KB\n"
     ]
    }
   ],
   "source": [
    "matches.info()\n"
   ]
  },
  {
   "cell_type": "code",
   "execution_count": 5,
   "id": "85b2b055",
   "metadata": {},
   "outputs": [],
   "source": [
    "matches['Datetime']=pd.to_datetime(matches['Datetime'])"
   ]
  },
  {
   "cell_type": "code",
   "execution_count": 6,
   "id": "c776890d",
   "metadata": {},
   "outputs": [
    {
     "name": "stdout",
     "output_type": "stream",
     "text": [
      "<class 'pandas.core.frame.DataFrame'>\n",
      "RangeIndex: 4572 entries, 0 to 4571\n",
      "Data columns (total 20 columns):\n",
      " #   Column                Non-Null Count  Dtype         \n",
      "---  ------                --------------  -----         \n",
      " 0   Year                  852 non-null    float64       \n",
      " 1   Datetime              852 non-null    datetime64[ns]\n",
      " 2   Stage                 852 non-null    object        \n",
      " 3   Stadium               852 non-null    object        \n",
      " 4   City                  852 non-null    object        \n",
      " 5   Home Team Name        852 non-null    object        \n",
      " 6   Home Team Goals       852 non-null    float64       \n",
      " 7   Away Team Goals       852 non-null    float64       \n",
      " 8   Away Team Name        852 non-null    object        \n",
      " 9   Win conditions        852 non-null    object        \n",
      " 10  Attendance            850 non-null    float64       \n",
      " 11  Half-time Home Goals  852 non-null    float64       \n",
      " 12  Half-time Away Goals  852 non-null    float64       \n",
      " 13  Referee               852 non-null    object        \n",
      " 14  Assistant 1           852 non-null    object        \n",
      " 15  Assistant 2           852 non-null    object        \n",
      " 16  RoundID               852 non-null    float64       \n",
      " 17  MatchID               852 non-null    float64       \n",
      " 18  Home Team Initials    852 non-null    object        \n",
      " 19  Away Team Initials    852 non-null    object        \n",
      "dtypes: datetime64[ns](1), float64(8), object(11)\n",
      "memory usage: 714.5+ KB\n"
     ]
    }
   ],
   "source": [
    "matches.info()"
   ]
  },
  {
   "cell_type": "code",
   "execution_count": 7,
   "id": "f36813eb",
   "metadata": {},
   "outputs": [
    {
     "data": {
      "text/plain": [
       "Year                    3720\n",
       "Datetime                3720\n",
       "Stage                   3720\n",
       "Stadium                 3720\n",
       "City                    3720\n",
       "Home Team Name          3720\n",
       "Home Team Goals         3720\n",
       "Away Team Goals         3720\n",
       "Away Team Name          3720\n",
       "Win conditions          3720\n",
       "Attendance              3722\n",
       "Half-time Home Goals    3720\n",
       "Half-time Away Goals    3720\n",
       "Referee                 3720\n",
       "Assistant 1             3720\n",
       "Assistant 2             3720\n",
       "RoundID                 3720\n",
       "MatchID                 3720\n",
       "Home Team Initials      3720\n",
       "Away Team Initials      3720\n",
       "dtype: int64"
      ]
     },
     "execution_count": 7,
     "metadata": {},
     "output_type": "execute_result"
    }
   ],
   "source": [
    "matches.isnull().sum()"
   ]
  },
  {
   "cell_type": "code",
   "execution_count": 8,
   "id": "f6b0a38f",
   "metadata": {},
   "outputs": [
    {
     "data": {
      "text/html": [
       "<div>\n",
       "<style scoped>\n",
       "    .dataframe tbody tr th:only-of-type {\n",
       "        vertical-align: middle;\n",
       "    }\n",
       "\n",
       "    .dataframe tbody tr th {\n",
       "        vertical-align: top;\n",
       "    }\n",
       "\n",
       "    .dataframe thead th {\n",
       "        text-align: right;\n",
       "    }\n",
       "</style>\n",
       "<table border=\"1\" class=\"dataframe\">\n",
       "  <thead>\n",
       "    <tr style=\"text-align: right;\">\n",
       "      <th></th>\n",
       "      <th>Year</th>\n",
       "      <th>Datetime</th>\n",
       "      <th>Stage</th>\n",
       "      <th>Stadium</th>\n",
       "      <th>City</th>\n",
       "      <th>Home Team Name</th>\n",
       "      <th>Home Team Goals</th>\n",
       "      <th>Away Team Goals</th>\n",
       "      <th>Away Team Name</th>\n",
       "      <th>Win conditions</th>\n",
       "      <th>Attendance</th>\n",
       "      <th>Half-time Home Goals</th>\n",
       "      <th>Half-time Away Goals</th>\n",
       "      <th>Referee</th>\n",
       "      <th>Assistant 1</th>\n",
       "      <th>Assistant 2</th>\n",
       "      <th>RoundID</th>\n",
       "      <th>MatchID</th>\n",
       "      <th>Home Team Initials</th>\n",
       "      <th>Away Team Initials</th>\n",
       "    </tr>\n",
       "  </thead>\n",
       "  <tbody>\n",
       "    <tr>\n",
       "      <th>823</th>\n",
       "      <td>2014.0</td>\n",
       "      <td>2014-06-30 17:00:00</td>\n",
       "      <td>Round of 16</td>\n",
       "      <td>Estadio Beira-Rio</td>\n",
       "      <td>Porto Alegre</td>\n",
       "      <td>Germany</td>\n",
       "      <td>2.0</td>\n",
       "      <td>1.0</td>\n",
       "      <td>Algeria</td>\n",
       "      <td>Germany win after extra time</td>\n",
       "      <td>NaN</td>\n",
       "      <td>0.0</td>\n",
       "      <td>0.0</td>\n",
       "      <td>RICCI Sandro (BRA)</td>\n",
       "      <td>DE CARVALHO Emerson (BRA)</td>\n",
       "      <td>VAN GASSE Marcelo (BRA)</td>\n",
       "      <td>255951.0</td>\n",
       "      <td>300186460.0</td>\n",
       "      <td>GER</td>\n",
       "      <td>ALG</td>\n",
       "    </tr>\n",
       "    <tr>\n",
       "      <th>841</th>\n",
       "      <td>2014.0</td>\n",
       "      <td>2014-06-30 17:00:00</td>\n",
       "      <td>Round of 16</td>\n",
       "      <td>Estadio Beira-Rio</td>\n",
       "      <td>Porto Alegre</td>\n",
       "      <td>Germany</td>\n",
       "      <td>2.0</td>\n",
       "      <td>1.0</td>\n",
       "      <td>Algeria</td>\n",
       "      <td>Germany win after extra time</td>\n",
       "      <td>NaN</td>\n",
       "      <td>0.0</td>\n",
       "      <td>0.0</td>\n",
       "      <td>RICCI Sandro (BRA)</td>\n",
       "      <td>DE CARVALHO Emerson (BRA)</td>\n",
       "      <td>VAN GASSE Marcelo (BRA)</td>\n",
       "      <td>255951.0</td>\n",
       "      <td>300186460.0</td>\n",
       "      <td>GER</td>\n",
       "      <td>ALG</td>\n",
       "    </tr>\n",
       "    <tr>\n",
       "      <th>852</th>\n",
       "      <td>NaN</td>\n",
       "      <td>NaT</td>\n",
       "      <td>NaN</td>\n",
       "      <td>NaN</td>\n",
       "      <td>NaN</td>\n",
       "      <td>NaN</td>\n",
       "      <td>NaN</td>\n",
       "      <td>NaN</td>\n",
       "      <td>NaN</td>\n",
       "      <td>NaN</td>\n",
       "      <td>NaN</td>\n",
       "      <td>NaN</td>\n",
       "      <td>NaN</td>\n",
       "      <td>NaN</td>\n",
       "      <td>NaN</td>\n",
       "      <td>NaN</td>\n",
       "      <td>NaN</td>\n",
       "      <td>NaN</td>\n",
       "      <td>NaN</td>\n",
       "      <td>NaN</td>\n",
       "    </tr>\n",
       "    <tr>\n",
       "      <th>853</th>\n",
       "      <td>NaN</td>\n",
       "      <td>NaT</td>\n",
       "      <td>NaN</td>\n",
       "      <td>NaN</td>\n",
       "      <td>NaN</td>\n",
       "      <td>NaN</td>\n",
       "      <td>NaN</td>\n",
       "      <td>NaN</td>\n",
       "      <td>NaN</td>\n",
       "      <td>NaN</td>\n",
       "      <td>NaN</td>\n",
       "      <td>NaN</td>\n",
       "      <td>NaN</td>\n",
       "      <td>NaN</td>\n",
       "      <td>NaN</td>\n",
       "      <td>NaN</td>\n",
       "      <td>NaN</td>\n",
       "      <td>NaN</td>\n",
       "      <td>NaN</td>\n",
       "      <td>NaN</td>\n",
       "    </tr>\n",
       "    <tr>\n",
       "      <th>854</th>\n",
       "      <td>NaN</td>\n",
       "      <td>NaT</td>\n",
       "      <td>NaN</td>\n",
       "      <td>NaN</td>\n",
       "      <td>NaN</td>\n",
       "      <td>NaN</td>\n",
       "      <td>NaN</td>\n",
       "      <td>NaN</td>\n",
       "      <td>NaN</td>\n",
       "      <td>NaN</td>\n",
       "      <td>NaN</td>\n",
       "      <td>NaN</td>\n",
       "      <td>NaN</td>\n",
       "      <td>NaN</td>\n",
       "      <td>NaN</td>\n",
       "      <td>NaN</td>\n",
       "      <td>NaN</td>\n",
       "      <td>NaN</td>\n",
       "      <td>NaN</td>\n",
       "      <td>NaN</td>\n",
       "    </tr>\n",
       "  </tbody>\n",
       "</table>\n",
       "</div>"
      ],
      "text/plain": [
       "       Year            Datetime        Stage            Stadium  \\\n",
       "823  2014.0 2014-06-30 17:00:00  Round of 16  Estadio Beira-Rio   \n",
       "841  2014.0 2014-06-30 17:00:00  Round of 16  Estadio Beira-Rio   \n",
       "852     NaN                 NaT          NaN                NaN   \n",
       "853     NaN                 NaT          NaN                NaN   \n",
       "854     NaN                 NaT          NaN                NaN   \n",
       "\n",
       "              City Home Team Name  Home Team Goals  Away Team Goals  \\\n",
       "823  Porto Alegre         Germany              2.0              1.0   \n",
       "841  Porto Alegre         Germany              2.0              1.0   \n",
       "852            NaN            NaN              NaN              NaN   \n",
       "853            NaN            NaN              NaN              NaN   \n",
       "854            NaN            NaN              NaN              NaN   \n",
       "\n",
       "    Away Team Name                 Win conditions  Attendance  \\\n",
       "823        Algeria  Germany win after extra time          NaN   \n",
       "841        Algeria  Germany win after extra time          NaN   \n",
       "852            NaN                            NaN         NaN   \n",
       "853            NaN                            NaN         NaN   \n",
       "854            NaN                            NaN         NaN   \n",
       "\n",
       "     Half-time Home Goals  Half-time Away Goals             Referee  \\\n",
       "823                   0.0                   0.0  RICCI Sandro (BRA)   \n",
       "841                   0.0                   0.0  RICCI Sandro (BRA)   \n",
       "852                   NaN                   NaN                 NaN   \n",
       "853                   NaN                   NaN                 NaN   \n",
       "854                   NaN                   NaN                 NaN   \n",
       "\n",
       "                   Assistant 1              Assistant 2   RoundID  \\\n",
       "823  DE CARVALHO Emerson (BRA)  VAN GASSE Marcelo (BRA)  255951.0   \n",
       "841  DE CARVALHO Emerson (BRA)  VAN GASSE Marcelo (BRA)  255951.0   \n",
       "852                        NaN                      NaN       NaN   \n",
       "853                        NaN                      NaN       NaN   \n",
       "854                        NaN                      NaN       NaN   \n",
       "\n",
       "         MatchID Home Team Initials Away Team Initials  \n",
       "823  300186460.0                GER                ALG  \n",
       "841  300186460.0                GER                ALG  \n",
       "852          NaN                NaN                NaN  \n",
       "853          NaN                NaN                NaN  \n",
       "854          NaN                NaN                NaN  "
      ]
     },
     "execution_count": 8,
     "metadata": {},
     "output_type": "execute_result"
    }
   ],
   "source": [
    "mask=matches.isna()\n",
    "mask=mask.any(axis=1)\n",
    "matches_na=matches[mask]\n",
    "matches_na.head()"
   ]
  },
  {
   "cell_type": "code",
   "execution_count": 9,
   "id": "a79bf6e6",
   "metadata": {},
   "outputs": [
    {
     "data": {
      "text/html": [
       "<div>\n",
       "<style scoped>\n",
       "    .dataframe tbody tr th:only-of-type {\n",
       "        vertical-align: middle;\n",
       "    }\n",
       "\n",
       "    .dataframe tbody tr th {\n",
       "        vertical-align: top;\n",
       "    }\n",
       "\n",
       "    .dataframe thead th {\n",
       "        text-align: right;\n",
       "    }\n",
       "</style>\n",
       "<table border=\"1\" class=\"dataframe\">\n",
       "  <thead>\n",
       "    <tr style=\"text-align: right;\">\n",
       "      <th></th>\n",
       "      <th>Year</th>\n",
       "      <th>Datetime</th>\n",
       "      <th>Stage</th>\n",
       "      <th>Stadium</th>\n",
       "      <th>City</th>\n",
       "      <th>Home Team Name</th>\n",
       "      <th>Home Team Goals</th>\n",
       "      <th>Away Team Goals</th>\n",
       "      <th>Away Team Name</th>\n",
       "      <th>Win conditions</th>\n",
       "      <th>Attendance</th>\n",
       "      <th>Half-time Home Goals</th>\n",
       "      <th>Half-time Away Goals</th>\n",
       "      <th>Referee</th>\n",
       "      <th>Assistant 1</th>\n",
       "      <th>Assistant 2</th>\n",
       "      <th>RoundID</th>\n",
       "      <th>MatchID</th>\n",
       "      <th>Home Team Initials</th>\n",
       "      <th>Away Team Initials</th>\n",
       "    </tr>\n",
       "  </thead>\n",
       "  <tbody>\n",
       "    <tr>\n",
       "      <th>823</th>\n",
       "      <td>2014.0</td>\n",
       "      <td>2014-06-30 17:00:00</td>\n",
       "      <td>Round of 16</td>\n",
       "      <td>Estadio Beira-Rio</td>\n",
       "      <td>Porto Alegre</td>\n",
       "      <td>Germany</td>\n",
       "      <td>2.0</td>\n",
       "      <td>1.0</td>\n",
       "      <td>Algeria</td>\n",
       "      <td>Germany win after extra time</td>\n",
       "      <td>NaN</td>\n",
       "      <td>0.0</td>\n",
       "      <td>0.0</td>\n",
       "      <td>RICCI Sandro (BRA)</td>\n",
       "      <td>DE CARVALHO Emerson (BRA)</td>\n",
       "      <td>VAN GASSE Marcelo (BRA)</td>\n",
       "      <td>255951.0</td>\n",
       "      <td>300186460.0</td>\n",
       "      <td>GER</td>\n",
       "      <td>ALG</td>\n",
       "    </tr>\n",
       "    <tr>\n",
       "      <th>841</th>\n",
       "      <td>2014.0</td>\n",
       "      <td>2014-06-30 17:00:00</td>\n",
       "      <td>Round of 16</td>\n",
       "      <td>Estadio Beira-Rio</td>\n",
       "      <td>Porto Alegre</td>\n",
       "      <td>Germany</td>\n",
       "      <td>2.0</td>\n",
       "      <td>1.0</td>\n",
       "      <td>Algeria</td>\n",
       "      <td>Germany win after extra time</td>\n",
       "      <td>NaN</td>\n",
       "      <td>0.0</td>\n",
       "      <td>0.0</td>\n",
       "      <td>RICCI Sandro (BRA)</td>\n",
       "      <td>DE CARVALHO Emerson (BRA)</td>\n",
       "      <td>VAN GASSE Marcelo (BRA)</td>\n",
       "      <td>255951.0</td>\n",
       "      <td>300186460.0</td>\n",
       "      <td>GER</td>\n",
       "      <td>ALG</td>\n",
       "    </tr>\n",
       "    <tr>\n",
       "      <th>852</th>\n",
       "      <td>NaN</td>\n",
       "      <td>NaT</td>\n",
       "      <td>NaN</td>\n",
       "      <td>NaN</td>\n",
       "      <td>NaN</td>\n",
       "      <td>NaN</td>\n",
       "      <td>NaN</td>\n",
       "      <td>NaN</td>\n",
       "      <td>NaN</td>\n",
       "      <td>NaN</td>\n",
       "      <td>NaN</td>\n",
       "      <td>NaN</td>\n",
       "      <td>NaN</td>\n",
       "      <td>NaN</td>\n",
       "      <td>NaN</td>\n",
       "      <td>NaN</td>\n",
       "      <td>NaN</td>\n",
       "      <td>NaN</td>\n",
       "      <td>NaN</td>\n",
       "      <td>NaN</td>\n",
       "    </tr>\n",
       "    <tr>\n",
       "      <th>853</th>\n",
       "      <td>NaN</td>\n",
       "      <td>NaT</td>\n",
       "      <td>NaN</td>\n",
       "      <td>NaN</td>\n",
       "      <td>NaN</td>\n",
       "      <td>NaN</td>\n",
       "      <td>NaN</td>\n",
       "      <td>NaN</td>\n",
       "      <td>NaN</td>\n",
       "      <td>NaN</td>\n",
       "      <td>NaN</td>\n",
       "      <td>NaN</td>\n",
       "      <td>NaN</td>\n",
       "      <td>NaN</td>\n",
       "      <td>NaN</td>\n",
       "      <td>NaN</td>\n",
       "      <td>NaN</td>\n",
       "      <td>NaN</td>\n",
       "      <td>NaN</td>\n",
       "      <td>NaN</td>\n",
       "    </tr>\n",
       "    <tr>\n",
       "      <th>854</th>\n",
       "      <td>NaN</td>\n",
       "      <td>NaT</td>\n",
       "      <td>NaN</td>\n",
       "      <td>NaN</td>\n",
       "      <td>NaN</td>\n",
       "      <td>NaN</td>\n",
       "      <td>NaN</td>\n",
       "      <td>NaN</td>\n",
       "      <td>NaN</td>\n",
       "      <td>NaN</td>\n",
       "      <td>NaN</td>\n",
       "      <td>NaN</td>\n",
       "      <td>NaN</td>\n",
       "      <td>NaN</td>\n",
       "      <td>NaN</td>\n",
       "      <td>NaN</td>\n",
       "      <td>NaN</td>\n",
       "      <td>NaN</td>\n",
       "      <td>NaN</td>\n",
       "      <td>NaN</td>\n",
       "    </tr>\n",
       "    <tr>\n",
       "      <th>...</th>\n",
       "      <td>...</td>\n",
       "      <td>...</td>\n",
       "      <td>...</td>\n",
       "      <td>...</td>\n",
       "      <td>...</td>\n",
       "      <td>...</td>\n",
       "      <td>...</td>\n",
       "      <td>...</td>\n",
       "      <td>...</td>\n",
       "      <td>...</td>\n",
       "      <td>...</td>\n",
       "      <td>...</td>\n",
       "      <td>...</td>\n",
       "      <td>...</td>\n",
       "      <td>...</td>\n",
       "      <td>...</td>\n",
       "      <td>...</td>\n",
       "      <td>...</td>\n",
       "      <td>...</td>\n",
       "      <td>...</td>\n",
       "    </tr>\n",
       "    <tr>\n",
       "      <th>4567</th>\n",
       "      <td>NaN</td>\n",
       "      <td>NaT</td>\n",
       "      <td>NaN</td>\n",
       "      <td>NaN</td>\n",
       "      <td>NaN</td>\n",
       "      <td>NaN</td>\n",
       "      <td>NaN</td>\n",
       "      <td>NaN</td>\n",
       "      <td>NaN</td>\n",
       "      <td>NaN</td>\n",
       "      <td>NaN</td>\n",
       "      <td>NaN</td>\n",
       "      <td>NaN</td>\n",
       "      <td>NaN</td>\n",
       "      <td>NaN</td>\n",
       "      <td>NaN</td>\n",
       "      <td>NaN</td>\n",
       "      <td>NaN</td>\n",
       "      <td>NaN</td>\n",
       "      <td>NaN</td>\n",
       "    </tr>\n",
       "    <tr>\n",
       "      <th>4568</th>\n",
       "      <td>NaN</td>\n",
       "      <td>NaT</td>\n",
       "      <td>NaN</td>\n",
       "      <td>NaN</td>\n",
       "      <td>NaN</td>\n",
       "      <td>NaN</td>\n",
       "      <td>NaN</td>\n",
       "      <td>NaN</td>\n",
       "      <td>NaN</td>\n",
       "      <td>NaN</td>\n",
       "      <td>NaN</td>\n",
       "      <td>NaN</td>\n",
       "      <td>NaN</td>\n",
       "      <td>NaN</td>\n",
       "      <td>NaN</td>\n",
       "      <td>NaN</td>\n",
       "      <td>NaN</td>\n",
       "      <td>NaN</td>\n",
       "      <td>NaN</td>\n",
       "      <td>NaN</td>\n",
       "    </tr>\n",
       "    <tr>\n",
       "      <th>4569</th>\n",
       "      <td>NaN</td>\n",
       "      <td>NaT</td>\n",
       "      <td>NaN</td>\n",
       "      <td>NaN</td>\n",
       "      <td>NaN</td>\n",
       "      <td>NaN</td>\n",
       "      <td>NaN</td>\n",
       "      <td>NaN</td>\n",
       "      <td>NaN</td>\n",
       "      <td>NaN</td>\n",
       "      <td>NaN</td>\n",
       "      <td>NaN</td>\n",
       "      <td>NaN</td>\n",
       "      <td>NaN</td>\n",
       "      <td>NaN</td>\n",
       "      <td>NaN</td>\n",
       "      <td>NaN</td>\n",
       "      <td>NaN</td>\n",
       "      <td>NaN</td>\n",
       "      <td>NaN</td>\n",
       "    </tr>\n",
       "    <tr>\n",
       "      <th>4570</th>\n",
       "      <td>NaN</td>\n",
       "      <td>NaT</td>\n",
       "      <td>NaN</td>\n",
       "      <td>NaN</td>\n",
       "      <td>NaN</td>\n",
       "      <td>NaN</td>\n",
       "      <td>NaN</td>\n",
       "      <td>NaN</td>\n",
       "      <td>NaN</td>\n",
       "      <td>NaN</td>\n",
       "      <td>NaN</td>\n",
       "      <td>NaN</td>\n",
       "      <td>NaN</td>\n",
       "      <td>NaN</td>\n",
       "      <td>NaN</td>\n",
       "      <td>NaN</td>\n",
       "      <td>NaN</td>\n",
       "      <td>NaN</td>\n",
       "      <td>NaN</td>\n",
       "      <td>NaN</td>\n",
       "    </tr>\n",
       "    <tr>\n",
       "      <th>4571</th>\n",
       "      <td>NaN</td>\n",
       "      <td>NaT</td>\n",
       "      <td>NaN</td>\n",
       "      <td>NaN</td>\n",
       "      <td>NaN</td>\n",
       "      <td>NaN</td>\n",
       "      <td>NaN</td>\n",
       "      <td>NaN</td>\n",
       "      <td>NaN</td>\n",
       "      <td>NaN</td>\n",
       "      <td>NaN</td>\n",
       "      <td>NaN</td>\n",
       "      <td>NaN</td>\n",
       "      <td>NaN</td>\n",
       "      <td>NaN</td>\n",
       "      <td>NaN</td>\n",
       "      <td>NaN</td>\n",
       "      <td>NaN</td>\n",
       "      <td>NaN</td>\n",
       "      <td>NaN</td>\n",
       "    </tr>\n",
       "  </tbody>\n",
       "</table>\n",
       "<p>3722 rows × 20 columns</p>\n",
       "</div>"
      ],
      "text/plain": [
       "        Year            Datetime        Stage            Stadium  \\\n",
       "823   2014.0 2014-06-30 17:00:00  Round of 16  Estadio Beira-Rio   \n",
       "841   2014.0 2014-06-30 17:00:00  Round of 16  Estadio Beira-Rio   \n",
       "852      NaN                 NaT          NaN                NaN   \n",
       "853      NaN                 NaT          NaN                NaN   \n",
       "854      NaN                 NaT          NaN                NaN   \n",
       "...      ...                 ...          ...                ...   \n",
       "4567     NaN                 NaT          NaN                NaN   \n",
       "4568     NaN                 NaT          NaN                NaN   \n",
       "4569     NaN                 NaT          NaN                NaN   \n",
       "4570     NaN                 NaT          NaN                NaN   \n",
       "4571     NaN                 NaT          NaN                NaN   \n",
       "\n",
       "               City Home Team Name  Home Team Goals  Away Team Goals  \\\n",
       "823   Porto Alegre         Germany              2.0              1.0   \n",
       "841   Porto Alegre         Germany              2.0              1.0   \n",
       "852             NaN            NaN              NaN              NaN   \n",
       "853             NaN            NaN              NaN              NaN   \n",
       "854             NaN            NaN              NaN              NaN   \n",
       "...             ...            ...              ...              ...   \n",
       "4567            NaN            NaN              NaN              NaN   \n",
       "4568            NaN            NaN              NaN              NaN   \n",
       "4569            NaN            NaN              NaN              NaN   \n",
       "4570            NaN            NaN              NaN              NaN   \n",
       "4571            NaN            NaN              NaN              NaN   \n",
       "\n",
       "     Away Team Name                 Win conditions  Attendance  \\\n",
       "823         Algeria  Germany win after extra time          NaN   \n",
       "841         Algeria  Germany win after extra time          NaN   \n",
       "852             NaN                            NaN         NaN   \n",
       "853             NaN                            NaN         NaN   \n",
       "854             NaN                            NaN         NaN   \n",
       "...             ...                            ...         ...   \n",
       "4567            NaN                            NaN         NaN   \n",
       "4568            NaN                            NaN         NaN   \n",
       "4569            NaN                            NaN         NaN   \n",
       "4570            NaN                            NaN         NaN   \n",
       "4571            NaN                            NaN         NaN   \n",
       "\n",
       "      Half-time Home Goals  Half-time Away Goals             Referee  \\\n",
       "823                    0.0                   0.0  RICCI Sandro (BRA)   \n",
       "841                    0.0                   0.0  RICCI Sandro (BRA)   \n",
       "852                    NaN                   NaN                 NaN   \n",
       "853                    NaN                   NaN                 NaN   \n",
       "854                    NaN                   NaN                 NaN   \n",
       "...                    ...                   ...                 ...   \n",
       "4567                   NaN                   NaN                 NaN   \n",
       "4568                   NaN                   NaN                 NaN   \n",
       "4569                   NaN                   NaN                 NaN   \n",
       "4570                   NaN                   NaN                 NaN   \n",
       "4571                   NaN                   NaN                 NaN   \n",
       "\n",
       "                    Assistant 1              Assistant 2   RoundID  \\\n",
       "823   DE CARVALHO Emerson (BRA)  VAN GASSE Marcelo (BRA)  255951.0   \n",
       "841   DE CARVALHO Emerson (BRA)  VAN GASSE Marcelo (BRA)  255951.0   \n",
       "852                         NaN                      NaN       NaN   \n",
       "853                         NaN                      NaN       NaN   \n",
       "854                         NaN                      NaN       NaN   \n",
       "...                         ...                      ...       ...   \n",
       "4567                        NaN                      NaN       NaN   \n",
       "4568                        NaN                      NaN       NaN   \n",
       "4569                        NaN                      NaN       NaN   \n",
       "4570                        NaN                      NaN       NaN   \n",
       "4571                        NaN                      NaN       NaN   \n",
       "\n",
       "          MatchID Home Team Initials Away Team Initials  \n",
       "823   300186460.0                GER                ALG  \n",
       "841   300186460.0                GER                ALG  \n",
       "852           NaN                NaN                NaN  \n",
       "853           NaN                NaN                NaN  \n",
       "854           NaN                NaN                NaN  \n",
       "...           ...                ...                ...  \n",
       "4567          NaN                NaN                NaN  \n",
       "4568          NaN                NaN                NaN  \n",
       "4569          NaN                NaN                NaN  \n",
       "4570          NaN                NaN                NaN  \n",
       "4571          NaN                NaN                NaN  \n",
       "\n",
       "[3722 rows x 20 columns]"
      ]
     },
     "execution_count": 9,
     "metadata": {},
     "output_type": "execute_result"
    }
   ],
   "source": [
    "matches_na"
   ]
  },
  {
   "cell_type": "code",
   "execution_count": 10,
   "id": "0ca8443b",
   "metadata": {},
   "outputs": [],
   "source": [
    "matches.dropna(inplace=True)\n"
   ]
  },
  {
   "cell_type": "code",
   "execution_count": 11,
   "id": "cff57f98",
   "metadata": {},
   "outputs": [
    {
     "data": {
      "text/plain": [
       "Year                    0\n",
       "Datetime                0\n",
       "Stage                   0\n",
       "Stadium                 0\n",
       "City                    0\n",
       "Home Team Name          0\n",
       "Home Team Goals         0\n",
       "Away Team Goals         0\n",
       "Away Team Name          0\n",
       "Win conditions          0\n",
       "Attendance              0\n",
       "Half-time Home Goals    0\n",
       "Half-time Away Goals    0\n",
       "Referee                 0\n",
       "Assistant 1             0\n",
       "Assistant 2             0\n",
       "RoundID                 0\n",
       "MatchID                 0\n",
       "Home Team Initials      0\n",
       "Away Team Initials      0\n",
       "dtype: int64"
      ]
     },
     "execution_count": 11,
     "metadata": {},
     "output_type": "execute_result"
    }
   ],
   "source": [
    "matches.isnull().sum()"
   ]
  },
  {
   "cell_type": "code",
   "execution_count": 12,
   "id": "759239a3",
   "metadata": {},
   "outputs": [
    {
     "name": "stdout",
     "output_type": "stream",
     "text": [
      "<class 'pandas.core.frame.DataFrame'>\n",
      "Int64Index: 850 entries, 0 to 851\n",
      "Data columns (total 20 columns):\n",
      " #   Column                Non-Null Count  Dtype         \n",
      "---  ------                --------------  -----         \n",
      " 0   Year                  850 non-null    float64       \n",
      " 1   Datetime              850 non-null    datetime64[ns]\n",
      " 2   Stage                 850 non-null    object        \n",
      " 3   Stadium               850 non-null    object        \n",
      " 4   City                  850 non-null    object        \n",
      " 5   Home Team Name        850 non-null    object        \n",
      " 6   Home Team Goals       850 non-null    float64       \n",
      " 7   Away Team Goals       850 non-null    float64       \n",
      " 8   Away Team Name        850 non-null    object        \n",
      " 9   Win conditions        850 non-null    object        \n",
      " 10  Attendance            850 non-null    float64       \n",
      " 11  Half-time Home Goals  850 non-null    float64       \n",
      " 12  Half-time Away Goals  850 non-null    float64       \n",
      " 13  Referee               850 non-null    object        \n",
      " 14  Assistant 1           850 non-null    object        \n",
      " 15  Assistant 2           850 non-null    object        \n",
      " 16  RoundID               850 non-null    float64       \n",
      " 17  MatchID               850 non-null    float64       \n",
      " 18  Home Team Initials    850 non-null    object        \n",
      " 19  Away Team Initials    850 non-null    object        \n",
      "dtypes: datetime64[ns](1), float64(8), object(11)\n",
      "memory usage: 139.5+ KB\n"
     ]
    }
   ],
   "source": [
    "matches.info()"
   ]
  },
  {
   "cell_type": "code",
   "execution_count": 13,
   "id": "5188aab1",
   "metadata": {},
   "outputs": [
    {
     "data": {
      "text/html": [
       "<div>\n",
       "<style scoped>\n",
       "    .dataframe tbody tr th:only-of-type {\n",
       "        vertical-align: middle;\n",
       "    }\n",
       "\n",
       "    .dataframe tbody tr th {\n",
       "        vertical-align: top;\n",
       "    }\n",
       "\n",
       "    .dataframe thead th {\n",
       "        text-align: right;\n",
       "    }\n",
       "</style>\n",
       "<table border=\"1\" class=\"dataframe\">\n",
       "  <thead>\n",
       "    <tr style=\"text-align: right;\">\n",
       "      <th></th>\n",
       "      <th>RoundID</th>\n",
       "      <th>MatchID</th>\n",
       "      <th>Team Initials</th>\n",
       "      <th>Coach Name</th>\n",
       "      <th>Line-up</th>\n",
       "      <th>Shirt Number</th>\n",
       "      <th>Player Name</th>\n",
       "      <th>Position</th>\n",
       "      <th>Event</th>\n",
       "    </tr>\n",
       "  </thead>\n",
       "  <tbody>\n",
       "    <tr>\n",
       "      <th>0</th>\n",
       "      <td>201</td>\n",
       "      <td>1096</td>\n",
       "      <td>FRA</td>\n",
       "      <td>CAUDRON Raoul (FRA)</td>\n",
       "      <td>S</td>\n",
       "      <td>0</td>\n",
       "      <td>Alex THEPOT</td>\n",
       "      <td>GK</td>\n",
       "      <td>NaN</td>\n",
       "    </tr>\n",
       "    <tr>\n",
       "      <th>1</th>\n",
       "      <td>201</td>\n",
       "      <td>1096</td>\n",
       "      <td>MEX</td>\n",
       "      <td>LUQUE Juan (MEX)</td>\n",
       "      <td>S</td>\n",
       "      <td>0</td>\n",
       "      <td>Oscar BONFIGLIO</td>\n",
       "      <td>GK</td>\n",
       "      <td>NaN</td>\n",
       "    </tr>\n",
       "    <tr>\n",
       "      <th>2</th>\n",
       "      <td>201</td>\n",
       "      <td>1096</td>\n",
       "      <td>FRA</td>\n",
       "      <td>CAUDRON Raoul (FRA)</td>\n",
       "      <td>S</td>\n",
       "      <td>0</td>\n",
       "      <td>Marcel LANGILLER</td>\n",
       "      <td>NaN</td>\n",
       "      <td>G40'</td>\n",
       "    </tr>\n",
       "    <tr>\n",
       "      <th>3</th>\n",
       "      <td>201</td>\n",
       "      <td>1096</td>\n",
       "      <td>MEX</td>\n",
       "      <td>LUQUE Juan (MEX)</td>\n",
       "      <td>S</td>\n",
       "      <td>0</td>\n",
       "      <td>Juan CARRENO</td>\n",
       "      <td>NaN</td>\n",
       "      <td>G70'</td>\n",
       "    </tr>\n",
       "    <tr>\n",
       "      <th>4</th>\n",
       "      <td>201</td>\n",
       "      <td>1096</td>\n",
       "      <td>FRA</td>\n",
       "      <td>CAUDRON Raoul (FRA)</td>\n",
       "      <td>S</td>\n",
       "      <td>0</td>\n",
       "      <td>Ernest LIBERATI</td>\n",
       "      <td>NaN</td>\n",
       "      <td>NaN</td>\n",
       "    </tr>\n",
       "  </tbody>\n",
       "</table>\n",
       "</div>"
      ],
      "text/plain": [
       "   RoundID  MatchID Team Initials           Coach Name Line-up  Shirt Number  \\\n",
       "0      201     1096           FRA  CAUDRON Raoul (FRA)       S             0   \n",
       "1      201     1096           MEX     LUQUE Juan (MEX)       S             0   \n",
       "2      201     1096           FRA  CAUDRON Raoul (FRA)       S             0   \n",
       "3      201     1096           MEX     LUQUE Juan (MEX)       S             0   \n",
       "4      201     1096           FRA  CAUDRON Raoul (FRA)       S             0   \n",
       "\n",
       "        Player Name Position Event  \n",
       "0       Alex THEPOT       GK   NaN  \n",
       "1   Oscar BONFIGLIO       GK   NaN  \n",
       "2  Marcel LANGILLER      NaN  G40'  \n",
       "3      Juan CARRENO      NaN  G70'  \n",
       "4   Ernest LIBERATI      NaN   NaN  "
      ]
     },
     "execution_count": 13,
     "metadata": {},
     "output_type": "execute_result"
    }
   ],
   "source": [
    "players.head()"
   ]
  },
  {
   "cell_type": "code",
   "execution_count": 14,
   "id": "829108ba",
   "metadata": {},
   "outputs": [
    {
     "name": "stdout",
     "output_type": "stream",
     "text": [
      "<class 'pandas.core.frame.DataFrame'>\n",
      "RangeIndex: 37784 entries, 0 to 37783\n",
      "Data columns (total 9 columns):\n",
      " #   Column         Non-Null Count  Dtype \n",
      "---  ------         --------------  ----- \n",
      " 0   RoundID        37784 non-null  int64 \n",
      " 1   MatchID        37784 non-null  int64 \n",
      " 2   Team Initials  37784 non-null  object\n",
      " 3   Coach Name     37784 non-null  object\n",
      " 4   Line-up        37784 non-null  object\n",
      " 5   Shirt Number   37784 non-null  int64 \n",
      " 6   Player Name    37784 non-null  object\n",
      " 7   Position       4143 non-null   object\n",
      " 8   Event          9069 non-null   object\n",
      "dtypes: int64(3), object(6)\n",
      "memory usage: 2.6+ MB\n"
     ]
    }
   ],
   "source": [
    "players.info()"
   ]
  },
  {
   "cell_type": "code",
   "execution_count": 15,
   "id": "2150e688",
   "metadata": {},
   "outputs": [
    {
     "data": {
      "text/plain": [
       "RoundID              0\n",
       "MatchID              0\n",
       "Team Initials        0\n",
       "Coach Name           0\n",
       "Line-up              0\n",
       "Shirt Number         0\n",
       "Player Name          0\n",
       "Position         33641\n",
       "Event            28715\n",
       "dtype: int64"
      ]
     },
     "execution_count": 15,
     "metadata": {},
     "output_type": "execute_result"
    }
   ],
   "source": [
    "players.isnull().sum()"
   ]
  },
  {
   "cell_type": "code",
   "execution_count": 16,
   "id": "8181a17e",
   "metadata": {},
   "outputs": [],
   "source": [
    "players=players.drop(['Position','Event'],axis=1)"
   ]
  },
  {
   "cell_type": "code",
   "execution_count": 17,
   "id": "027af4ec",
   "metadata": {},
   "outputs": [
    {
     "data": {
      "text/plain": [
       "RoundID          0\n",
       "MatchID          0\n",
       "Team Initials    0\n",
       "Coach Name       0\n",
       "Line-up          0\n",
       "Shirt Number     0\n",
       "Player Name      0\n",
       "dtype: int64"
      ]
     },
     "execution_count": 17,
     "metadata": {},
     "output_type": "execute_result"
    }
   ],
   "source": [
    "players.isnull().sum()"
   ]
  },
  {
   "cell_type": "code",
   "execution_count": 18,
   "id": "424f9eaa",
   "metadata": {},
   "outputs": [
    {
     "data": {
      "text/html": [
       "<div>\n",
       "<style scoped>\n",
       "    .dataframe tbody tr th:only-of-type {\n",
       "        vertical-align: middle;\n",
       "    }\n",
       "\n",
       "    .dataframe tbody tr th {\n",
       "        vertical-align: top;\n",
       "    }\n",
       "\n",
       "    .dataframe thead th {\n",
       "        text-align: right;\n",
       "    }\n",
       "</style>\n",
       "<table border=\"1\" class=\"dataframe\">\n",
       "  <thead>\n",
       "    <tr style=\"text-align: right;\">\n",
       "      <th></th>\n",
       "      <th>Year</th>\n",
       "      <th>Country</th>\n",
       "      <th>Winner</th>\n",
       "      <th>Runners-Up</th>\n",
       "      <th>Third</th>\n",
       "      <th>Fourth</th>\n",
       "      <th>GoalsScored</th>\n",
       "      <th>QualifiedTeams</th>\n",
       "      <th>MatchesPlayed</th>\n",
       "      <th>Attendance</th>\n",
       "    </tr>\n",
       "  </thead>\n",
       "  <tbody>\n",
       "    <tr>\n",
       "      <th>0</th>\n",
       "      <td>1930</td>\n",
       "      <td>Uruguay</td>\n",
       "      <td>Uruguay</td>\n",
       "      <td>Argentina</td>\n",
       "      <td>USA</td>\n",
       "      <td>Yugoslavia</td>\n",
       "      <td>70</td>\n",
       "      <td>13</td>\n",
       "      <td>18</td>\n",
       "      <td>590.549</td>\n",
       "    </tr>\n",
       "    <tr>\n",
       "      <th>1</th>\n",
       "      <td>1934</td>\n",
       "      <td>Italy</td>\n",
       "      <td>Italy</td>\n",
       "      <td>Czechoslovakia</td>\n",
       "      <td>Germany</td>\n",
       "      <td>Austria</td>\n",
       "      <td>70</td>\n",
       "      <td>16</td>\n",
       "      <td>17</td>\n",
       "      <td>363.000</td>\n",
       "    </tr>\n",
       "    <tr>\n",
       "      <th>2</th>\n",
       "      <td>1938</td>\n",
       "      <td>France</td>\n",
       "      <td>Italy</td>\n",
       "      <td>Hungary</td>\n",
       "      <td>Brazil</td>\n",
       "      <td>Sweden</td>\n",
       "      <td>84</td>\n",
       "      <td>15</td>\n",
       "      <td>18</td>\n",
       "      <td>375.700</td>\n",
       "    </tr>\n",
       "    <tr>\n",
       "      <th>3</th>\n",
       "      <td>1950</td>\n",
       "      <td>Brazil</td>\n",
       "      <td>Uruguay</td>\n",
       "      <td>Brazil</td>\n",
       "      <td>Sweden</td>\n",
       "      <td>Spain</td>\n",
       "      <td>88</td>\n",
       "      <td>13</td>\n",
       "      <td>22</td>\n",
       "      <td>1.045.246</td>\n",
       "    </tr>\n",
       "    <tr>\n",
       "      <th>4</th>\n",
       "      <td>1954</td>\n",
       "      <td>Switzerland</td>\n",
       "      <td>Germany FR</td>\n",
       "      <td>Hungary</td>\n",
       "      <td>Austria</td>\n",
       "      <td>Uruguay</td>\n",
       "      <td>140</td>\n",
       "      <td>16</td>\n",
       "      <td>26</td>\n",
       "      <td>768.607</td>\n",
       "    </tr>\n",
       "  </tbody>\n",
       "</table>\n",
       "</div>"
      ],
      "text/plain": [
       "   Year      Country      Winner      Runners-Up    Third      Fourth  \\\n",
       "0  1930      Uruguay     Uruguay       Argentina      USA  Yugoslavia   \n",
       "1  1934        Italy       Italy  Czechoslovakia  Germany     Austria   \n",
       "2  1938       France       Italy         Hungary   Brazil      Sweden   \n",
       "3  1950       Brazil     Uruguay          Brazil   Sweden       Spain   \n",
       "4  1954  Switzerland  Germany FR         Hungary  Austria     Uruguay   \n",
       "\n",
       "   GoalsScored  QualifiedTeams  MatchesPlayed Attendance  \n",
       "0           70              13             18    590.549  \n",
       "1           70              16             17    363.000  \n",
       "2           84              15             18    375.700  \n",
       "3           88              13             22  1.045.246  \n",
       "4          140              16             26    768.607  "
      ]
     },
     "execution_count": 18,
     "metadata": {},
     "output_type": "execute_result"
    }
   ],
   "source": [
    "cups.head()"
   ]
  },
  {
   "cell_type": "code",
   "execution_count": 19,
   "id": "a452fece",
   "metadata": {},
   "outputs": [
    {
     "name": "stdout",
     "output_type": "stream",
     "text": [
      "<class 'pandas.core.frame.DataFrame'>\n",
      "RangeIndex: 20 entries, 0 to 19\n",
      "Data columns (total 10 columns):\n",
      " #   Column          Non-Null Count  Dtype \n",
      "---  ------          --------------  ----- \n",
      " 0   Year            20 non-null     int64 \n",
      " 1   Country         20 non-null     object\n",
      " 2   Winner          20 non-null     object\n",
      " 3   Runners-Up      20 non-null     object\n",
      " 4   Third           20 non-null     object\n",
      " 5   Fourth          20 non-null     object\n",
      " 6   GoalsScored     20 non-null     int64 \n",
      " 7   QualifiedTeams  20 non-null     int64 \n",
      " 8   MatchesPlayed   20 non-null     int64 \n",
      " 9   Attendance      20 non-null     object\n",
      "dtypes: int64(4), object(6)\n",
      "memory usage: 1.7+ KB\n"
     ]
    }
   ],
   "source": [
    "cups.info()"
   ]
  },
  {
   "cell_type": "code",
   "execution_count": 20,
   "id": "a1535a6d",
   "metadata": {},
   "outputs": [],
   "source": [
    "merged_df=pd.merge(matches,players,on=['RoundID','MatchID'],how ='outer')"
   ]
  },
  {
   "cell_type": "code",
   "execution_count": 21,
   "id": "25d3f4ed",
   "metadata": {},
   "outputs": [
    {
     "name": "stdout",
     "output_type": "stream",
     "text": [
      "<class 'pandas.core.frame.DataFrame'>\n",
      "Int64Index: 39164 entries, 0 to 39163\n",
      "Data columns (total 25 columns):\n",
      " #   Column                Non-Null Count  Dtype         \n",
      "---  ------                --------------  -----         \n",
      " 0   Year                  39072 non-null  float64       \n",
      " 1   Datetime              39072 non-null  datetime64[ns]\n",
      " 2   Stage                 39072 non-null  object        \n",
      " 3   Stadium               39072 non-null  object        \n",
      " 4   City                  39072 non-null  object        \n",
      " 5   Home Team Name        39072 non-null  object        \n",
      " 6   Home Team Goals       39072 non-null  float64       \n",
      " 7   Away Team Goals       39072 non-null  float64       \n",
      " 8   Away Team Name        39072 non-null  object        \n",
      " 9   Win conditions        39072 non-null  object        \n",
      " 10  Attendance            39072 non-null  float64       \n",
      " 11  Half-time Home Goals  39072 non-null  float64       \n",
      " 12  Half-time Away Goals  39072 non-null  float64       \n",
      " 13  Referee               39072 non-null  object        \n",
      " 14  Assistant 1           39072 non-null  object        \n",
      " 15  Assistant 2           39072 non-null  object        \n",
      " 16  RoundID               39164 non-null  float64       \n",
      " 17  MatchID               39164 non-null  float64       \n",
      " 18  Home Team Initials    39072 non-null  object        \n",
      " 19  Away Team Initials    39072 non-null  object        \n",
      " 20  Team Initials         39164 non-null  object        \n",
      " 21  Coach Name            39164 non-null  object        \n",
      " 22  Line-up               39164 non-null  object        \n",
      " 23  Shirt Number          39164 non-null  int64         \n",
      " 24  Player Name           39164 non-null  object        \n",
      "dtypes: datetime64[ns](1), float64(8), int64(1), object(15)\n",
      "memory usage: 7.8+ MB\n"
     ]
    }
   ],
   "source": [
    "merged_df.info()"
   ]
  },
  {
   "cell_type": "code",
   "execution_count": 22,
   "id": "03c8960d",
   "metadata": {},
   "outputs": [
    {
     "data": {
      "text/html": [
       "<div>\n",
       "<style scoped>\n",
       "    .dataframe tbody tr th:only-of-type {\n",
       "        vertical-align: middle;\n",
       "    }\n",
       "\n",
       "    .dataframe tbody tr th {\n",
       "        vertical-align: top;\n",
       "    }\n",
       "\n",
       "    .dataframe thead th {\n",
       "        text-align: right;\n",
       "    }\n",
       "</style>\n",
       "<table border=\"1\" class=\"dataframe\">\n",
       "  <thead>\n",
       "    <tr style=\"text-align: right;\">\n",
       "      <th></th>\n",
       "      <th>Year</th>\n",
       "      <th>Datetime</th>\n",
       "      <th>Stage</th>\n",
       "      <th>Stadium</th>\n",
       "      <th>City</th>\n",
       "      <th>Home Team Name</th>\n",
       "      <th>Home Team Goals</th>\n",
       "      <th>Away Team Goals</th>\n",
       "      <th>Away Team Name</th>\n",
       "      <th>Win conditions</th>\n",
       "      <th>...</th>\n",
       "      <th>Assistant 2</th>\n",
       "      <th>RoundID</th>\n",
       "      <th>MatchID</th>\n",
       "      <th>Home Team Initials</th>\n",
       "      <th>Away Team Initials</th>\n",
       "      <th>Team Initials</th>\n",
       "      <th>Coach Name</th>\n",
       "      <th>Line-up</th>\n",
       "      <th>Shirt Number</th>\n",
       "      <th>Player Name</th>\n",
       "    </tr>\n",
       "  </thead>\n",
       "  <tbody>\n",
       "    <tr>\n",
       "      <th>0</th>\n",
       "      <td>1930.0</td>\n",
       "      <td>1930-07-13 15:00:00</td>\n",
       "      <td>Group 1</td>\n",
       "      <td>Pocitos</td>\n",
       "      <td>Montevideo</td>\n",
       "      <td>France</td>\n",
       "      <td>4.0</td>\n",
       "      <td>1.0</td>\n",
       "      <td>Mexico</td>\n",
       "      <td></td>\n",
       "      <td>...</td>\n",
       "      <td>REGO Gilberto (BRA)</td>\n",
       "      <td>201.0</td>\n",
       "      <td>1096.0</td>\n",
       "      <td>FRA</td>\n",
       "      <td>MEX</td>\n",
       "      <td>FRA</td>\n",
       "      <td>CAUDRON Raoul (FRA)</td>\n",
       "      <td>S</td>\n",
       "      <td>0</td>\n",
       "      <td>Alex THEPOT</td>\n",
       "    </tr>\n",
       "    <tr>\n",
       "      <th>1</th>\n",
       "      <td>1930.0</td>\n",
       "      <td>1930-07-13 15:00:00</td>\n",
       "      <td>Group 1</td>\n",
       "      <td>Pocitos</td>\n",
       "      <td>Montevideo</td>\n",
       "      <td>France</td>\n",
       "      <td>4.0</td>\n",
       "      <td>1.0</td>\n",
       "      <td>Mexico</td>\n",
       "      <td></td>\n",
       "      <td>...</td>\n",
       "      <td>REGO Gilberto (BRA)</td>\n",
       "      <td>201.0</td>\n",
       "      <td>1096.0</td>\n",
       "      <td>FRA</td>\n",
       "      <td>MEX</td>\n",
       "      <td>MEX</td>\n",
       "      <td>LUQUE Juan (MEX)</td>\n",
       "      <td>S</td>\n",
       "      <td>0</td>\n",
       "      <td>Oscar BONFIGLIO</td>\n",
       "    </tr>\n",
       "    <tr>\n",
       "      <th>2</th>\n",
       "      <td>1930.0</td>\n",
       "      <td>1930-07-13 15:00:00</td>\n",
       "      <td>Group 1</td>\n",
       "      <td>Pocitos</td>\n",
       "      <td>Montevideo</td>\n",
       "      <td>France</td>\n",
       "      <td>4.0</td>\n",
       "      <td>1.0</td>\n",
       "      <td>Mexico</td>\n",
       "      <td></td>\n",
       "      <td>...</td>\n",
       "      <td>REGO Gilberto (BRA)</td>\n",
       "      <td>201.0</td>\n",
       "      <td>1096.0</td>\n",
       "      <td>FRA</td>\n",
       "      <td>MEX</td>\n",
       "      <td>FRA</td>\n",
       "      <td>CAUDRON Raoul (FRA)</td>\n",
       "      <td>S</td>\n",
       "      <td>0</td>\n",
       "      <td>Marcel LANGILLER</td>\n",
       "    </tr>\n",
       "    <tr>\n",
       "      <th>3</th>\n",
       "      <td>1930.0</td>\n",
       "      <td>1930-07-13 15:00:00</td>\n",
       "      <td>Group 1</td>\n",
       "      <td>Pocitos</td>\n",
       "      <td>Montevideo</td>\n",
       "      <td>France</td>\n",
       "      <td>4.0</td>\n",
       "      <td>1.0</td>\n",
       "      <td>Mexico</td>\n",
       "      <td></td>\n",
       "      <td>...</td>\n",
       "      <td>REGO Gilberto (BRA)</td>\n",
       "      <td>201.0</td>\n",
       "      <td>1096.0</td>\n",
       "      <td>FRA</td>\n",
       "      <td>MEX</td>\n",
       "      <td>MEX</td>\n",
       "      <td>LUQUE Juan (MEX)</td>\n",
       "      <td>S</td>\n",
       "      <td>0</td>\n",
       "      <td>Juan CARRENO</td>\n",
       "    </tr>\n",
       "    <tr>\n",
       "      <th>4</th>\n",
       "      <td>1930.0</td>\n",
       "      <td>1930-07-13 15:00:00</td>\n",
       "      <td>Group 1</td>\n",
       "      <td>Pocitos</td>\n",
       "      <td>Montevideo</td>\n",
       "      <td>France</td>\n",
       "      <td>4.0</td>\n",
       "      <td>1.0</td>\n",
       "      <td>Mexico</td>\n",
       "      <td></td>\n",
       "      <td>...</td>\n",
       "      <td>REGO Gilberto (BRA)</td>\n",
       "      <td>201.0</td>\n",
       "      <td>1096.0</td>\n",
       "      <td>FRA</td>\n",
       "      <td>MEX</td>\n",
       "      <td>FRA</td>\n",
       "      <td>CAUDRON Raoul (FRA)</td>\n",
       "      <td>S</td>\n",
       "      <td>0</td>\n",
       "      <td>Ernest LIBERATI</td>\n",
       "    </tr>\n",
       "  </tbody>\n",
       "</table>\n",
       "<p>5 rows × 25 columns</p>\n",
       "</div>"
      ],
      "text/plain": [
       "     Year            Datetime    Stage  Stadium         City Home Team Name  \\\n",
       "0  1930.0 1930-07-13 15:00:00  Group 1  Pocitos  Montevideo          France   \n",
       "1  1930.0 1930-07-13 15:00:00  Group 1  Pocitos  Montevideo          France   \n",
       "2  1930.0 1930-07-13 15:00:00  Group 1  Pocitos  Montevideo          France   \n",
       "3  1930.0 1930-07-13 15:00:00  Group 1  Pocitos  Montevideo          France   \n",
       "4  1930.0 1930-07-13 15:00:00  Group 1  Pocitos  Montevideo          France   \n",
       "\n",
       "   Home Team Goals  Away Team Goals Away Team Name Win conditions  ...  \\\n",
       "0              4.0              1.0         Mexico                 ...   \n",
       "1              4.0              1.0         Mexico                 ...   \n",
       "2              4.0              1.0         Mexico                 ...   \n",
       "3              4.0              1.0         Mexico                 ...   \n",
       "4              4.0              1.0         Mexico                 ...   \n",
       "\n",
       "           Assistant 2  RoundID  MatchID Home Team Initials  \\\n",
       "0  REGO Gilberto (BRA)    201.0   1096.0                FRA   \n",
       "1  REGO Gilberto (BRA)    201.0   1096.0                FRA   \n",
       "2  REGO Gilberto (BRA)    201.0   1096.0                FRA   \n",
       "3  REGO Gilberto (BRA)    201.0   1096.0                FRA   \n",
       "4  REGO Gilberto (BRA)    201.0   1096.0                FRA   \n",
       "\n",
       "  Away Team Initials Team Initials           Coach Name  Line-up Shirt Number  \\\n",
       "0                MEX           FRA  CAUDRON Raoul (FRA)        S            0   \n",
       "1                MEX           MEX     LUQUE Juan (MEX)        S            0   \n",
       "2                MEX           FRA  CAUDRON Raoul (FRA)        S            0   \n",
       "3                MEX           MEX     LUQUE Juan (MEX)        S            0   \n",
       "4                MEX           FRA  CAUDRON Raoul (FRA)        S            0   \n",
       "\n",
       "        Player Name  \n",
       "0       Alex THEPOT  \n",
       "1   Oscar BONFIGLIO  \n",
       "2  Marcel LANGILLER  \n",
       "3      Juan CARRENO  \n",
       "4   Ernest LIBERATI  \n",
       "\n",
       "[5 rows x 25 columns]"
      ]
     },
     "execution_count": 22,
     "metadata": {},
     "output_type": "execute_result"
    }
   ],
   "source": [
    "merged_df.head()"
   ]
  },
  {
   "cell_type": "code",
   "execution_count": 23,
   "id": "b12a6d32",
   "metadata": {},
   "outputs": [
    {
     "data": {
      "text/html": [
       "<div>\n",
       "<style scoped>\n",
       "    .dataframe tbody tr th:only-of-type {\n",
       "        vertical-align: middle;\n",
       "    }\n",
       "\n",
       "    .dataframe tbody tr th {\n",
       "        vertical-align: top;\n",
       "    }\n",
       "\n",
       "    .dataframe thead th {\n",
       "        text-align: right;\n",
       "    }\n",
       "</style>\n",
       "<table border=\"1\" class=\"dataframe\">\n",
       "  <thead>\n",
       "    <tr style=\"text-align: right;\">\n",
       "      <th></th>\n",
       "      <th>Year</th>\n",
       "      <th>Datetime</th>\n",
       "      <th>Stage</th>\n",
       "      <th>Stadium</th>\n",
       "      <th>City</th>\n",
       "      <th>Home Team Name</th>\n",
       "      <th>Home Team Goals</th>\n",
       "      <th>Away Team Goals</th>\n",
       "      <th>Away Team Name</th>\n",
       "      <th>Win conditions</th>\n",
       "      <th>Attendance</th>\n",
       "      <th>Half-time Home Goals</th>\n",
       "      <th>Half-time Away Goals</th>\n",
       "      <th>Referee</th>\n",
       "      <th>Assistant 1</th>\n",
       "      <th>Assistant 2</th>\n",
       "      <th>RoundID</th>\n",
       "      <th>MatchID</th>\n",
       "      <th>Home Team Initials</th>\n",
       "      <th>Away Team Initials</th>\n",
       "    </tr>\n",
       "  </thead>\n",
       "  <tbody>\n",
       "    <tr>\n",
       "      <th>0</th>\n",
       "      <td>1930.0</td>\n",
       "      <td>1930-07-13 15:00:00</td>\n",
       "      <td>Group 1</td>\n",
       "      <td>Pocitos</td>\n",
       "      <td>Montevideo</td>\n",
       "      <td>France</td>\n",
       "      <td>4.0</td>\n",
       "      <td>1.0</td>\n",
       "      <td>Mexico</td>\n",
       "      <td></td>\n",
       "      <td>4444.0</td>\n",
       "      <td>3.0</td>\n",
       "      <td>0.0</td>\n",
       "      <td>LOMBARDI Domingo (URU)</td>\n",
       "      <td>CRISTOPHE Henry (BEL)</td>\n",
       "      <td>REGO Gilberto (BRA)</td>\n",
       "      <td>201.0</td>\n",
       "      <td>1096.0</td>\n",
       "      <td>FRA</td>\n",
       "      <td>MEX</td>\n",
       "    </tr>\n",
       "    <tr>\n",
       "      <th>1</th>\n",
       "      <td>1930.0</td>\n",
       "      <td>1930-07-13 15:00:00</td>\n",
       "      <td>Group 4</td>\n",
       "      <td>Parque Central</td>\n",
       "      <td>Montevideo</td>\n",
       "      <td>USA</td>\n",
       "      <td>3.0</td>\n",
       "      <td>0.0</td>\n",
       "      <td>Belgium</td>\n",
       "      <td></td>\n",
       "      <td>18346.0</td>\n",
       "      <td>2.0</td>\n",
       "      <td>0.0</td>\n",
       "      <td>MACIAS Jose (ARG)</td>\n",
       "      <td>MATEUCCI Francisco (URU)</td>\n",
       "      <td>WARNKEN Alberto (CHI)</td>\n",
       "      <td>201.0</td>\n",
       "      <td>1090.0</td>\n",
       "      <td>USA</td>\n",
       "      <td>BEL</td>\n",
       "    </tr>\n",
       "    <tr>\n",
       "      <th>2</th>\n",
       "      <td>1930.0</td>\n",
       "      <td>1930-07-14 12:45:00</td>\n",
       "      <td>Group 2</td>\n",
       "      <td>Parque Central</td>\n",
       "      <td>Montevideo</td>\n",
       "      <td>Yugoslavia</td>\n",
       "      <td>2.0</td>\n",
       "      <td>1.0</td>\n",
       "      <td>Brazil</td>\n",
       "      <td></td>\n",
       "      <td>24059.0</td>\n",
       "      <td>2.0</td>\n",
       "      <td>0.0</td>\n",
       "      <td>TEJADA Anibal (URU)</td>\n",
       "      <td>VALLARINO Ricardo (URU)</td>\n",
       "      <td>BALWAY Thomas (FRA)</td>\n",
       "      <td>201.0</td>\n",
       "      <td>1093.0</td>\n",
       "      <td>YUG</td>\n",
       "      <td>BRA</td>\n",
       "    </tr>\n",
       "    <tr>\n",
       "      <th>3</th>\n",
       "      <td>1930.0</td>\n",
       "      <td>1930-07-14 14:50:00</td>\n",
       "      <td>Group 3</td>\n",
       "      <td>Pocitos</td>\n",
       "      <td>Montevideo</td>\n",
       "      <td>Romania</td>\n",
       "      <td>3.0</td>\n",
       "      <td>1.0</td>\n",
       "      <td>Peru</td>\n",
       "      <td></td>\n",
       "      <td>2549.0</td>\n",
       "      <td>1.0</td>\n",
       "      <td>0.0</td>\n",
       "      <td>WARNKEN Alberto (CHI)</td>\n",
       "      <td>LANGENUS Jean (BEL)</td>\n",
       "      <td>MATEUCCI Francisco (URU)</td>\n",
       "      <td>201.0</td>\n",
       "      <td>1098.0</td>\n",
       "      <td>ROU</td>\n",
       "      <td>PER</td>\n",
       "    </tr>\n",
       "    <tr>\n",
       "      <th>4</th>\n",
       "      <td>1930.0</td>\n",
       "      <td>1930-07-15 16:00:00</td>\n",
       "      <td>Group 1</td>\n",
       "      <td>Parque Central</td>\n",
       "      <td>Montevideo</td>\n",
       "      <td>Argentina</td>\n",
       "      <td>1.0</td>\n",
       "      <td>0.0</td>\n",
       "      <td>France</td>\n",
       "      <td></td>\n",
       "      <td>23409.0</td>\n",
       "      <td>0.0</td>\n",
       "      <td>0.0</td>\n",
       "      <td>REGO Gilberto (BRA)</td>\n",
       "      <td>SAUCEDO Ulises (BOL)</td>\n",
       "      <td>RADULESCU Constantin (ROU)</td>\n",
       "      <td>201.0</td>\n",
       "      <td>1085.0</td>\n",
       "      <td>ARG</td>\n",
       "      <td>FRA</td>\n",
       "    </tr>\n",
       "  </tbody>\n",
       "</table>\n",
       "</div>"
      ],
      "text/plain": [
       "     Year            Datetime    Stage         Stadium         City  \\\n",
       "0  1930.0 1930-07-13 15:00:00  Group 1         Pocitos  Montevideo    \n",
       "1  1930.0 1930-07-13 15:00:00  Group 4  Parque Central  Montevideo    \n",
       "2  1930.0 1930-07-14 12:45:00  Group 2  Parque Central  Montevideo    \n",
       "3  1930.0 1930-07-14 14:50:00  Group 3         Pocitos  Montevideo    \n",
       "4  1930.0 1930-07-15 16:00:00  Group 1  Parque Central  Montevideo    \n",
       "\n",
       "  Home Team Name  Home Team Goals  Away Team Goals Away Team Name  \\\n",
       "0         France              4.0              1.0         Mexico   \n",
       "1            USA              3.0              0.0        Belgium   \n",
       "2     Yugoslavia              2.0              1.0         Brazil   \n",
       "3        Romania              3.0              1.0           Peru   \n",
       "4      Argentina              1.0              0.0         France   \n",
       "\n",
       "  Win conditions  Attendance  Half-time Home Goals  Half-time Away Goals  \\\n",
       "0                     4444.0                   3.0                   0.0   \n",
       "1                    18346.0                   2.0                   0.0   \n",
       "2                    24059.0                   2.0                   0.0   \n",
       "3                     2549.0                   1.0                   0.0   \n",
       "4                    23409.0                   0.0                   0.0   \n",
       "\n",
       "                  Referee               Assistant 1  \\\n",
       "0  LOMBARDI Domingo (URU)     CRISTOPHE Henry (BEL)   \n",
       "1       MACIAS Jose (ARG)  MATEUCCI Francisco (URU)   \n",
       "2     TEJADA Anibal (URU)   VALLARINO Ricardo (URU)   \n",
       "3   WARNKEN Alberto (CHI)       LANGENUS Jean (BEL)   \n",
       "4     REGO Gilberto (BRA)      SAUCEDO Ulises (BOL)   \n",
       "\n",
       "                  Assistant 2  RoundID  MatchID Home Team Initials  \\\n",
       "0         REGO Gilberto (BRA)    201.0   1096.0                FRA   \n",
       "1       WARNKEN Alberto (CHI)    201.0   1090.0                USA   \n",
       "2         BALWAY Thomas (FRA)    201.0   1093.0                YUG   \n",
       "3    MATEUCCI Francisco (URU)    201.0   1098.0                ROU   \n",
       "4  RADULESCU Constantin (ROU)    201.0   1085.0                ARG   \n",
       "\n",
       "  Away Team Initials  \n",
       "0                MEX  \n",
       "1                BEL  \n",
       "2                BRA  \n",
       "3                PER  \n",
       "4                FRA  "
      ]
     },
     "execution_count": 23,
     "metadata": {},
     "output_type": "execute_result"
    }
   ],
   "source": [
    "matches.head()"
   ]
  },
  {
   "cell_type": "code",
   "execution_count": 27,
   "id": "cd17bab7",
   "metadata": {},
   "outputs": [],
   "source": [
    "grouped=matches[['Year','MatchID']].groupby('Year')['MatchID'].count().reset_index()"
   ]
  },
  {
   "cell_type": "code",
   "execution_count": 28,
   "id": "cc294207",
   "metadata": {},
   "outputs": [
    {
     "data": {
      "text/html": [
       "<div>\n",
       "<style scoped>\n",
       "    .dataframe tbody tr th:only-of-type {\n",
       "        vertical-align: middle;\n",
       "    }\n",
       "\n",
       "    .dataframe tbody tr th {\n",
       "        vertical-align: top;\n",
       "    }\n",
       "\n",
       "    .dataframe thead th {\n",
       "        text-align: right;\n",
       "    }\n",
       "</style>\n",
       "<table border=\"1\" class=\"dataframe\">\n",
       "  <thead>\n",
       "    <tr style=\"text-align: right;\">\n",
       "      <th></th>\n",
       "      <th>Year</th>\n",
       "      <th>MatchID</th>\n",
       "    </tr>\n",
       "  </thead>\n",
       "  <tbody>\n",
       "    <tr>\n",
       "      <th>0</th>\n",
       "      <td>1930.0</td>\n",
       "      <td>18</td>\n",
       "    </tr>\n",
       "    <tr>\n",
       "      <th>1</th>\n",
       "      <td>1934.0</td>\n",
       "      <td>17</td>\n",
       "    </tr>\n",
       "    <tr>\n",
       "      <th>2</th>\n",
       "      <td>1938.0</td>\n",
       "      <td>18</td>\n",
       "    </tr>\n",
       "    <tr>\n",
       "      <th>3</th>\n",
       "      <td>1950.0</td>\n",
       "      <td>22</td>\n",
       "    </tr>\n",
       "    <tr>\n",
       "      <th>4</th>\n",
       "      <td>1954.0</td>\n",
       "      <td>26</td>\n",
       "    </tr>\n",
       "    <tr>\n",
       "      <th>5</th>\n",
       "      <td>1958.0</td>\n",
       "      <td>35</td>\n",
       "    </tr>\n",
       "    <tr>\n",
       "      <th>6</th>\n",
       "      <td>1962.0</td>\n",
       "      <td>32</td>\n",
       "    </tr>\n",
       "    <tr>\n",
       "      <th>7</th>\n",
       "      <td>1966.0</td>\n",
       "      <td>32</td>\n",
       "    </tr>\n",
       "    <tr>\n",
       "      <th>8</th>\n",
       "      <td>1970.0</td>\n",
       "      <td>32</td>\n",
       "    </tr>\n",
       "    <tr>\n",
       "      <th>9</th>\n",
       "      <td>1974.0</td>\n",
       "      <td>38</td>\n",
       "    </tr>\n",
       "    <tr>\n",
       "      <th>10</th>\n",
       "      <td>1978.0</td>\n",
       "      <td>38</td>\n",
       "    </tr>\n",
       "    <tr>\n",
       "      <th>11</th>\n",
       "      <td>1982.0</td>\n",
       "      <td>52</td>\n",
       "    </tr>\n",
       "    <tr>\n",
       "      <th>12</th>\n",
       "      <td>1986.0</td>\n",
       "      <td>52</td>\n",
       "    </tr>\n",
       "    <tr>\n",
       "      <th>13</th>\n",
       "      <td>1990.0</td>\n",
       "      <td>52</td>\n",
       "    </tr>\n",
       "    <tr>\n",
       "      <th>14</th>\n",
       "      <td>1994.0</td>\n",
       "      <td>52</td>\n",
       "    </tr>\n",
       "    <tr>\n",
       "      <th>15</th>\n",
       "      <td>1998.0</td>\n",
       "      <td>64</td>\n",
       "    </tr>\n",
       "    <tr>\n",
       "      <th>16</th>\n",
       "      <td>2002.0</td>\n",
       "      <td>64</td>\n",
       "    </tr>\n",
       "    <tr>\n",
       "      <th>17</th>\n",
       "      <td>2006.0</td>\n",
       "      <td>64</td>\n",
       "    </tr>\n",
       "    <tr>\n",
       "      <th>18</th>\n",
       "      <td>2010.0</td>\n",
       "      <td>64</td>\n",
       "    </tr>\n",
       "    <tr>\n",
       "      <th>19</th>\n",
       "      <td>2014.0</td>\n",
       "      <td>78</td>\n",
       "    </tr>\n",
       "  </tbody>\n",
       "</table>\n",
       "</div>"
      ],
      "text/plain": [
       "      Year  MatchID\n",
       "0   1930.0       18\n",
       "1   1934.0       17\n",
       "2   1938.0       18\n",
       "3   1950.0       22\n",
       "4   1954.0       26\n",
       "5   1958.0       35\n",
       "6   1962.0       32\n",
       "7   1966.0       32\n",
       "8   1970.0       32\n",
       "9   1974.0       38\n",
       "10  1978.0       38\n",
       "11  1982.0       52\n",
       "12  1986.0       52\n",
       "13  1990.0       52\n",
       "14  1994.0       52\n",
       "15  1998.0       64\n",
       "16  2002.0       64\n",
       "17  2006.0       64\n",
       "18  2010.0       64\n",
       "19  2014.0       78"
      ]
     },
     "execution_count": 28,
     "metadata": {},
     "output_type": "execute_result"
    }
   ],
   "source": [
    "grouped"
   ]
  },
  {
   "cell_type": "code",
   "execution_count": 30,
   "id": "dff71c00",
   "metadata": {},
   "outputs": [
    {
     "data": {
      "image/png": "[encoded data removed]",
      "text/plain": [
       "<Figure size 2000x500 with 1 Axes>"
      ]
     },
     "metadata": {},
     "output_type": "display_data"
    }
   ],
   "source": [
    "plt.figure(figsize=(20,5))\n",
    "sns.barplot(x=grouped['Year'],y=grouped['MatchID'])\n",
    "plt.xlabel('Year')\n",
    "plt.ylabel('Number of matches')\n",
    "plt.title('Total number of matches played per year')\n",
    "plt.show()"
   ]
  },
  {
   "cell_type": "code",
   "execution_count": 32,
   "id": "9ff02584",
   "metadata": {},
   "outputs": [],
   "source": [
    "grouped=matches[['Year','Attendance']].groupby('Year')['Attendance'].sum().reset_index()"
   ]
  },
  {
   "cell_type": "code",
   "execution_count": 33,
   "id": "989da50b",
   "metadata": {},
   "outputs": [
    {
     "data": {
      "text/html": [
       "<div>\n",
       "<style scoped>\n",
       "    .dataframe tbody tr th:only-of-type {\n",
       "        vertical-align: middle;\n",
       "    }\n",
       "\n",
       "    .dataframe tbody tr th {\n",
       "        vertical-align: top;\n",
       "    }\n",
       "\n",
       "    .dataframe thead th {\n",
       "        text-align: right;\n",
       "    }\n",
       "</style>\n",
       "<table border=\"1\" class=\"dataframe\">\n",
       "  <thead>\n",
       "    <tr style=\"text-align: right;\">\n",
       "      <th></th>\n",
       "      <th>Year</th>\n",
       "      <th>Attendance</th>\n",
       "    </tr>\n",
       "  </thead>\n",
       "  <tbody>\n",
       "    <tr>\n",
       "      <th>0</th>\n",
       "      <td>1930.0</td>\n",
       "      <td>590549.0</td>\n",
       "    </tr>\n",
       "    <tr>\n",
       "      <th>1</th>\n",
       "      <td>1934.0</td>\n",
       "      <td>363000.0</td>\n",
       "    </tr>\n",
       "    <tr>\n",
       "      <th>2</th>\n",
       "      <td>1938.0</td>\n",
       "      <td>375700.0</td>\n",
       "    </tr>\n",
       "    <tr>\n",
       "      <th>3</th>\n",
       "      <td>1950.0</td>\n",
       "      <td>1045246.0</td>\n",
       "    </tr>\n",
       "    <tr>\n",
       "      <th>4</th>\n",
       "      <td>1954.0</td>\n",
       "      <td>768607.0</td>\n",
       "    </tr>\n",
       "    <tr>\n",
       "      <th>5</th>\n",
       "      <td>1958.0</td>\n",
       "      <td>819810.0</td>\n",
       "    </tr>\n",
       "    <tr>\n",
       "      <th>6</th>\n",
       "      <td>1962.0</td>\n",
       "      <td>893172.0</td>\n",
       "    </tr>\n",
       "    <tr>\n",
       "      <th>7</th>\n",
       "      <td>1966.0</td>\n",
       "      <td>1563135.0</td>\n",
       "    </tr>\n",
       "    <tr>\n",
       "      <th>8</th>\n",
       "      <td>1970.0</td>\n",
       "      <td>1603975.0</td>\n",
       "    </tr>\n",
       "    <tr>\n",
       "      <th>9</th>\n",
       "      <td>1974.0</td>\n",
       "      <td>1865753.0</td>\n",
       "    </tr>\n",
       "    <tr>\n",
       "      <th>10</th>\n",
       "      <td>1978.0</td>\n",
       "      <td>1545791.0</td>\n",
       "    </tr>\n",
       "    <tr>\n",
       "      <th>11</th>\n",
       "      <td>1982.0</td>\n",
       "      <td>2109723.0</td>\n",
       "    </tr>\n",
       "    <tr>\n",
       "      <th>12</th>\n",
       "      <td>1986.0</td>\n",
       "      <td>2394031.0</td>\n",
       "    </tr>\n",
       "    <tr>\n",
       "      <th>13</th>\n",
       "      <td>1990.0</td>\n",
       "      <td>2516215.0</td>\n",
       "    </tr>\n",
       "    <tr>\n",
       "      <th>14</th>\n",
       "      <td>1994.0</td>\n",
       "      <td>3587538.0</td>\n",
       "    </tr>\n",
       "    <tr>\n",
       "      <th>15</th>\n",
       "      <td>1998.0</td>\n",
       "      <td>2785100.0</td>\n",
       "    </tr>\n",
       "    <tr>\n",
       "      <th>16</th>\n",
       "      <td>2002.0</td>\n",
       "      <td>2705197.0</td>\n",
       "    </tr>\n",
       "    <tr>\n",
       "      <th>17</th>\n",
       "      <td>2006.0</td>\n",
       "      <td>3359439.0</td>\n",
       "    </tr>\n",
       "    <tr>\n",
       "      <th>18</th>\n",
       "      <td>2010.0</td>\n",
       "      <td>3178856.0</td>\n",
       "    </tr>\n",
       "    <tr>\n",
       "      <th>19</th>\n",
       "      <td>2014.0</td>\n",
       "      <td>4319243.0</td>\n",
       "    </tr>\n",
       "  </tbody>\n",
       "</table>\n",
       "</div>"
      ],
      "text/plain": [
       "      Year  Attendance\n",
       "0   1930.0    590549.0\n",
       "1   1934.0    363000.0\n",
       "2   1938.0    375700.0\n",
       "3   1950.0   1045246.0\n",
       "4   1954.0    768607.0\n",
       "5   1958.0    819810.0\n",
       "6   1962.0    893172.0\n",
       "7   1966.0   1563135.0\n",
       "8   1970.0   1603975.0\n",
       "9   1974.0   1865753.0\n",
       "10  1978.0   1545791.0\n",
       "11  1982.0   2109723.0\n",
       "12  1986.0   2394031.0\n",
       "13  1990.0   2516215.0\n",
       "14  1994.0   3587538.0\n",
       "15  1998.0   2785100.0\n",
       "16  2002.0   2705197.0\n",
       "17  2006.0   3359439.0\n",
       "18  2010.0   3178856.0\n",
       "19  2014.0   4319243.0"
      ]
     },
     "execution_count": 33,
     "metadata": {},
     "output_type": "execute_result"
    }
   ],
   "source": [
    "grouped"
   ]
  },
  {
   "cell_type": "code",
   "execution_count": 35,
   "id": "abee0813",
   "metadata": {},
   "outputs": [
    {
     "data": {
      "image/png": "[encoded data removed]",
      "text/plain": [
       "<Figure size 2000x500 with 1 Axes>"
      ]
     },
     "metadata": {},
     "output_type": "display_data"
    }
   ],
   "source": [
    "plt.figure(figsize=(20,5))\n",
    "sns.barplot(x=grouped['Year'],y=grouped['Attendance'])\n",
    "plt.xlabel('Year')\n",
    "plt.ylabel('Total attendance')\n",
    "plt.title('Total number of attendance per year')\n",
    "plt.show()"
   ]
  },
  {
   "cell_type": "code",
   "execution_count": 40,
   "id": "a20bb8d6",
   "metadata": {},
   "outputs": [],
   "source": [
    "grouped=matches[['City','MatchID']].groupby('City')['MatchID'].count().reset_index().sort_values('MatchID',ascending=False)"
   ]
  },
  {
   "cell_type": "code",
   "execution_count": 41,
   "id": "a24416e1",
   "metadata": {},
   "outputs": [
    {
     "data": {
      "text/html": [
       "<div>\n",
       "<style scoped>\n",
       "    .dataframe tbody tr th:only-of-type {\n",
       "        vertical-align: middle;\n",
       "    }\n",
       "\n",
       "    .dataframe tbody tr th {\n",
       "        vertical-align: top;\n",
       "    }\n",
       "\n",
       "    .dataframe thead th {\n",
       "        text-align: right;\n",
       "    }\n",
       "</style>\n",
       "<table border=\"1\" class=\"dataframe\">\n",
       "  <thead>\n",
       "    <tr style=\"text-align: right;\">\n",
       "      <th></th>\n",
       "      <th>City</th>\n",
       "      <th>MatchID</th>\n",
       "    </tr>\n",
       "  </thead>\n",
       "  <tbody>\n",
       "    <tr>\n",
       "      <th>79</th>\n",
       "      <td>Mexico City</td>\n",
       "      <td>23</td>\n",
       "    </tr>\n",
       "    <tr>\n",
       "      <th>83</th>\n",
       "      <td>Montevideo</td>\n",
       "      <td>18</td>\n",
       "    </tr>\n",
       "    <tr>\n",
       "      <th>112</th>\n",
       "      <td>Rio De Janeiro</td>\n",
       "      <td>18</td>\n",
       "    </tr>\n",
       "    <tr>\n",
       "      <th>44</th>\n",
       "      <td>Guadalajara</td>\n",
       "      <td>17</td>\n",
       "    </tr>\n",
       "    <tr>\n",
       "      <th>55</th>\n",
       "      <td>Johannesburg</td>\n",
       "      <td>15</td>\n",
       "    </tr>\n",
       "    <tr>\n",
       "      <th>...</th>\n",
       "      <td>...</td>\n",
       "      <td>...</td>\n",
       "    </tr>\n",
       "    <tr>\n",
       "      <th>64</th>\n",
       "      <td>Lille</td>\n",
       "      <td>1</td>\n",
       "    </tr>\n",
       "    <tr>\n",
       "      <th>68</th>\n",
       "      <td>Lugano</td>\n",
       "      <td>1</td>\n",
       "    </tr>\n",
       "    <tr>\n",
       "      <th>1</th>\n",
       "      <td>Antibes</td>\n",
       "      <td>1</td>\n",
       "    </tr>\n",
       "    <tr>\n",
       "      <th>35</th>\n",
       "      <td>Eskilstuna</td>\n",
       "      <td>1</td>\n",
       "    </tr>\n",
       "    <tr>\n",
       "      <th>129</th>\n",
       "      <td>Strasbourg</td>\n",
       "      <td>1</td>\n",
       "    </tr>\n",
       "  </tbody>\n",
       "</table>\n",
       "<p>151 rows × 2 columns</p>\n",
       "</div>"
      ],
      "text/plain": [
       "                City  MatchID\n",
       "79      Mexico City        23\n",
       "83       Montevideo        18\n",
       "112  Rio De Janeiro        18\n",
       "44      Guadalajara        17\n",
       "55     Johannesburg        15\n",
       "..               ...      ...\n",
       "64            Lille         1\n",
       "68           Lugano         1\n",
       "1           Antibes         1\n",
       "35       Eskilstuna         1\n",
       "129      Strasbourg         1\n",
       "\n",
       "[151 rows x 2 columns]"
      ]
     },
     "execution_count": 41,
     "metadata": {},
     "output_type": "execute_result"
    }
   ],
   "source": [
    "grouped"
   ]
  },
  {
   "cell_type": "code",
   "execution_count": 48,
   "id": "6504bbea",
   "metadata": {},
   "outputs": [
    {
     "name": "stdout",
     "output_type": "stream",
     "text": [
      "Collecting geopandas\n",
      "  Downloading geopandas-0.14.3-py3-none-any.whl (1.1 MB)\n",
      "     ---------------------------------------- 1.1/1.1 MB 4.1 MB/s eta 0:00:00\n",
      "Requirement already satisfied: matplotlib in c:\\users\\shock\\anaconda3\\lib\\site-packages (3.5.2)\n",
      "Requirement already satisfied: packaging in c:\\users\\shock\\anaconda3\\lib\\site-packages (from geopandas) (21.3)\n",
      "Requirement already satisfied: pandas>=1.4.0 in c:\\users\\shock\\anaconda3\\lib\\site-packages (from geopandas) (1.4.4)\n",
      "Collecting shapely>=1.8.0\n",
      "  Downloading shapely-2.0.4-cp39-cp39-win_amd64.whl (1.4 MB)\n",
      "     ---------------------------------------- 1.4/1.4 MB 5.1 MB/s eta 0:00:00\n",
      "Collecting fiona>=1.8.21\n",
      "  Downloading fiona-1.9.6-cp39-cp39-win_amd64.whl (22.9 MB)\n",
      "     ---------------------------------------- 22.9/22.9 MB 6.1 MB/s eta 0:00:00\n",
      "Collecting pyproj>=3.3.0\n",
      "  Downloading pyproj-3.6.1-cp39-cp39-win_amd64.whl (6.1 MB)\n",
      "     ---------------------------------------- 6.1/6.1 MB 9.0 MB/s eta 0:00:00\n",
      "Requirement already satisfied: python-dateutil>=2.7 in c:\\users\\shock\\anaconda3\\lib\\site-packages (from matplotlib) (2.8.2)\n",
      "Requirement already satisfied: pyparsing>=2.2.1 in c:\\users\\shock\\anaconda3\\lib\\site-packages (from matplotlib) (3.0.9)\n",
      "Requirement already satisfied: pillow>=6.2.0 in c:\\users\\shock\\anaconda3\\lib\\site-packages (from matplotlib) (9.2.0)\n",
      "Requirement already satisfied: fonttools>=4.22.0 in c:\\users\\shock\\anaconda3\\lib\\site-packages (from matplotlib) (4.25.0)\n",
      "Requirement already satisfied: cycler>=0.10 in c:\\users\\shock\\anaconda3\\lib\\site-packages (from matplotlib) (0.11.0)\n",
      "Requirement already satisfied: numpy>=1.17 in c:\\users\\shock\\anaconda3\\lib\\site-packages (from matplotlib) (1.24.4)\n",
      "Requirement already satisfied: kiwisolver>=1.0.1 in c:\\users\\shock\\anaconda3\\lib\\site-packages (from matplotlib) (1.4.2)\n",
      "Requirement already satisfied: attrs>=19.2.0 in c:\\users\\shock\\anaconda3\\lib\\site-packages (from fiona>=1.8.21->geopandas) (21.4.0)\n",
      "Collecting click-plugins>=1.0\n",
      "  Downloading click_plugins-1.1.1-py2.py3-none-any.whl (7.5 kB)\n",
      "Requirement already satisfied: six in c:\\users\\shock\\anaconda3\\lib\\site-packages (from fiona>=1.8.21->geopandas) (1.16.0)\n",
      "Collecting cligj>=0.5\n",
      "  Downloading cligj-0.7.2-py3-none-any.whl (7.1 kB)\n",
      "Requirement already satisfied: importlib-metadata in c:\\users\\shock\\anaconda3\\lib\\site-packages (from fiona>=1.8.21->geopandas) (4.11.3)\n",
      "Requirement already satisfied: certifi in c:\\users\\shock\\anaconda3\\lib\\site-packages (from fiona>=1.8.21->geopandas) (2022.9.14)\n",
      "Requirement already satisfied: click~=8.0 in c:\\users\\shock\\anaconda3\\lib\\site-packages (from fiona>=1.8.21->geopandas) (8.1.7)\n",
      "Requirement already satisfied: pytz>=2020.1 in c:\\users\\shock\\anaconda3\\lib\\site-packages (from pandas>=1.4.0->geopandas) (2022.1)\n",
      "Requirement already satisfied: colorama in c:\\users\\shock\\anaconda3\\lib\\site-packages (from click~=8.0->fiona>=1.8.21->geopandas) (0.4.5)\n",
      "Requirement already satisfied: zipp>=0.5 in c:\\users\\shock\\anaconda3\\lib\\site-packages (from importlib-metadata->fiona>=1.8.21->geopandas) (3.8.0)\n",
      "Installing collected packages: shapely, pyproj, cligj, click-plugins, fiona, geopandas\n",
      "Successfully installed click-plugins-1.1.1 cligj-0.7.2 fiona-1.9.6 geopandas-0.14.3 pyproj-3.6.1 shapely-2.0.4\n",
      "Note: you may need to restart the kernel to use updated packages.\n"
     ]
    }
   ],
   "source": [
    "pip install geopandas matplotlib"
   ]
  },
  {
   "cell_type": "code",
   "execution_count": 51,
   "id": "871ff83b",
   "metadata": {},
   "outputs": [
    {
     "data": {
      "application/vnd.plotly.v1+json": {
       "config": {
        "plotlyServerURL": "https://plot.ly"
       },
       "data": [
        {
         "geo": "geo",
         "hovertemplate": "City=%{location}<br>MatchID=%{marker.size}<extra></extra>",
         "legendgroup": "Mexico City ",
         "locationmode": "country names",
         "locations": [
          "Mexico City "
         ],
         "marker": {
          "color": "#636efa",
          "size": [
           23
          ],
          "sizemode": "area",
          "sizeref": 0.0575,
          "symbol": "circle"
         },
         "mode": "markers",
         "name": "Mexico City ",
         "showlegend": true,
         "type": "scattergeo"
        },
        {
         "geo": "geo",
         "hovertemplate": "City=%{location}<br>MatchID=%{marker.size}<extra></extra>",
         "legendgroup": "Montevideo ",
         "locationmode": "country names",
         "locations": [
          "Montevideo "
         ],
         "marker": {
          "color": "#EF553B",
          "size": [
           18
          ],
          "sizemode": "area",
          "sizeref": 0.0575,
          "symbol": "circle"
         },
         "mode": "markers",
         "name": "Montevideo ",
         "showlegend": true,
         "type": "scattergeo"
        },
        {
         "geo": "geo",
         "hovertemplate": "City=%{location}<br>MatchID=%{marker.size}<extra></extra>",
         "legendgroup": "Rio De Janeiro ",
         "locationmode": "country names",
         "locations": [
          "Rio De Janeiro "
         ],
         "marker": {
          "color": "#00cc96",
          "size": [
           18
          ],
          "sizemode": "area",
          "sizeref": 0.0575,
          "symbol": "circle"
         },
         "mode": "markers",
         "name": "Rio De Janeiro ",
         "showlegend": true,
         "type": "scattergeo"
        },
        {
         "geo": "geo",
         "hovertemplate": "City=%{location}<br>MatchID=%{marker.size}<extra></extra>",
         "legendgroup": "Guadalajara ",
         "locationmode": "country names",
         "locations": [
          "Guadalajara "
         ],
         "marker": {
          "color": "#ab63fa",
          "size": [
           17
          ],
          "sizemode": "area",
          "sizeref": 0.0575,
          "symbol": "circle"
         },
         "mode": "markers",
         "name": "Guadalajara ",
         "showlegend": true,
         "type": "scattergeo"
        },
        {
         "geo": "geo",
         "hovertemplate": "City=%{location}<br>MatchID=%{marker.size}<extra></extra>",
         "legendgroup": "Johannesburg ",
         "locationmode": "country names",
         "locations": [
          "Johannesburg "
         ],
         "marker": {
          "color": "#FFA15A",
          "size": [
           15
          ],
          "sizemode": "area",
          "sizeref": 0.0575,
          "symbol": "circle"
         },
         "mode": "markers",
         "name": "Johannesburg ",
         "showlegend": true,
         "type": "scattergeo"
        },
        {
         "geo": "geo",
         "hovertemplate": "City=%{location}<br>MatchID=%{marker.size}<extra></extra>",
         "legendgroup": "Sao Paulo ",
         "locationmode": "country names",
         "locations": [
          "Sao Paulo "
         ],
         "marker": {
          "color": "#19d3f3",
          "size": [
           14
          ],
          "sizemode": "area",
          "sizeref": 0.0575,
          "symbol": "circle"
         },
         "mode": "markers",
         "name": "Sao Paulo ",
         "showlegend": true,
         "type": "scattergeo"
        },
        {
         "geo": "geo",
         "hovertemplate": "City=%{location}<br>MatchID=%{marker.size}<extra></extra>",
         "legendgroup": "Buenos Aires ",
         "locationmode": "country names",
         "locations": [
          "Buenos Aires "
         ],
         "marker": {
          "color": "#FF6692",
          "size": [
           12
          ],
          "sizemode": "area",
          "sizeref": 0.0575,
          "symbol": "circle"
         },
         "mode": "markers",
         "name": "Buenos Aires ",
         "showlegend": true,
         "type": "scattergeo"
        },
        {
         "geo": "geo",
         "hovertemplate": "City=%{location}<br>MatchID=%{marker.size}<extra></extra>",
         "legendgroup": "Belo Horizonte ",
         "locationmode": "country names",
         "locations": [
          "Belo Horizonte "
         ],
         "marker": {
          "color": "#B6E880",
          "size": [
           11
          ],
          "sizemode": "area",
          "sizeref": 0.0575,
          "symbol": "circle"
         },
         "mode": "markers",
         "name": "Belo Horizonte ",
         "showlegend": true,
         "type": "scattergeo"
        },
        {
         "geo": "geo",
         "hovertemplate": "City=%{location}<br>MatchID=%{marker.size}<extra></extra>",
         "legendgroup": "Munich ",
         "locationmode": "country names",
         "locations": [
          "Munich "
         ],
         "marker": {
          "color": "#FF97FF",
          "size": [
           11
          ],
          "sizemode": "area",
          "sizeref": 0.0575,
          "symbol": "circle"
         },
         "mode": "markers",
         "name": "Munich ",
         "showlegend": true,
         "type": "scattergeo"
        },
        {
         "geo": "geo",
         "hovertemplate": "City=%{location}<br>MatchID=%{marker.size}<extra></extra>",
         "legendgroup": "Leon ",
         "locationmode": "country names",
         "locations": [
          "Leon "
         ],
         "marker": {
          "color": "#FECB52",
          "size": [
           11
          ],
          "sizemode": "area",
          "sizeref": 0.0575,
          "symbol": "circle"
         },
         "mode": "markers",
         "name": "Leon ",
         "showlegend": true,
         "type": "scattergeo"
        },
        {
         "geo": "geo",
         "hovertemplate": "City=%{location}<br>MatchID=%{marker.size}<extra></extra>",
         "legendgroup": "Dortmund ",
         "locationmode": "country names",
         "locations": [
          "Dortmund "
         ],
         "marker": {
          "color": "#636efa",
          "size": [
           10
          ],
          "sizemode": "area",
          "sizeref": 0.0575,
          "symbol": "circle"
         },
         "mode": "markers",
         "name": "Dortmund ",
         "showlegend": true,
         "type": "scattergeo"
        },
        {
         "geo": "geo",
         "hovertemplate": "City=%{location}<br>MatchID=%{marker.size}<extra></extra>",
         "legendgroup": "London ",
         "locationmode": "country names",
         "locations": [
          "London "
         ],
         "marker": {
          "color": "#EF553B",
          "size": [
           10
          ],
          "sizemode": "area",
          "sizeref": 0.0575,
          "symbol": "circle"
         },
         "mode": "markers",
         "name": "London ",
         "showlegend": true,
         "type": "scattergeo"
        },
        {
         "geo": "geo",
         "hovertemplate": "City=%{location}<br>MatchID=%{marker.size}<extra></extra>",
         "legendgroup": "Stuttgart ",
         "locationmode": "country names",
         "locations": [
          "Stuttgart "
         ],
         "marker": {
          "color": "#00cc96",
          "size": [
           10
          ],
          "sizemode": "area",
          "sizeref": 0.0575,
          "symbol": "circle"
         },
         "mode": "markers",
         "name": "Stuttgart ",
         "showlegend": true,
         "type": "scattergeo"
        },
        {
         "geo": "geo",
         "hovertemplate": "City=%{location}<br>MatchID=%{marker.size}<extra></extra>",
         "legendgroup": "Santiago De Chile ",
         "locationmode": "country names",
         "locations": [
          "Santiago De Chile "
         ],
         "marker": {
          "color": "#ab63fa",
          "size": [
           10
          ],
          "sizemode": "area",
          "sizeref": 0.0575,
          "symbol": "circle"
         },
         "mode": "markers",
         "name": "Santiago De Chile ",
         "showlegend": true,
         "type": "scattergeo"
        },
        {
         "geo": "geo",
         "hovertemplate": "City=%{location}<br>MatchID=%{marker.size}<extra></extra>",
         "legendgroup": "Gelsenkirchen ",
         "locationmode": "country names",
         "locations": [
          "Gelsenkirchen "
         ],
         "marker": {
          "color": "#FFA15A",
          "size": [
           10
          ],
          "sizemode": "area",
          "sizeref": 0.0575,
          "symbol": "circle"
         },
         "mode": "markers",
         "name": "Gelsenkirchen ",
         "showlegend": true,
         "type": "scattergeo"
        },
        {
         "geo": "geo",
         "hovertemplate": "City=%{location}<br>MatchID=%{marker.size}<extra></extra>",
         "legendgroup": "Frankfurt/Main ",
         "locationmode": "country names",
         "locations": [
          "Frankfurt/Main "
         ],
         "marker": {
          "color": "#19d3f3",
          "size": [
           10
          ],
          "sizemode": "area",
          "sizeref": 0.0575,
          "symbol": "circle"
         },
         "mode": "markers",
         "name": "Frankfurt/Main ",
         "showlegend": true,
         "type": "scattergeo"
        },
        {
         "geo": "geo",
         "hovertemplate": "City=%{location}<br>MatchID=%{marker.size}<extra></extra>",
         "legendgroup": "Brasilia ",
         "locationmode": "country names",
         "locations": [
          "Brasilia "
         ],
         "marker": {
          "color": "#FF6692",
          "size": [
           10
          ],
          "sizemode": "area",
          "sizeref": 0.0575,
          "symbol": "circle"
         },
         "mode": "markers",
         "name": "Brasilia ",
         "showlegend": true,
         "type": "scattergeo"
        },
        {
         "geo": "geo",
         "hovertemplate": "City=%{location}<br>MatchID=%{marker.size}<extra></extra>",
         "legendgroup": "Rome ",
         "locationmode": "country names",
         "locations": [
          "Rome "
         ],
         "marker": {
          "color": "#B6E880",
          "size": [
           9
          ],
          "sizemode": "area",
          "sizeref": 0.0575,
          "symbol": "circle"
         },
         "mode": "markers",
         "name": "Rome ",
         "showlegend": true,
         "type": "scattergeo"
        },
        {
         "geo": "geo",
         "hovertemplate": "City=%{location}<br>MatchID=%{marker.size}<extra></extra>",
         "legendgroup": "Bordeaux ",
         "locationmode": "country names",
         "locations": [
          "Bordeaux "
         ],
         "marker": {
          "color": "#FF97FF",
          "size": [
           9
          ],
          "sizemode": "area",
          "sizeref": 0.0575,
          "symbol": "circle"
         },
         "mode": "markers",
         "name": "Bordeaux ",
         "showlegend": true,
         "type": "scattergeo"
        },
        {
         "geo": "geo",
         "hovertemplate": "City=%{location}<br>MatchID=%{marker.size}<extra></extra>",
         "legendgroup": "Saint-Denis ",
         "locationmode": "country names",
         "locations": [
          "Saint-Denis "
         ],
         "marker": {
          "color": "#FECB52",
          "size": [
           9
          ],
          "sizemode": "area",
          "sizeref": 0.0575,
          "symbol": "circle"
         },
         "mode": "markers",
         "name": "Saint-Denis ",
         "showlegend": true,
         "type": "scattergeo"
        },
        {
         "geo": "geo",
         "hovertemplate": "City=%{location}<br>MatchID=%{marker.size}<extra></extra>",
         "legendgroup": "Marseilles ",
         "locationmode": "country names",
         "locations": [
          "Marseilles "
         ],
         "marker": {
          "color": "#636efa",
          "size": [
           9
          ],
          "sizemode": "area",
          "sizeref": 0.0575,
          "symbol": "circle"
         },
         "mode": "markers",
         "name": "Marseilles ",
         "showlegend": true,
         "type": "scattergeo"
        },
        {
         "geo": "geo",
         "hovertemplate": "City=%{location}<br>MatchID=%{marker.size}<extra></extra>",
         "legendgroup": "Paris ",
         "locationmode": "country names",
         "locations": [
          "Paris "
         ],
         "marker": {
          "color": "#EF553B",
          "size": [
           9
          ],
          "sizemode": "area",
          "sizeref": 0.0575,
          "symbol": "circle"
         },
         "mode": "markers",
         "name": "Paris ",
         "showlegend": true,
         "type": "scattergeo"
        },
        {
         "geo": "geo",
         "hovertemplate": "City=%{location}<br>MatchID=%{marker.size}<extra></extra>",
         "legendgroup": "Hanover ",
         "locationmode": "country names",
         "locations": [
          "Hanover "
         ],
         "marker": {
          "color": "#00cc96",
          "size": [
           9
          ],
          "sizemode": "area",
          "sizeref": 0.0575,
          "symbol": "circle"
         },
         "mode": "markers",
         "name": "Hanover ",
         "showlegend": true,
         "type": "scattergeo"
        },
        {
         "geo": "geo",
         "hovertemplate": "City=%{location}<br>MatchID=%{marker.size}<extra></extra>",
         "legendgroup": "Milan ",
         "locationmode": "country names",
         "locations": [
          "Milan "
         ],
         "marker": {
          "color": "#ab63fa",
          "size": [
           9
          ],
          "sizemode": "area",
          "sizeref": 0.0575,
          "symbol": "circle"
         },
         "mode": "markers",
         "name": "Milan ",
         "showlegend": true,
         "type": "scattergeo"
        },
        {
         "geo": "geo",
         "hovertemplate": "City=%{location}<br>MatchID=%{marker.size}<extra></extra>",
         "legendgroup": "Fortaleza ",
         "locationmode": "country names",
         "locations": [
          "Fortaleza "
         ],
         "marker": {
          "color": "#FFA15A",
          "size": [
           8
          ],
          "sizemode": "area",
          "sizeref": 0.0575,
          "symbol": "circle"
         },
         "mode": "markers",
         "name": "Fortaleza ",
         "showlegend": true,
         "type": "scattergeo"
        },
        {
         "geo": "geo",
         "hovertemplate": "City=%{location}<br>MatchID=%{marker.size}<extra></extra>",
         "legendgroup": "Puebla ",
         "locationmode": "country names",
         "locations": [
          "Puebla "
         ],
         "marker": {
          "color": "#19d3f3",
          "size": [
           8
          ],
          "sizemode": "area",
          "sizeref": 0.0575,
          "symbol": "circle"
         },
         "mode": "markers",
         "name": "Puebla ",
         "showlegend": true,
         "type": "scattergeo"
        },
        {
         "geo": "geo",
         "hovertemplate": "City=%{location}<br>MatchID=%{marker.size}<extra></extra>",
         "legendgroup": "Hamburg ",
         "locationmode": "country names",
         "locations": [
          "Hamburg "
         ],
         "marker": {
          "color": "#FF6692",
          "size": [
           8
          ],
          "sizemode": "area",
          "sizeref": 0.0575,
          "symbol": "circle"
         },
         "mode": "markers",
         "name": "Hamburg ",
         "showlegend": true,
         "type": "scattergeo"
        },
        {
         "geo": "geo",
         "hovertemplate": "City=%{location}<br>MatchID=%{marker.size}<extra></extra>",
         "legendgroup": "Monterrey ",
         "locationmode": "country names",
         "locations": [
          "Monterrey "
         ],
         "marker": {
          "color": "#B6E880",
          "size": [
           8
          ],
          "sizemode": "area",
          "sizeref": 0.0575,
          "symbol": "circle"
         },
         "mode": "markers",
         "name": "Monterrey ",
         "showlegend": true,
         "type": "scattergeo"
        },
        {
         "geo": "geo",
         "hovertemplate": "City=%{location}<br>MatchID=%{marker.size}<extra></extra>",
         "legendgroup": "Nelson Mandela Bay/Port Elizabeth ",
         "locationmode": "country names",
         "locations": [
          "Nelson Mandela Bay/Port Elizabeth "
         ],
         "marker": {
          "color": "#FF97FF",
          "size": [
           8
          ],
          "sizemode": "area",
          "sizeref": 0.0575,
          "symbol": "circle"
         },
         "mode": "markers",
         "name": "Nelson Mandela Bay/Port Elizabeth ",
         "showlegend": true,
         "type": "scattergeo"
        },
        {
         "geo": "geo",
         "hovertemplate": "City=%{location}<br>MatchID=%{marker.size}<extra></extra>",
         "legendgroup": "Toulouse ",
         "locationmode": "country names",
         "locations": [
          "Toulouse "
         ],
         "marker": {
          "color": "#FECB52",
          "size": [
           8
          ],
          "sizemode": "area",
          "sizeref": 0.0575,
          "symbol": "circle"
         },
         "mode": "markers",
         "name": "Toulouse ",
         "showlegend": true,
         "type": "scattergeo"
        },
        {
         "geo": "geo",
         "hovertemplate": "City=%{location}<br>MatchID=%{marker.size}<extra></extra>",
         "legendgroup": "Salvador ",
         "locationmode": "country names",
         "locations": [
          "Salvador "
         ],
         "marker": {
          "color": "#636efa",
          "size": [
           8
          ],
          "sizemode": "area",
          "sizeref": 0.0575,
          "symbol": "circle"
         },
         "mode": "markers",
         "name": "Salvador ",
         "showlegend": true,
         "type": "scattergeo"
        },
        {
         "geo": "geo",
         "hovertemplate": "City=%{location}<br>MatchID=%{marker.size}<extra></extra>",
         "legendgroup": "Cordoba ",
         "locationmode": "country names",
         "locations": [
          "Cordoba "
         ],
         "marker": {
          "color": "#EF553B",
          "size": [
           8
          ],
          "sizemode": "area",
          "sizeref": 0.0575,
          "symbol": "circle"
         },
         "mode": "markers",
         "name": "Cordoba ",
         "showlegend": true,
         "type": "scattergeo"
        },
        {
         "geo": "geo",
         "hovertemplate": "City=%{location}<br>MatchID=%{marker.size}<extra></extra>",
         "legendgroup": "Cape Town ",
         "locationmode": "country names",
         "locations": [
          "Cape Town "
         ],
         "marker": {
          "color": "#00cc96",
          "size": [
           8
          ],
          "sizemode": "area",
          "sizeref": 0.0575,
          "symbol": "circle"
         },
         "mode": "markers",
         "name": "Cape Town ",
         "showlegend": true,
         "type": "scattergeo"
        },
        {
         "geo": "geo",
         "hovertemplate": "City=%{location}<br>MatchID=%{marker.size}<extra></extra>",
         "legendgroup": "Barcelona ",
         "locationmode": "country names",
         "locations": [
          "Barcelona "
         ],
         "marker": {
          "color": "#ab63fa",
          "size": [
           8
          ],
          "sizemode": "area",
          "sizeref": 0.0575,
          "symbol": "circle"
         },
         "mode": "markers",
         "name": "Barcelona ",
         "showlegend": true,
         "type": "scattergeo"
        },
        {
         "geo": "geo",
         "hovertemplate": "City=%{location}<br>MatchID=%{marker.size}<extra></extra>",
         "legendgroup": "Los Angeles ",
         "locationmode": "country names",
         "locations": [
          "Los Angeles "
         ],
         "marker": {
          "color": "#FFA15A",
          "size": [
           8
          ],
          "sizemode": "area",
          "sizeref": 0.0575,
          "symbol": "circle"
         },
         "mode": "markers",
         "name": "Los Angeles ",
         "showlegend": true,
         "type": "scattergeo"
        },
        {
         "geo": "geo",
         "hovertemplate": "City=%{location}<br>MatchID=%{marker.size}<extra></extra>",
         "legendgroup": "Solna ",
         "locationmode": "country names",
         "locations": [
          "Solna "
         ],
         "marker": {
          "color": "#19d3f3",
          "size": [
           8
          ],
          "sizemode": "area",
          "sizeref": 0.0575,
          "symbol": "circle"
         },
         "mode": "markers",
         "name": "Solna ",
         "showlegend": true,
         "type": "scattergeo"
        },
        {
         "geo": "geo",
         "hovertemplate": "City=%{location}<br>MatchID=%{marker.size}<extra></extra>",
         "legendgroup": "Vina Del Mar ",
         "locationmode": "country names",
         "locations": [
          "Vina Del Mar "
         ],
         "marker": {
          "color": "#FF6692",
          "size": [
           8
          ],
          "sizemode": "area",
          "sizeref": 0.0575,
          "symbol": "circle"
         },
         "mode": "markers",
         "name": "Vina Del Mar ",
         "showlegend": true,
         "type": "scattergeo"
        },
        {
         "geo": "geo",
         "hovertemplate": "City=%{location}<br>MatchID=%{marker.size}<extra></extra>",
         "legendgroup": "New York/New Jersey ",
         "locationmode": "country names",
         "locations": [
          "New York/New Jersey "
         ],
         "marker": {
          "color": "#B6E880",
          "size": [
           7
          ],
          "sizemode": "area",
          "sizeref": 0.0575,
          "symbol": "circle"
         },
         "mode": "markers",
         "name": "New York/New Jersey ",
         "showlegend": true,
         "type": "scattergeo"
        },
        {
         "geo": "geo",
         "hovertemplate": "City=%{location}<br>MatchID=%{marker.size}<extra></extra>",
         "legendgroup": "Arica ",
         "locationmode": "country names",
         "locations": [
          "Arica "
         ],
         "marker": {
          "color": "#FF97FF",
          "size": [
           7
          ],
          "sizemode": "area",
          "sizeref": 0.0575,
          "symbol": "circle"
         },
         "mode": "markers",
         "name": "Arica ",
         "showlegend": true,
         "type": "scattergeo"
        },
        {
         "geo": "geo",
         "hovertemplate": "City=%{location}<br>MatchID=%{marker.size}<extra></extra>",
         "legendgroup": "Turin ",
         "locationmode": "country names",
         "locations": [
          "Turin "
         ],
         "marker": {
          "color": "#FECB52",
          "size": [
           7
          ],
          "sizemode": "area",
          "sizeref": 0.0575,
          "symbol": "circle"
         },
         "mode": "markers",
         "name": "Turin ",
         "showlegend": true,
         "type": "scattergeo"
        },
        {
         "geo": "geo",
         "hovertemplate": "City=%{location}<br>MatchID=%{marker.size}<extra></extra>",
         "legendgroup": "Gothenburg ",
         "locationmode": "country names",
         "locations": [
          "Gothenburg "
         ],
         "marker": {
          "color": "#636efa",
          "size": [
           7
          ],
          "sizemode": "area",
          "sizeref": 0.0575,
          "symbol": "circle"
         },
         "mode": "markers",
         "name": "Gothenburg ",
         "showlegend": true,
         "type": "scattergeo"
        },
        {
         "geo": "geo",
         "hovertemplate": "City=%{location}<br>MatchID=%{marker.size}<extra></extra>",
         "legendgroup": "Naples ",
         "locationmode": "country names",
         "locations": [
          "Naples "
         ],
         "marker": {
          "color": "#EF553B",
          "size": [
           7
          ],
          "sizemode": "area",
          "sizeref": 0.0575,
          "symbol": "circle"
         },
         "mode": "markers",
         "name": "Naples ",
         "showlegend": true,
         "type": "scattergeo"
        },
        {
         "geo": "geo",
         "hovertemplate": "City=%{location}<br>MatchID=%{marker.size}<extra></extra>",
         "legendgroup": "Rancagua ",
         "locationmode": "country names",
         "locations": [
          "Rancagua "
         ],
         "marker": {
          "color": "#00cc96",
          "size": [
           7
          ],
          "sizemode": "area",
          "sizeref": 0.0575,
          "symbol": "circle"
         },
         "mode": "markers",
         "name": "Rancagua ",
         "showlegend": true,
         "type": "scattergeo"
        },
        {
         "geo": "geo",
         "hovertemplate": "City=%{location}<br>MatchID=%{marker.size}<extra></extra>",
         "legendgroup": "Toluca ",
         "locationmode": "country names",
         "locations": [
          "Toluca "
         ],
         "marker": {
          "color": "#ab63fa",
          "size": [
           7
          ],
          "sizemode": "area",
          "sizeref": 0.0575,
          "symbol": "circle"
         },
         "mode": "markers",
         "name": "Toluca ",
         "showlegend": true,
         "type": "scattergeo"
        },
        {
         "geo": "geo",
         "hovertemplate": "City=%{location}<br>MatchID=%{marker.size}<extra></extra>",
         "legendgroup": "Florence ",
         "locationmode": "country names",
         "locations": [
          "Florence "
         ],
         "marker": {
          "color": "#FFA15A",
          "size": [
           7
          ],
          "sizemode": "area",
          "sizeref": 0.0575,
          "symbol": "circle"
         },
         "mode": "markers",
         "name": "Florence ",
         "showlegend": true,
         "type": "scattergeo"
        },
        {
         "geo": "geo",
         "hovertemplate": "City=%{location}<br>MatchID=%{marker.size}<extra></extra>",
         "legendgroup": "Madrid ",
         "locationmode": "country names",
         "locations": [
          "Madrid "
         ],
         "marker": {
          "color": "#19d3f3",
          "size": [
           7
          ],
          "sizemode": "area",
          "sizeref": 0.0575,
          "symbol": "circle"
         },
         "mode": "markers",
         "name": "Madrid ",
         "showlegend": true,
         "type": "scattergeo"
        },
        {
         "geo": "geo",
         "hovertemplate": "City=%{location}<br>MatchID=%{marker.size}<extra></extra>",
         "legendgroup": "Durban ",
         "locationmode": "country names",
         "locations": [
          "Durban "
         ],
         "marker": {
          "color": "#FF6692",
          "size": [
           7
          ],
          "sizemode": "area",
          "sizeref": 0.0575,
          "symbol": "circle"
         },
         "mode": "markers",
         "name": "Durban ",
         "showlegend": true,
         "type": "scattergeo"
        },
        {
         "geo": "geo",
         "hovertemplate": "City=%{location}<br>MatchID=%{marker.size}<extra></extra>",
         "legendgroup": "Recife ",
         "locationmode": "country names",
         "locations": [
          "Recife "
         ],
         "marker": {
          "color": "#B6E880",
          "size": [
           7
          ],
          "sizemode": "area",
          "sizeref": 0.0575,
          "symbol": "circle"
         },
         "mode": "markers",
         "name": "Recife ",
         "showlegend": true,
         "type": "scattergeo"
        },
        {
         "geo": "geo",
         "hovertemplate": "City=%{location}<br>MatchID=%{marker.size}<extra></extra>",
         "legendgroup": "Montpellier ",
         "locationmode": "country names",
         "locations": [
          "Montpellier "
         ],
         "marker": {
          "color": "#FF97FF",
          "size": [
           6
          ],
          "sizemode": "area",
          "sizeref": 0.0575,
          "symbol": "circle"
         },
         "mode": "markers",
         "name": "Montpellier ",
         "showlegend": true,
         "type": "scattergeo"
        },
        {
         "geo": "geo",
         "hovertemplate": "City=%{location}<br>MatchID=%{marker.size}<extra></extra>",
         "legendgroup": "Mendoza ",
         "locationmode": "country names",
         "locations": [
          "Mendoza "
         ],
         "marker": {
          "color": "#FECB52",
          "size": [
           6
          ],
          "sizemode": "area",
          "sizeref": 0.0575,
          "symbol": "circle"
         },
         "mode": "markers",
         "name": "Mendoza ",
         "showlegend": true,
         "type": "scattergeo"
        },
        {
         "geo": "geo",
         "hovertemplate": "City=%{location}<br>MatchID=%{marker.size}<extra></extra>",
         "legendgroup": "Mar Del Plata ",
         "locationmode": "country names",
         "locations": [
          "Mar Del Plata "
         ],
         "marker": {
          "color": "#636efa",
          "size": [
           6
          ],
          "sizemode": "area",
          "sizeref": 0.0575,
          "symbol": "circle"
         },
         "mode": "markers",
         "name": "Mar Del Plata ",
         "showlegend": true,
         "type": "scattergeo"
        },
        {
         "geo": "geo",
         "hovertemplate": "City=%{location}<br>MatchID=%{marker.size}<extra></extra>",
         "legendgroup": "Lens ",
         "locationmode": "country names",
         "locations": [
          "Lens "
         ],
         "marker": {
          "color": "#EF553B",
          "size": [
           6
          ],
          "sizemode": "area",
          "sizeref": 0.0575,
          "symbol": "circle"
         },
         "mode": "markers",
         "name": "Lens ",
         "showlegend": true,
         "type": "scattergeo"
        },
        {
         "geo": "geo",
         "hovertemplate": "City=%{location}<br>MatchID=%{marker.size}<extra></extra>",
         "legendgroup": "Nantes ",
         "locationmode": "country names",
         "locations": [
          "Nantes "
         ],
         "marker": {
          "color": "#00cc96",
          "size": [
           6
          ],
          "sizemode": "area",
          "sizeref": 0.0575,
          "symbol": "circle"
         },
         "mode": "markers",
         "name": "Nantes ",
         "showlegend": true,
         "type": "scattergeo"
        },
        {
         "geo": "geo",
         "hovertemplate": "City=%{location}<br>MatchID=%{marker.size}<extra></extra>",
         "legendgroup": "Mangaung/Bloemfontein ",
         "locationmode": "country names",
         "locations": [
          "Mangaung/Bloemfontein "
         ],
         "marker": {
          "color": "#ab63fa",
          "size": [
           6
          ],
          "sizemode": "area",
          "sizeref": 0.0575,
          "symbol": "circle"
         },
         "mode": "markers",
         "name": "Mangaung/Bloemfontein ",
         "showlegend": true,
         "type": "scattergeo"
        },
        {
         "geo": "geo",
         "hovertemplate": "City=%{location}<br>MatchID=%{marker.size}<extra></extra>",
         "legendgroup": "Phokeng ",
         "locationmode": "country names",
         "locations": [
          "Phokeng "
         ],
         "marker": {
          "color": "#FFA15A",
          "size": [
           6
          ],
          "sizemode": "area",
          "sizeref": 0.0575,
          "symbol": "circle"
         },
         "mode": "markers",
         "name": "Phokeng ",
         "showlegend": true,
         "type": "scattergeo"
        },
        {
         "geo": "geo",
         "hovertemplate": "City=%{location}<br>MatchID=%{marker.size}<extra></extra>",
         "legendgroup": "Porto Alegre ",
         "locationmode": "country names",
         "locations": [
          "Porto Alegre "
         ],
         "marker": {
          "color": "#19d3f3",
          "size": [
           6
          ],
          "sizemode": "area",
          "sizeref": 0.0575,
          "symbol": "circle"
         },
         "mode": "markers",
         "name": "Porto Alegre ",
         "showlegend": true,
         "type": "scattergeo"
        },
        {
         "geo": "geo",
         "hovertemplate": "City=%{location}<br>MatchID=%{marker.size}<extra></extra>",
         "legendgroup": "Rosario ",
         "locationmode": "country names",
         "locations": [
          "Rosario "
         ],
         "marker": {
          "color": "#FF6692",
          "size": [
           6
          ],
          "sizemode": "area",
          "sizeref": 0.0575,
          "symbol": "circle"
         },
         "mode": "markers",
         "name": "Rosario ",
         "showlegend": true,
         "type": "scattergeo"
        },
        {
         "geo": "geo",
         "hovertemplate": "City=%{location}<br>MatchID=%{marker.size}<extra></extra>",
         "legendgroup": "Dallas ",
         "locationmode": "country names",
         "locations": [
          "Dallas "
         ],
         "marker": {
          "color": "#B6E880",
          "size": [
           6
          ],
          "sizemode": "area",
          "sizeref": 0.0575,
          "symbol": "circle"
         },
         "mode": "markers",
         "name": "Dallas ",
         "showlegend": true,
         "type": "scattergeo"
        },
        {
         "geo": "geo",
         "hovertemplate": "City=%{location}<br>MatchID=%{marker.size}<extra></extra>",
         "legendgroup": "Saint-Etienne ",
         "locationmode": "country names",
         "locations": [
          "Saint-Etienne "
         ],
         "marker": {
          "color": "#FF97FF",
          "size": [
           6
          ],
          "sizemode": "area",
          "sizeref": 0.0575,
          "symbol": "circle"
         },
         "mode": "markers",
         "name": "Saint-Etienne ",
         "showlegend": true,
         "type": "scattergeo"
        },
        {
         "geo": "geo",
         "hovertemplate": "City=%{location}<br>MatchID=%{marker.size}<extra></extra>",
         "legendgroup": "Curitiba ",
         "locationmode": "country names",
         "locations": [
          "Curitiba "
         ],
         "marker": {
          "color": "#FECB52",
          "size": [
           6
          ],
          "sizemode": "area",
          "sizeref": 0.0575,
          "symbol": "circle"
         },
         "mode": "markers",
         "name": "Curitiba ",
         "showlegend": true,
         "type": "scattergeo"
        },
        {
         "geo": "geo",
         "hovertemplate": "City=%{location}<br>MatchID=%{marker.size}<extra></extra>",
         "legendgroup": "San Francisco ",
         "locationmode": "country names",
         "locations": [
          "San Francisco "
         ],
         "marker": {
          "color": "#636efa",
          "size": [
           6
          ],
          "sizemode": "area",
          "sizeref": 0.0575,
          "symbol": "circle"
         },
         "mode": "markers",
         "name": "San Francisco ",
         "showlegend": true,
         "type": "scattergeo"
        },
        {
         "geo": "geo",
         "hovertemplate": "City=%{location}<br>MatchID=%{marker.size}<extra></extra>",
         "legendgroup": "Boston ",
         "locationmode": "country names",
         "locations": [
          "Boston "
         ],
         "marker": {
          "color": "#EF553B",
          "size": [
           6
          ],
          "sizemode": "area",
          "sizeref": 0.0575,
          "symbol": "circle"
         },
         "mode": "markers",
         "name": "Boston ",
         "showlegend": true,
         "type": "scattergeo"
        },
        {
         "geo": "geo",
         "hovertemplate": "City=%{location}<br>MatchID=%{marker.size}<extra></extra>",
         "legendgroup": "Bologna ",
         "locationmode": "country names",
         "locations": [
          "Bologna "
         ],
         "marker": {
          "color": "#00cc96",
          "size": [
           6
          ],
          "sizemode": "area",
          "sizeref": 0.0575,
          "symbol": "circle"
         },
         "mode": "markers",
         "name": "Bologna ",
         "showlegend": true,
         "type": "scattergeo"
        },
        {
         "geo": "geo",
         "hovertemplate": "City=%{location}<br>MatchID=%{marker.size}<extra></extra>",
         "legendgroup": "Tshwane/Pretoria ",
         "locationmode": "country names",
         "locations": [
          "Tshwane/Pretoria "
         ],
         "marker": {
          "color": "#ab63fa",
          "size": [
           6
          ],
          "sizemode": "area",
          "sizeref": 0.0575,
          "symbol": "circle"
         },
         "mode": "markers",
         "name": "Tshwane/Pretoria ",
         "showlegend": true,
         "type": "scattergeo"
        },
        {
         "geo": "geo",
         "hovertemplate": "City=%{location}<br>MatchID=%{marker.size}<extra></extra>",
         "legendgroup": "Berlin ",
         "locationmode": "country names",
         "locations": [
          "Berlin "
         ],
         "marker": {
          "color": "#FFA15A",
          "size": [
           6
          ],
          "sizemode": "area",
          "sizeref": 0.0575,
          "symbol": "circle"
         },
         "mode": "markers",
         "name": "Berlin ",
         "showlegend": true,
         "type": "scattergeo"
        },
        {
         "geo": "geo",
         "hovertemplate": "City=%{location}<br>MatchID=%{marker.size}<extra></extra>",
         "legendgroup": "Basel ",
         "locationmode": "country names",
         "locations": [
          "Basel "
         ],
         "marker": {
          "color": "#19d3f3",
          "size": [
           6
          ],
          "sizemode": "area",
          "sizeref": 0.0575,
          "symbol": "circle"
         },
         "mode": "markers",
         "name": "Basel ",
         "showlegend": true,
         "type": "scattergeo"
        },
        {
         "geo": "geo",
         "hovertemplate": "City=%{location}<br>MatchID=%{marker.size}<extra></extra>",
         "legendgroup": "Lyon ",
         "locationmode": "country names",
         "locations": [
          "Lyon "
         ],
         "marker": {
          "color": "#FF6692",
          "size": [
           6
          ],
          "sizemode": "area",
          "sizeref": 0.0575,
          "symbol": "circle"
         },
         "mode": "markers",
         "name": "Lyon ",
         "showlegend": true,
         "type": "scattergeo"
        },
        {
         "geo": "geo",
         "hovertemplate": "City=%{location}<br>MatchID=%{marker.size}<extra></extra>",
         "legendgroup": "Nuremberg ",
         "locationmode": "country names",
         "locations": [
          "Nuremberg "
         ],
         "marker": {
          "color": "#B6E880",
          "size": [
           5
          ],
          "sizemode": "area",
          "sizeref": 0.0575,
          "symbol": "circle"
         },
         "mode": "markers",
         "name": "Nuremberg ",
         "showlegend": true,
         "type": "scattergeo"
        },
        {
         "geo": "geo",
         "hovertemplate": "City=%{location}<br>MatchID=%{marker.size}<extra></extra>",
         "legendgroup": "Orlando ",
         "locationmode": "country names",
         "locations": [
          "Orlando "
         ],
         "marker": {
          "color": "#FF97FF",
          "size": [
           5
          ],
          "sizemode": "area",
          "sizeref": 0.0575,
          "symbol": "circle"
         },
         "mode": "markers",
         "name": "Orlando ",
         "showlegend": true,
         "type": "scattergeo"
        },
        {
         "geo": "geo",
         "hovertemplate": "City=%{location}<br>MatchID=%{marker.size}<extra></extra>",
         "legendgroup": "Washington Dc ",
         "locationmode": "country names",
         "locations": [
          "Washington Dc "
         ],
         "marker": {
          "color": "#FECB52",
          "size": [
           5
          ],
          "sizemode": "area",
          "sizeref": 0.0575,
          "symbol": "circle"
         },
         "mode": "markers",
         "name": "Washington Dc ",
         "showlegend": true,
         "type": "scattergeo"
        },
        {
         "geo": "geo",
         "hovertemplate": "City=%{location}<br>MatchID=%{marker.size}<extra></extra>",
         "legendgroup": "Zurich ",
         "locationmode": "country names",
         "locations": [
          "Zurich "
         ],
         "marker": {
          "color": "#636efa",
          "size": [
           5
          ],
          "sizemode": "area",
          "sizeref": 0.0575,
          "symbol": "circle"
         },
         "mode": "markers",
         "name": "Zurich ",
         "showlegend": true,
         "type": "scattergeo"
        },
        {
         "geo": "geo",
         "hovertemplate": "City=%{location}<br>MatchID=%{marker.size}<extra></extra>",
         "legendgroup": "Genoa ",
         "locationmode": "country names",
         "locations": [
          "Genoa "
         ],
         "marker": {
          "color": "#EF553B",
          "size": [
           5
          ],
          "sizemode": "area",
          "sizeref": 0.0575,
          "symbol": "circle"
         },
         "mode": "markers",
         "name": "Genoa ",
         "showlegend": true,
         "type": "scattergeo"
        },
        {
         "geo": "geo",
         "hovertemplate": "City=%{location}<br>MatchID=%{marker.size}<extra></extra>",
         "legendgroup": "D�Sseldorf ",
         "locationmode": "country names",
         "locations": [
          "D�Sseldorf "
         ],
         "marker": {
          "color": "#00cc96",
          "size": [
           5
          ],
          "sizemode": "area",
          "sizeref": 0.0575,
          "symbol": "circle"
         },
         "mode": "markers",
         "name": "D�Sseldorf ",
         "showlegend": true,
         "type": "scattergeo"
        },
        {
         "geo": "geo",
         "hovertemplate": "City=%{location}<br>MatchID=%{marker.size}<extra></extra>",
         "legendgroup": "Berne ",
         "locationmode": "country names",
         "locations": [
          "Berne "
         ],
         "marker": {
          "color": "#ab63fa",
          "size": [
           5
          ],
          "sizemode": "area",
          "sizeref": 0.0575,
          "symbol": "circle"
         },
         "mode": "markers",
         "name": "Berne ",
         "showlegend": true,
         "type": "scattergeo"
        },
        {
         "geo": "geo",
         "hovertemplate": "City=%{location}<br>MatchID=%{marker.size}<extra></extra>",
         "legendgroup": "Bari ",
         "locationmode": "country names",
         "locations": [
          "Bari "
         ],
         "marker": {
          "color": "#FFA15A",
          "size": [
           5
          ],
          "sizemode": "area",
          "sizeref": 0.0575,
          "symbol": "circle"
         },
         "mode": "markers",
         "name": "Bari ",
         "showlegend": true,
         "type": "scattergeo"
        },
        {
         "geo": "geo",
         "hovertemplate": "City=%{location}<br>MatchID=%{marker.size}<extra></extra>",
         "legendgroup": "Liverpool ",
         "locationmode": "country names",
         "locations": [
          "Liverpool "
         ],
         "marker": {
          "color": "#19d3f3",
          "size": [
           5
          ],
          "sizemode": "area",
          "sizeref": 0.0575,
          "symbol": "circle"
         },
         "mode": "markers",
         "name": "Liverpool ",
         "showlegend": true,
         "type": "scattergeo"
        },
        {
         "geo": "geo",
         "hovertemplate": "City=%{location}<br>MatchID=%{marker.size}<extra></extra>",
         "legendgroup": "Chicago ",
         "locationmode": "country names",
         "locations": [
          "Chicago "
         ],
         "marker": {
          "color": "#FF6692",
          "size": [
           5
          ],
          "sizemode": "area",
          "sizeref": 0.0575,
          "symbol": "circle"
         },
         "mode": "markers",
         "name": "Chicago ",
         "showlegend": true,
         "type": "scattergeo"
        },
        {
         "geo": "geo",
         "hovertemplate": "City=%{location}<br>MatchID=%{marker.size}<extra></extra>",
         "legendgroup": "Leipzig ",
         "locationmode": "country names",
         "locations": [
          "Leipzig "
         ],
         "marker": {
          "color": "#B6E880",
          "size": [
           5
          ],
          "sizemode": "area",
          "sizeref": 0.0575,
          "symbol": "circle"
         },
         "mode": "markers",
         "name": "Leipzig ",
         "showlegend": true,
         "type": "scattergeo"
        },
        {
         "geo": "geo",
         "hovertemplate": "City=%{location}<br>MatchID=%{marker.size}<extra></extra>",
         "legendgroup": "Cologne ",
         "locationmode": "country names",
         "locations": [
          "Cologne "
         ],
         "marker": {
          "color": "#FF97FF",
          "size": [
           5
          ],
          "sizemode": "area",
          "sizeref": 0.0575,
          "symbol": "circle"
         },
         "mode": "markers",
         "name": "Cologne ",
         "showlegend": true,
         "type": "scattergeo"
        },
        {
         "geo": "geo",
         "hovertemplate": "City=%{location}<br>MatchID=%{marker.size}<extra></extra>",
         "legendgroup": "Lausanne ",
         "locationmode": "country names",
         "locations": [
          "Lausanne "
         ],
         "marker": {
          "color": "#FECB52",
          "size": [
           5
          ],
          "sizemode": "area",
          "sizeref": 0.0575,
          "symbol": "circle"
         },
         "mode": "markers",
         "name": "Lausanne ",
         "showlegend": true,
         "type": "scattergeo"
        },
        {
         "geo": "geo",
         "hovertemplate": "City=%{location}<br>MatchID=%{marker.size}<extra></extra>",
         "legendgroup": "Kaiserslautern ",
         "locationmode": "country names",
         "locations": [
          "Kaiserslautern "
         ],
         "marker": {
          "color": "#636efa",
          "size": [
           5
          ],
          "sizemode": "area",
          "sizeref": 0.0575,
          "symbol": "circle"
         },
         "mode": "markers",
         "name": "Kaiserslautern ",
         "showlegend": true,
         "type": "scattergeo"
        },
        {
         "geo": "geo",
         "hovertemplate": "City=%{location}<br>MatchID=%{marker.size}<extra></extra>",
         "legendgroup": "Suwon ",
         "locationmode": "country names",
         "locations": [
          "Suwon "
         ],
         "marker": {
          "color": "#EF553B",
          "size": [
           4
          ],
          "sizemode": "area",
          "sizeref": 0.0575,
          "symbol": "circle"
         },
         "mode": "markers",
         "name": "Suwon ",
         "showlegend": true,
         "type": "scattergeo"
        },
        {
         "geo": "geo",
         "hovertemplate": "City=%{location}<br>MatchID=%{marker.size}<extra></extra>",
         "legendgroup": "Seville ",
         "locationmode": "country names",
         "locations": [
          "Seville "
         ],
         "marker": {
          "color": "#00cc96",
          "size": [
           4
          ],
          "sizemode": "area",
          "sizeref": 0.0575,
          "symbol": "circle"
         },
         "mode": "markers",
         "name": "Seville ",
         "showlegend": true,
         "type": "scattergeo"
        },
        {
         "geo": "geo",
         "hovertemplate": "City=%{location}<br>MatchID=%{marker.size}<extra></extra>",
         "legendgroup": "Polokwane ",
         "locationmode": "country names",
         "locations": [
          "Polokwane "
         ],
         "marker": {
          "color": "#ab63fa",
          "size": [
           4
          ],
          "sizemode": "area",
          "sizeref": 0.0575,
          "symbol": "circle"
         },
         "mode": "markers",
         "name": "Polokwane ",
         "showlegend": true,
         "type": "scattergeo"
        },
        {
         "geo": "geo",
         "hovertemplate": "City=%{location}<br>MatchID=%{marker.size}<extra></extra>",
         "legendgroup": "Geneva ",
         "locationmode": "country names",
         "locations": [
          "Geneva "
         ],
         "marker": {
          "color": "#FFA15A",
          "size": [
           4
          ],
          "sizemode": "area",
          "sizeref": 0.0575,
          "symbol": "circle"
         },
         "mode": "markers",
         "name": "Geneva ",
         "showlegend": true,
         "type": "scattergeo"
        },
        {
         "geo": "geo",
         "hovertemplate": "City=%{location}<br>MatchID=%{marker.size}<extra></extra>",
         "legendgroup": "Queretaro ",
         "locationmode": "country names",
         "locations": [
          "Queretaro "
         ],
         "marker": {
          "color": "#19d3f3",
          "size": [
           4
          ],
          "sizemode": "area",
          "sizeref": 0.0575,
          "symbol": "circle"
         },
         "mode": "markers",
         "name": "Queretaro ",
         "showlegend": true,
         "type": "scattergeo"
        },
        {
         "geo": "geo",
         "hovertemplate": "City=%{location}<br>MatchID=%{marker.size}<extra></extra>",
         "legendgroup": "Sunderland ",
         "locationmode": "country names",
         "locations": [
          "Sunderland "
         ],
         "marker": {
          "color": "#FF6692",
          "size": [
           4
          ],
          "sizemode": "area",
          "sizeref": 0.0575,
          "symbol": "circle"
         },
         "mode": "markers",
         "name": "Sunderland ",
         "showlegend": true,
         "type": "scattergeo"
        },
        {
         "geo": "geo",
         "hovertemplate": "City=%{location}<br>MatchID=%{marker.size}<extra></extra>",
         "legendgroup": "Cuiaba ",
         "locationmode": "country names",
         "locations": [
          "Cuiaba "
         ],
         "marker": {
          "color": "#B6E880",
          "size": [
           4
          ],
          "sizemode": "area",
          "sizeref": 0.0575,
          "symbol": "circle"
         },
         "mode": "markers",
         "name": "Cuiaba ",
         "showlegend": true,
         "type": "scattergeo"
        },
        {
         "geo": "geo",
         "hovertemplate": "City=%{location}<br>MatchID=%{marker.size}<extra></extra>",
         "legendgroup": "Saitama ",
         "locationmode": "country names",
         "locations": [
          "Saitama "
         ],
         "marker": {
          "color": "#FF97FF",
          "size": [
           4
          ],
          "sizemode": "area",
          "sizeref": 0.0575,
          "symbol": "circle"
         },
         "mode": "markers",
         "name": "Saitama ",
         "showlegend": true,
         "type": "scattergeo"
        },
        {
         "geo": "geo",
         "hovertemplate": "City=%{location}<br>MatchID=%{marker.size}<extra></extra>",
         "legendgroup": "Malm� ",
         "locationmode": "country names",
         "locations": [
          "Malm� "
         ],
         "marker": {
          "color": "#FECB52",
          "size": [
           4
          ],
          "sizemode": "area",
          "sizeref": 0.0575,
          "symbol": "circle"
         },
         "mode": "markers",
         "name": "Malm� ",
         "showlegend": true,
         "type": "scattergeo"
        },
        {
         "geo": "geo",
         "hovertemplate": "City=%{location}<br>MatchID=%{marker.size}<extra></extra>",
         "legendgroup": "Daegu ",
         "locationmode": "country names",
         "locations": [
          "Daegu "
         ],
         "marker": {
          "color": "#636efa",
          "size": [
           4
          ],
          "sizemode": "area",
          "sizeref": 0.0575,
          "symbol": "circle"
         },
         "mode": "markers",
         "name": "Daegu ",
         "showlegend": true,
         "type": "scattergeo"
        },
        {
         "geo": "geo",
         "hovertemplate": "City=%{location}<br>MatchID=%{marker.size}<extra></extra>",
         "legendgroup": "Sheffield ",
         "locationmode": "country names",
         "locations": [
          "Sheffield "
         ],
         "marker": {
          "color": "#EF553B",
          "size": [
           4
          ],
          "sizemode": "area",
          "sizeref": 0.0575,
          "symbol": "circle"
         },
         "mode": "markers",
         "name": "Sheffield ",
         "showlegend": true,
         "type": "scattergeo"
        },
        {
         "geo": "geo",
         "hovertemplate": "City=%{location}<br>MatchID=%{marker.size}<extra></extra>",
         "legendgroup": "Detroit ",
         "locationmode": "country names",
         "locations": [
          "Detroit "
         ],
         "marker": {
          "color": "#00cc96",
          "size": [
           4
          ],
          "sizemode": "area",
          "sizeref": 0.0575,
          "symbol": "circle"
         },
         "mode": "markers",
         "name": "Detroit ",
         "showlegend": true,
         "type": "scattergeo"
        },
        {
         "geo": "geo",
         "hovertemplate": "City=%{location}<br>MatchID=%{marker.size}<extra></extra>",
         "legendgroup": "Manaus ",
         "locationmode": "country names",
         "locations": [
          "Manaus "
         ],
         "marker": {
          "color": "#ab63fa",
          "size": [
           4
          ],
          "sizemode": "area",
          "sizeref": 0.0575,
          "symbol": "circle"
         },
         "mode": "markers",
         "name": "Manaus ",
         "showlegend": true,
         "type": "scattergeo"
        },
        {
         "geo": "geo",
         "hovertemplate": "City=%{location}<br>MatchID=%{marker.size}<extra></extra>",
         "legendgroup": "Yokohama ",
         "locationmode": "country names",
         "locations": [
          "Yokohama "
         ],
         "marker": {
          "color": "#FFA15A",
          "size": [
           4
          ],
          "sizemode": "area",
          "sizeref": 0.0575,
          "symbol": "circle"
         },
         "mode": "markers",
         "name": "Yokohama ",
         "showlegend": true,
         "type": "scattergeo"
        },
        {
         "geo": "geo",
         "hovertemplate": "City=%{location}<br>MatchID=%{marker.size}<extra></extra>",
         "legendgroup": "Nelspruit ",
         "locationmode": "country names",
         "locations": [
          "Nelspruit "
         ],
         "marker": {
          "color": "#19d3f3",
          "size": [
           4
          ],
          "sizemode": "area",
          "sizeref": 0.0575,
          "symbol": "circle"
         },
         "mode": "markers",
         "name": "Nelspruit ",
         "showlegend": true,
         "type": "scattergeo"
        },
        {
         "geo": "geo",
         "hovertemplate": "City=%{location}<br>MatchID=%{marker.size}<extra></extra>",
         "legendgroup": "Verona ",
         "locationmode": "country names",
         "locations": [
          "Verona "
         ],
         "marker": {
          "color": "#FF6692",
          "size": [
           4
          ],
          "sizemode": "area",
          "sizeref": 0.0575,
          "symbol": "circle"
         },
         "mode": "markers",
         "name": "Verona ",
         "showlegend": true,
         "type": "scattergeo"
        },
        {
         "geo": "geo",
         "hovertemplate": "City=%{location}<br>MatchID=%{marker.size}<extra></extra>",
         "legendgroup": "Natal ",
         "locationmode": "country names",
         "locations": [
          "Natal "
         ],
         "marker": {
          "color": "#B6E880",
          "size": [
           4
          ],
          "sizemode": "area",
          "sizeref": 0.0575,
          "symbol": "circle"
         },
         "mode": "markers",
         "name": "Natal ",
         "showlegend": true,
         "type": "scattergeo"
        },
        {
         "geo": "geo",
         "hovertemplate": "City=%{location}<br>MatchID=%{marker.size}<extra></extra>",
         "legendgroup": "Daejeon ",
         "locationmode": "country names",
         "locations": [
          "Daejeon "
         ],
         "marker": {
          "color": "#FF97FF",
          "size": [
           3
          ],
          "sizemode": "area",
          "sizeref": 0.0575,
          "symbol": "circle"
         },
         "mode": "markers",
         "name": "Daejeon ",
         "showlegend": true,
         "type": "scattergeo"
        },
        {
         "geo": "geo",
         "hovertemplate": "City=%{location}<br>MatchID=%{marker.size}<extra></extra>",
         "legendgroup": "Colombes ",
         "locationmode": "country names",
         "locations": [
          "Colombes "
         ],
         "marker": {
          "color": "#FECB52",
          "size": [
           3
          ],
          "sizemode": "area",
          "sizeref": 0.0575,
          "symbol": "circle"
         },
         "mode": "markers",
         "name": "Colombes ",
         "showlegend": true,
         "type": "scattergeo"
        },
        {
         "geo": "geo",
         "hovertemplate": "City=%{location}<br>MatchID=%{marker.size}<extra></extra>",
         "legendgroup": "Zaragoza ",
         "locationmode": "country names",
         "locations": [
          "Zaragoza "
         ],
         "marker": {
          "color": "#636efa",
          "size": [
           3
          ],
          "sizemode": "area",
          "sizeref": 0.0575,
          "symbol": "circle"
         },
         "mode": "markers",
         "name": "Zaragoza ",
         "showlegend": true,
         "type": "scattergeo"
        },
        {
         "geo": "geo",
         "hovertemplate": "City=%{location}<br>MatchID=%{marker.size}<extra></extra>",
         "legendgroup": "Berlin West ",
         "locationmode": "country names",
         "locations": [
          "Berlin West "
         ],
         "marker": {
          "color": "#EF553B",
          "size": [
           3
          ],
          "sizemode": "area",
          "sizeref": 0.0575,
          "symbol": "circle"
         },
         "mode": "markers",
         "name": "Berlin West ",
         "showlegend": true,
         "type": "scattergeo"
        },
        {
         "geo": "geo",
         "hovertemplate": "City=%{location}<br>MatchID=%{marker.size}<extra></extra>",
         "legendgroup": "Vigo ",
         "locationmode": "country names",
         "locations": [
          "Vigo "
         ],
         "marker": {
          "color": "#00cc96",
          "size": [
           3
          ],
          "sizemode": "area",
          "sizeref": 0.0575,
          "symbol": "circle"
         },
         "mode": "markers",
         "name": "Vigo ",
         "showlegend": true,
         "type": "scattergeo"
        },
        {
         "geo": "geo",
         "hovertemplate": "City=%{location}<br>MatchID=%{marker.size}<extra></extra>",
         "legendgroup": "Valladolid ",
         "locationmode": "country names",
         "locations": [
          "Valladolid "
         ],
         "marker": {
          "color": "#ab63fa",
          "size": [
           3
          ],
          "sizemode": "area",
          "sizeref": 0.0575,
          "symbol": "circle"
         },
         "mode": "markers",
         "name": "Valladolid ",
         "showlegend": true,
         "type": "scattergeo"
        },
        {
         "geo": "geo",
         "hovertemplate": "City=%{location}<br>MatchID=%{marker.size}<extra></extra>",
         "legendgroup": "Valencia ",
         "locationmode": "country names",
         "locations": [
          "Valencia "
         ],
         "marker": {
          "color": "#FFA15A",
          "size": [
           3
          ],
          "sizemode": "area",
          "sizeref": 0.0575,
          "symbol": "circle"
         },
         "mode": "markers",
         "name": "Valencia ",
         "showlegend": true,
         "type": "scattergeo"
        },
        {
         "geo": "geo",
         "hovertemplate": "City=%{location}<br>MatchID=%{marker.size}<extra></extra>",
         "legendgroup": "Ulsan ",
         "locationmode": "country names",
         "locations": [
          "Ulsan "
         ],
         "marker": {
          "color": "#19d3f3",
          "size": [
           3
          ],
          "sizemode": "area",
          "sizeref": 0.0575,
          "symbol": "circle"
         },
         "mode": "markers",
         "name": "Ulsan ",
         "showlegend": true,
         "type": "scattergeo"
        },
        {
         "geo": "geo",
         "hovertemplate": "City=%{location}<br>MatchID=%{marker.size}<extra></extra>",
         "legendgroup": "Birmingham ",
         "locationmode": "country names",
         "locations": [
          "Birmingham "
         ],
         "marker": {
          "color": "#FF6692",
          "size": [
           3
          ],
          "sizemode": "area",
          "sizeref": 0.0575,
          "symbol": "circle"
         },
         "mode": "markers",
         "name": "Birmingham ",
         "showlegend": true,
         "type": "scattergeo"
        },
        {
         "geo": "geo",
         "hovertemplate": "City=%{location}<br>MatchID=%{marker.size}<extra></extra>",
         "legendgroup": "Udine ",
         "locationmode": "country names",
         "locations": [
          "Udine "
         ],
         "marker": {
          "color": "#B6E880",
          "size": [
           3
          ],
          "sizemode": "area",
          "sizeref": 0.0575,
          "symbol": "circle"
         },
         "mode": "markers",
         "name": "Udine ",
         "showlegend": true,
         "type": "scattergeo"
        },
        {
         "geo": "geo",
         "hovertemplate": "City=%{location}<br>MatchID=%{marker.size}<extra></extra>",
         "legendgroup": "Sapporo ",
         "locationmode": "country names",
         "locations": [
          "Sapporo "
         ],
         "marker": {
          "color": "#FF97FF",
          "size": [
           3
          ],
          "sizemode": "area",
          "sizeref": 0.0575,
          "symbol": "circle"
         },
         "mode": "markers",
         "name": "Sapporo ",
         "showlegend": true,
         "type": "scattergeo"
        },
        {
         "geo": "geo",
         "hovertemplate": "City=%{location}<br>MatchID=%{marker.size}<extra></extra>",
         "legendgroup": "Seoul ",
         "locationmode": "country names",
         "locations": [
          "Seoul "
         ],
         "marker": {
          "color": "#FECB52",
          "size": [
           3
          ],
          "sizemode": "area",
          "sizeref": 0.0575,
          "symbol": "circle"
         },
         "mode": "markers",
         "name": "Seoul ",
         "showlegend": true,
         "type": "scattergeo"
        },
        {
         "geo": "geo",
         "hovertemplate": "City=%{location}<br>MatchID=%{marker.size}<extra></extra>",
         "legendgroup": "Bilbao ",
         "locationmode": "country names",
         "locations": [
          "Bilbao "
         ],
         "marker": {
          "color": "#636efa",
          "size": [
           3
          ],
          "sizemode": "area",
          "sizeref": 0.0575,
          "symbol": "circle"
         },
         "mode": "markers",
         "name": "Bilbao ",
         "showlegend": true,
         "type": "scattergeo"
        },
        {
         "geo": "geo",
         "hovertemplate": "City=%{location}<br>MatchID=%{marker.size}<extra></extra>",
         "legendgroup": "Shizuoka ",
         "locationmode": "country names",
         "locations": [
          "Shizuoka "
         ],
         "marker": {
          "color": "#EF553B",
          "size": [
           3
          ],
          "sizemode": "area",
          "sizeref": 0.0575,
          "symbol": "circle"
         },
         "mode": "markers",
         "name": "Shizuoka ",
         "showlegend": true,
         "type": "scattergeo"
        },
        {
         "geo": "geo",
         "hovertemplate": "City=%{location}<br>MatchID=%{marker.size}<extra></extra>",
         "legendgroup": "Cagliari ",
         "locationmode": "country names",
         "locations": [
          "Cagliari "
         ],
         "marker": {
          "color": "#00cc96",
          "size": [
           3
          ],
          "sizemode": "area",
          "sizeref": 0.0575,
          "symbol": "circle"
         },
         "mode": "markers",
         "name": "Cagliari ",
         "showlegend": true,
         "type": "scattergeo"
        },
        {
         "geo": "geo",
         "hovertemplate": "City=%{location}<br>MatchID=%{marker.size}<extra></extra>",
         "legendgroup": "Busan ",
         "locationmode": "country names",
         "locations": [
          "Busan "
         ],
         "marker": {
          "color": "#ab63fa",
          "size": [
           3
          ],
          "sizemode": "area",
          "sizeref": 0.0575,
          "symbol": "circle"
         },
         "mode": "markers",
         "name": "Busan ",
         "showlegend": true,
         "type": "scattergeo"
        },
        {
         "geo": "geo",
         "hovertemplate": "City=%{location}<br>MatchID=%{marker.size}<extra></extra>",
         "legendgroup": "Malaga ",
         "locationmode": "country names",
         "locations": [
          "Malaga "
         ],
         "marker": {
          "color": "#FFA15A",
          "size": [
           3
          ],
          "sizemode": "area",
          "sizeref": 0.0575,
          "symbol": "circle"
         },
         "mode": "markers",
         "name": "Malaga ",
         "showlegend": true,
         "type": "scattergeo"
        },
        {
         "geo": "geo",
         "hovertemplate": "City=%{location}<br>MatchID=%{marker.size}<extra></extra>",
         "legendgroup": "Rifu ",
         "locationmode": "country names",
         "locations": [
          "Rifu "
         ],
         "marker": {
          "color": "#19d3f3",
          "size": [
           3
          ],
          "sizemode": "area",
          "sizeref": 0.0575,
          "symbol": "circle"
         },
         "mode": "markers",
         "name": "Rifu ",
         "showlegend": true,
         "type": "scattergeo"
        },
        {
         "geo": "geo",
         "hovertemplate": "City=%{location}<br>MatchID=%{marker.size}<extra></extra>",
         "legendgroup": "Elche ",
         "locationmode": "country names",
         "locations": [
          "Elche "
         ],
         "marker": {
          "color": "#FF6692",
          "size": [
           3
          ],
          "sizemode": "area",
          "sizeref": 0.0575,
          "symbol": "circle"
         },
         "mode": "markers",
         "name": "Elche ",
         "showlegend": true,
         "type": "scattergeo"
        },
        {
         "geo": "geo",
         "hovertemplate": "City=%{location}<br>MatchID=%{marker.size}<extra></extra>",
         "legendgroup": "Ibaraki ",
         "locationmode": "country names",
         "locations": [
          "Ibaraki "
         ],
         "marker": {
          "color": "#B6E880",
          "size": [
           3
          ],
          "sizemode": "area",
          "sizeref": 0.0575,
          "symbol": "circle"
         },
         "mode": "markers",
         "name": "Ibaraki ",
         "showlegend": true,
         "type": "scattergeo"
        },
        {
         "geo": "geo",
         "hovertemplate": "City=%{location}<br>MatchID=%{marker.size}<extra></extra>",
         "legendgroup": "Manchester ",
         "locationmode": "country names",
         "locations": [
          "Manchester "
         ],
         "marker": {
          "color": "#FF97FF",
          "size": [
           3
          ],
          "sizemode": "area",
          "sizeref": 0.0575,
          "symbol": "circle"
         },
         "mode": "markers",
         "name": "Manchester ",
         "showlegend": true,
         "type": "scattergeo"
        },
        {
         "geo": "geo",
         "hovertemplate": "City=%{location}<br>MatchID=%{marker.size}<extra></extra>",
         "legendgroup": "Middlesbrough ",
         "locationmode": "country names",
         "locations": [
          "Middlesbrough "
         ],
         "marker": {
          "color": "#FECB52",
          "size": [
           3
          ],
          "sizemode": "area",
          "sizeref": 0.0575,
          "symbol": "circle"
         },
         "mode": "markers",
         "name": "Middlesbrough ",
         "showlegend": true,
         "type": "scattergeo"
        },
        {
         "geo": "geo",
         "hovertemplate": "City=%{location}<br>MatchID=%{marker.size}<extra></extra>",
         "legendgroup": "La Coru�A ",
         "locationmode": "country names",
         "locations": [
          "La Coru�A "
         ],
         "marker": {
          "color": "#636efa",
          "size": [
           3
          ],
          "sizemode": "area",
          "sizeref": 0.0575,
          "symbol": "circle"
         },
         "mode": "markers",
         "name": "La Coru�A ",
         "showlegend": true,
         "type": "scattergeo"
        },
        {
         "geo": "geo",
         "hovertemplate": "City=%{location}<br>MatchID=%{marker.size}<extra></extra>",
         "legendgroup": "Kobe ",
         "locationmode": "country names",
         "locations": [
          "Kobe "
         ],
         "marker": {
          "color": "#EF553B",
          "size": [
           3
          ],
          "sizemode": "area",
          "sizeref": 0.0575,
          "symbol": "circle"
         },
         "mode": "markers",
         "name": "Kobe ",
         "showlegend": true,
         "type": "scattergeo"
        },
        {
         "geo": "geo",
         "hovertemplate": "City=%{location}<br>MatchID=%{marker.size}<extra></extra>",
         "legendgroup": "Jeonju ",
         "locationmode": "country names",
         "locations": [
          "Jeonju "
         ],
         "marker": {
          "color": "#00cc96",
          "size": [
           3
          ],
          "sizemode": "area",
          "sizeref": 0.0575,
          "symbol": "circle"
         },
         "mode": "markers",
         "name": "Jeonju ",
         "showlegend": true,
         "type": "scattergeo"
        },
        {
         "geo": "geo",
         "hovertemplate": "City=%{location}<br>MatchID=%{marker.size}<extra></extra>",
         "legendgroup": "Jeju ",
         "locationmode": "country names",
         "locations": [
          "Jeju "
         ],
         "marker": {
          "color": "#ab63fa",
          "size": [
           3
          ],
          "sizemode": "area",
          "sizeref": 0.0575,
          "symbol": "circle"
         },
         "mode": "markers",
         "name": "Jeju ",
         "showlegend": true,
         "type": "scattergeo"
        },
        {
         "geo": "geo",
         "hovertemplate": "City=%{location}<br>MatchID=%{marker.size}<extra></extra>",
         "legendgroup": "Irapuato ",
         "locationmode": "country names",
         "locations": [
          "Irapuato "
         ],
         "marker": {
          "color": "#FFA15A",
          "size": [
           3
          ],
          "sizemode": "area",
          "sizeref": 0.0575,
          "symbol": "circle"
         },
         "mode": "markers",
         "name": "Irapuato ",
         "showlegend": true,
         "type": "scattergeo"
        },
        {
         "geo": "geo",
         "hovertemplate": "City=%{location}<br>MatchID=%{marker.size}<extra></extra>",
         "legendgroup": "Incheon ",
         "locationmode": "country names",
         "locations": [
          "Incheon "
         ],
         "marker": {
          "color": "#19d3f3",
          "size": [
           3
          ],
          "sizemode": "area",
          "sizeref": 0.0575,
          "symbol": "circle"
         },
         "mode": "markers",
         "name": "Incheon ",
         "showlegend": true,
         "type": "scattergeo"
        },
        {
         "geo": "geo",
         "hovertemplate": "City=%{location}<br>MatchID=%{marker.size}<extra></extra>",
         "legendgroup": "Nezahualcoyotl ",
         "locationmode": "country names",
         "locations": [
          "Nezahualcoyotl "
         ],
         "marker": {
          "color": "#FF6692",
          "size": [
           3
          ],
          "sizemode": "area",
          "sizeref": 0.0575,
          "symbol": "circle"
         },
         "mode": "markers",
         "name": "Nezahualcoyotl ",
         "showlegend": true,
         "type": "scattergeo"
        },
        {
         "geo": "geo",
         "hovertemplate": "City=%{location}<br>MatchID=%{marker.size}<extra></extra>",
         "legendgroup": "Niigata ",
         "locationmode": "country names",
         "locations": [
          "Niigata "
         ],
         "marker": {
          "color": "#B6E880",
          "size": [
           3
          ],
          "sizemode": "area",
          "sizeref": 0.0575,
          "symbol": "circle"
         },
         "mode": "markers",
         "name": "Niigata ",
         "showlegend": true,
         "type": "scattergeo"
        },
        {
         "geo": "geo",
         "hovertemplate": "City=%{location}<br>MatchID=%{marker.size}<extra></extra>",
         "legendgroup": "Norrk�Ping ",
         "locationmode": "country names",
         "locations": [
          "Norrk�Ping "
         ],
         "marker": {
          "color": "#FF97FF",
          "size": [
           3
          ],
          "sizemode": "area",
          "sizeref": 0.0575,
          "symbol": "circle"
         },
         "mode": "markers",
         "name": "Norrk�Ping ",
         "showlegend": true,
         "type": "scattergeo"
        },
        {
         "geo": "geo",
         "hovertemplate": "City=%{location}<br>MatchID=%{marker.size}<extra></extra>",
         "legendgroup": "Alicante ",
         "locationmode": "country names",
         "locations": [
          "Alicante "
         ],
         "marker": {
          "color": "#FECB52",
          "size": [
           3
          ],
          "sizemode": "area",
          "sizeref": 0.0575,
          "symbol": "circle"
         },
         "mode": "markers",
         "name": "Alicante ",
         "showlegend": true,
         "type": "scattergeo"
        },
        {
         "geo": "geo",
         "hovertemplate": "City=%{location}<br>MatchID=%{marker.size}<extra></extra>",
         "legendgroup": "Palermo ",
         "locationmode": "country names",
         "locations": [
          "Palermo "
         ],
         "marker": {
          "color": "#636efa",
          "size": [
           3
          ],
          "sizemode": "area",
          "sizeref": 0.0575,
          "symbol": "circle"
         },
         "mode": "markers",
         "name": "Palermo ",
         "showlegend": true,
         "type": "scattergeo"
        },
        {
         "geo": "geo",
         "hovertemplate": "City=%{location}<br>MatchID=%{marker.size}<extra></extra>",
         "legendgroup": "Gijon ",
         "locationmode": "country names",
         "locations": [
          "Gijon "
         ],
         "marker": {
          "color": "#EF553B",
          "size": [
           3
          ],
          "sizemode": "area",
          "sizeref": 0.0575,
          "symbol": "circle"
         },
         "mode": "markers",
         "name": "Gijon ",
         "showlegend": true,
         "type": "scattergeo"
        },
        {
         "geo": "geo",
         "hovertemplate": "City=%{location}<br>MatchID=%{marker.size}<extra></extra>",
         "legendgroup": "Gwangju ",
         "locationmode": "country names",
         "locations": [
          "Gwangju "
         ],
         "marker": {
          "color": "#00cc96",
          "size": [
           3
          ],
          "sizemode": "area",
          "sizeref": 0.0575,
          "symbol": "circle"
         },
         "mode": "markers",
         "name": "Gwangju ",
         "showlegend": true,
         "type": "scattergeo"
        },
        {
         "geo": "geo",
         "hovertemplate": "City=%{location}<br>MatchID=%{marker.size}<extra></extra>",
         "legendgroup": "Osaka ",
         "locationmode": "country names",
         "locations": [
          "Osaka "
         ],
         "marker": {
          "color": "#ab63fa",
          "size": [
           3
          ],
          "sizemode": "area",
          "sizeref": 0.0575,
          "symbol": "circle"
         },
         "mode": "markers",
         "name": "Osaka ",
         "showlegend": true,
         "type": "scattergeo"
        },
        {
         "geo": "geo",
         "hovertemplate": "City=%{location}<br>MatchID=%{marker.size}<extra></extra>",
         "legendgroup": "Oviedo ",
         "locationmode": "country names",
         "locations": [
          "Oviedo "
         ],
         "marker": {
          "color": "#FFA15A",
          "size": [
           3
          ],
          "sizemode": "area",
          "sizeref": 0.0575,
          "symbol": "circle"
         },
         "mode": "markers",
         "name": "Oviedo ",
         "showlegend": true,
         "type": "scattergeo"
        },
        {
         "geo": "geo",
         "hovertemplate": "City=%{location}<br>MatchID=%{marker.size}<extra></extra>",
         "legendgroup": "Oita ",
         "locationmode": "country names",
         "locations": [
          "Oita "
         ],
         "marker": {
          "color": "#19d3f3",
          "size": [
           3
          ],
          "sizemode": "area",
          "sizeref": 0.0575,
          "symbol": "circle"
         },
         "mode": "markers",
         "name": "Oita ",
         "showlegend": true,
         "type": "scattergeo"
        },
        {
         "geo": "geo",
         "hovertemplate": "City=%{location}<br>MatchID=%{marker.size}<extra></extra>",
         "legendgroup": "Halmstad ",
         "locationmode": "country names",
         "locations": [
          "Halmstad "
         ],
         "marker": {
          "color": "#FF6692",
          "size": [
           2
          ],
          "sizemode": "area",
          "sizeref": 0.0575,
          "symbol": "circle"
         },
         "mode": "markers",
         "name": "Halmstad ",
         "showlegend": true,
         "type": "scattergeo"
        },
        {
         "geo": "geo",
         "hovertemplate": "City=%{location}<br>MatchID=%{marker.size}<extra></extra>",
         "legendgroup": "Vasteras ",
         "locationmode": "country names",
         "locations": [
          "Vasteras "
         ],
         "marker": {
          "color": "#B6E880",
          "size": [
           2
          ],
          "sizemode": "area",
          "sizeref": 0.0575,
          "symbol": "circle"
         },
         "mode": "markers",
         "name": "Vasteras ",
         "showlegend": true,
         "type": "scattergeo"
        },
        {
         "geo": "geo",
         "hovertemplate": "City=%{location}<br>MatchID=%{marker.size}<extra></extra>",
         "legendgroup": "Sandviken ",
         "locationmode": "country names",
         "locations": [
          "Sandviken "
         ],
         "marker": {
          "color": "#FF97FF",
          "size": [
           2
          ],
          "sizemode": "area",
          "sizeref": 0.0575,
          "symbol": "circle"
         },
         "mode": "markers",
         "name": "Sandviken ",
         "showlegend": true,
         "type": "scattergeo"
        },
        {
         "geo": "geo",
         "hovertemplate": "City=%{location}<br>MatchID=%{marker.size}<extra></extra>",
         "legendgroup": "Boras ",
         "locationmode": "country names",
         "locations": [
          "Boras "
         ],
         "marker": {
          "color": "#FECB52",
          "size": [
           2
          ],
          "sizemode": "area",
          "sizeref": 0.0575,
          "symbol": "circle"
         },
         "mode": "markers",
         "name": "Boras ",
         "showlegend": true,
         "type": "scattergeo"
        },
        {
         "geo": "geo",
         "hovertemplate": "City=%{location}<br>MatchID=%{marker.size}<extra></extra>",
         "legendgroup": "Helsingborg ",
         "locationmode": "country names",
         "locations": [
          "Helsingborg "
         ],
         "marker": {
          "color": "#636efa",
          "size": [
           2
          ],
          "sizemode": "area",
          "sizeref": 0.0575,
          "symbol": "circle"
         },
         "mode": "markers",
         "name": "Helsingborg ",
         "showlegend": true,
         "type": "scattergeo"
        },
        {
         "geo": "geo",
         "hovertemplate": "City=%{location}<br>MatchID=%{marker.size}<extra></extra>",
         "legendgroup": "Udevalla ",
         "locationmode": "country names",
         "locations": [
          "Udevalla "
         ],
         "marker": {
          "color": "#EF553B",
          "size": [
           1
          ],
          "sizemode": "area",
          "sizeref": 0.0575,
          "symbol": "circle"
         },
         "mode": "markers",
         "name": "Udevalla ",
         "showlegend": true,
         "type": "scattergeo"
        },
        {
         "geo": "geo",
         "hovertemplate": "City=%{location}<br>MatchID=%{marker.size}<extra></extra>",
         "legendgroup": "Trieste ",
         "locationmode": "country names",
         "locations": [
          "Trieste "
         ],
         "marker": {
          "color": "#00cc96",
          "size": [
           1
          ],
          "sizemode": "area",
          "sizeref": 0.0575,
          "symbol": "circle"
         },
         "mode": "markers",
         "name": "Trieste ",
         "showlegend": true,
         "type": "scattergeo"
        },
        {
         "geo": "geo",
         "hovertemplate": "City=%{location}<br>MatchID=%{marker.size}<extra></extra>",
         "legendgroup": "Reims ",
         "locationmode": "country names",
         "locations": [
          "Reims "
         ],
         "marker": {
          "color": "#ab63fa",
          "size": [
           1
          ],
          "sizemode": "area",
          "sizeref": 0.0575,
          "symbol": "circle"
         },
         "mode": "markers",
         "name": "Reims ",
         "showlegend": true,
         "type": "scattergeo"
        },
        {
         "geo": "geo",
         "hovertemplate": "City=%{location}<br>MatchID=%{marker.size}<extra></extra>",
         "legendgroup": "Le Havre ",
         "locationmode": "country names",
         "locations": [
          "Le Havre "
         ],
         "marker": {
          "color": "#FFA15A",
          "size": [
           1
          ],
          "sizemode": "area",
          "sizeref": 0.0575,
          "symbol": "circle"
         },
         "mode": "markers",
         "name": "Le Havre ",
         "showlegend": true,
         "type": "scattergeo"
        },
        {
         "geo": "geo",
         "hovertemplate": "City=%{location}<br>MatchID=%{marker.size}<extra></extra>",
         "legendgroup": "Orebro ",
         "locationmode": "country names",
         "locations": [
          "Orebro "
         ],
         "marker": {
          "color": "#19d3f3",
          "size": [
           1
          ],
          "sizemode": "area",
          "sizeref": 0.0575,
          "symbol": "circle"
         },
         "mode": "markers",
         "name": "Orebro ",
         "showlegend": true,
         "type": "scattergeo"
        },
        {
         "geo": "geo",
         "hovertemplate": "City=%{location}<br>MatchID=%{marker.size}<extra></extra>",
         "legendgroup": "Lille ",
         "locationmode": "country names",
         "locations": [
          "Lille "
         ],
         "marker": {
          "color": "#FF6692",
          "size": [
           1
          ],
          "sizemode": "area",
          "sizeref": 0.0575,
          "symbol": "circle"
         },
         "mode": "markers",
         "name": "Lille ",
         "showlegend": true,
         "type": "scattergeo"
        },
        {
         "geo": "geo",
         "hovertemplate": "City=%{location}<br>MatchID=%{marker.size}<extra></extra>",
         "legendgroup": "Lugano ",
         "locationmode": "country names",
         "locations": [
          "Lugano "
         ],
         "marker": {
          "color": "#B6E880",
          "size": [
           1
          ],
          "sizemode": "area",
          "sizeref": 0.0575,
          "symbol": "circle"
         },
         "mode": "markers",
         "name": "Lugano ",
         "showlegend": true,
         "type": "scattergeo"
        },
        {
         "geo": "geo",
         "hovertemplate": "City=%{location}<br>MatchID=%{marker.size}<extra></extra>",
         "legendgroup": "Antibes ",
         "locationmode": "country names",
         "locations": [
          "Antibes "
         ],
         "marker": {
          "color": "#FF97FF",
          "size": [
           1
          ],
          "sizemode": "area",
          "sizeref": 0.0575,
          "symbol": "circle"
         },
         "mode": "markers",
         "name": "Antibes ",
         "showlegend": true,
         "type": "scattergeo"
        },
        {
         "geo": "geo",
         "hovertemplate": "City=%{location}<br>MatchID=%{marker.size}<extra></extra>",
         "legendgroup": "Eskilstuna ",
         "locationmode": "country names",
         "locations": [
          "Eskilstuna "
         ],
         "marker": {
          "color": "#FECB52",
          "size": [
           1
          ],
          "sizemode": "area",
          "sizeref": 0.0575,
          "symbol": "circle"
         },
         "mode": "markers",
         "name": "Eskilstuna ",
         "showlegend": true,
         "type": "scattergeo"
        },
        {
         "geo": "geo",
         "hovertemplate": "City=%{location}<br>MatchID=%{marker.size}<extra></extra>",
         "legendgroup": "Strasbourg ",
         "locationmode": "country names",
         "locations": [
          "Strasbourg "
         ],
         "marker": {
          "color": "#636efa",
          "size": [
           1
          ],
          "sizemode": "area",
          "sizeref": 0.0575,
          "symbol": "circle"
         },
         "mode": "markers",
         "name": "Strasbourg ",
         "showlegend": true,
         "type": "scattergeo"
        }
       ],
       "layout": {
        "geo": {
         "center": {},
         "domain": {
          "x": [
           0,
           1
          ],
          "y": [
           0,
           1
          ]
         }
        },
        "legend": {
         "itemsizing": "constant",
         "title": {
          "text": "City"
         },
         "tracegroupgap": 0
        },
        "margin": {
         "t": 60
        },
        "template": {
         "data": {
          "bar": [
           {
            "error_x": {
             "color": "#2a3f5f"
            },
            "error_y": {
             "color": "#2a3f5f"
            },
            "marker": {
             "line": {
              "color": "#E5ECF6",
              "width": 0.5
             },
             "pattern": {
              "fillmode": "overlay",
              "size": 10,
              "solidity": 0.2
             }
            },
            "type": "bar"
           }
          ],
          "barpolar": [
           {
            "marker": {
             "line": {
              "color": "#E5ECF6",
              "width": 0.5
             },
             "pattern": {
              "fillmode": "overlay",
              "size": 10,
              "solidity": 0.2
             }
            },
            "type": "barpolar"
           }
          ],
          "carpet": [
           {
            "aaxis": {
             "endlinecolor": "#2a3f5f",
             "gridcolor": "white",
             "linecolor": "white",
             "minorgridcolor": "white",
             "startlinecolor": "#2a3f5f"
            },
            "baxis": {
             "endlinecolor": "#2a3f5f",
             "gridcolor": "white",
             "linecolor": "white",
             "minorgridcolor": "white",
             "startlinecolor": "#2a3f5f"
            },
            "type": "carpet"
           }
          ],
          "choropleth": [
           {
            "colorbar": {
             "outlinewidth": 0,
             "ticks": ""
            },
            "type": "choropleth"
           }
          ],
          "contour": [
           {
            "colorbar": {
             "outlinewidth": 0,
             "ticks": ""
            },
            "colorscale": [
             [
              0,
              "#0d0887"
             ],
             [
              0.1111111111111111,
              "#46039f"
             ],
             [
              0.2222222222222222,
              "#7201a8"
             ],
             [
              0.3333333333333333,
              "#9c179e"
             ],
             [
              0.4444444444444444,
              "#bd3786"
             ],
             [
              0.5555555555555556,
              "#d8576b"
             ],
             [
              0.6666666666666666,
              "#ed7953"
             ],
             [
              0.7777777777777778,
              "#fb9f3a"
             ],
             [
              0.8888888888888888,
              "#fdca26"
             ],
             [
              1,
              "#f0f921"
             ]
            ],
            "type": "contour"
           }
          ],
          "contourcarpet": [
           {
            "colorbar": {
             "outlinewidth": 0,
             "ticks": ""
            },
            "type": "contourcarpet"
           }
          ],
          "heatmap": [
           {
            "colorbar": {
             "outlinewidth": 0,
             "ticks": ""
            },
            "colorscale": [
             [
              0,
              "#0d0887"
             ],
             [
              0.1111111111111111,
              "#46039f"
             ],
             [
              0.2222222222222222,
              "#7201a8"
             ],
             [
              0.3333333333333333,
              "#9c179e"
             ],
             [
              0.4444444444444444,
              "#bd3786"
             ],
             [
              0.5555555555555556,
              "#d8576b"
             ],
             [
              0.6666666666666666,
              "#ed7953"
             ],
             [
              0.7777777777777778,
              "#fb9f3a"
             ],
             [
              0.8888888888888888,
              "#fdca26"
             ],
             [
              1,
              "#f0f921"
             ]
            ],
            "type": "heatmap"
           }
          ],
          "heatmapgl": [
           {
            "colorbar": {
             "outlinewidth": 0,
             "ticks": ""
            },
            "colorscale": [
             [
              0,
              "#0d0887"
             ],
             [
              0.1111111111111111,
              "#46039f"
             ],
             [
              0.2222222222222222,
              "#7201a8"
             ],
             [
              0.3333333333333333,
              "#9c179e"
             ],
             [
              0.4444444444444444,
              "#bd3786"
             ],
             [
              0.5555555555555556,
              "#d8576b"
             ],
             [
              0.6666666666666666,
              "#ed7953"
             ],
             [
              0.7777777777777778,
              "#fb9f3a"
             ],
             [
              0.8888888888888888,
              "#fdca26"
             ],
             [
              1,
              "#f0f921"
             ]
            ],
            "type": "heatmapgl"
           }
          ],
          "histogram": [
           {
            "marker": {
             "pattern": {
              "fillmode": "overlay",
              "size": 10,
              "solidity": 0.2
             }
            },
            "type": "histogram"
           }
          ],
          "histogram2d": [
           {
            "colorbar": {
             "outlinewidth": 0,
             "ticks": ""
            },
            "colorscale": [
             [
              0,
              "#0d0887"
             ],
             [
              0.1111111111111111,
              "#46039f"
             ],
             [
              0.2222222222222222,
              "#7201a8"
             ],
             [
              0.3333333333333333,
              "#9c179e"
             ],
             [
              0.4444444444444444,
              "#bd3786"
             ],
             [
              0.5555555555555556,
              "#d8576b"
             ],
             [
              0.6666666666666666,
              "#ed7953"
             ],
             [
              0.7777777777777778,
              "#fb9f3a"
             ],
             [
              0.8888888888888888,
              "#fdca26"
             ],
             [
              1,
              "#f0f921"
             ]
            ],
            "type": "histogram2d"
           }
          ],
          "histogram2dcontour": [
           {
            "colorbar": {
             "outlinewidth": 0,
             "ticks": ""
            },
            "colorscale": [
             [
              0,
              "#0d0887"
             ],
             [
              0.1111111111111111,
              "#46039f"
             ],
             [
              0.2222222222222222,
              "#7201a8"
             ],
             [
              0.3333333333333333,
              "#9c179e"
             ],
             [
              0.4444444444444444,
              "#bd3786"
             ],
             [
              0.5555555555555556,
              "#d8576b"
             ],
             [
              0.6666666666666666,
              "#ed7953"
             ],
             [
              0.7777777777777778,
              "#fb9f3a"
             ],
             [
              0.8888888888888888,
              "#fdca26"
             ],
             [
              1,
              "#f0f921"
             ]
            ],
            "type": "histogram2dcontour"
           }
          ],
          "mesh3d": [
           {
            "colorbar": {
             "outlinewidth": 0,
             "ticks": ""
            },
            "type": "mesh3d"
           }
          ],
          "parcoords": [
           {
            "line": {
             "colorbar": {
              "outlinewidth": 0,
              "ticks": ""
             }
            },
            "type": "parcoords"
           }
          ],
          "pie": [
           {
            "automargin": true,
            "type": "pie"
           }
          ],
          "scatter": [
           {
            "fillpattern": {
             "fillmode": "overlay",
             "size": 10,
             "solidity": 0.2
            },
            "type": "scatter"
           }
          ],
          "scatter3d": [
           {
            "line": {
             "colorbar": {
              "outlinewidth": 0,
              "ticks": ""
             }
            },
            "marker": {
             "colorbar": {
              "outlinewidth": 0,
              "ticks": ""
             }
            },
            "type": "scatter3d"
           }
          ],
          "scattercarpet": [
           {
            "marker": {
             "colorbar": {
              "outlinewidth": 0,
              "ticks": ""
             }
            },
            "type": "scattercarpet"
           }
          ],
          "scattergeo": [
           {
            "marker": {
             "colorbar": {
              "outlinewidth": 0,
              "ticks": ""
             }
            },
            "type": "scattergeo"
           }
          ],
          "scattergl": [
           {
            "marker": {
             "colorbar": {
              "outlinewidth": 0,
              "ticks": ""
             }
            },
            "type": "scattergl"
           }
          ],
          "scattermapbox": [
           {
            "marker": {
             "colorbar": {
              "outlinewidth": 0,
              "ticks": ""
             }
            },
            "type": "scattermapbox"
           }
          ],
          "scatterpolar": [
           {
            "marker": {
             "colorbar": {
              "outlinewidth": 0,
              "ticks": ""
             }
            },
            "type": "scatterpolar"
           }
          ],
          "scatterpolargl": [
           {
            "marker": {
             "colorbar": {
              "outlinewidth": 0,
              "ticks": ""
             }
            },
            "type": "scatterpolargl"
           }
          ],
          "scatterternary": [
           {
            "marker": {
             "colorbar": {
              "outlinewidth": 0,
              "ticks": ""
             }
            },
            "type": "scatterternary"
           }
          ],
          "surface": [
           {
            "colorbar": {
             "outlinewidth": 0,
             "ticks": ""
            },
            "colorscale": [
             [
              0,
              "#0d0887"
             ],
             [
              0.1111111111111111,
              "#46039f"
             ],
             [
              0.2222222222222222,
              "#7201a8"
             ],
             [
              0.3333333333333333,
              "#9c179e"
             ],
             [
              0.4444444444444444,
              "#bd3786"
             ],
             [
              0.5555555555555556,
              "#d8576b"
             ],
             [
              0.6666666666666666,
              "#ed7953"
             ],
             [
              0.7777777777777778,
              "#fb9f3a"
             ],
             [
              0.8888888888888888,
              "#fdca26"
             ],
             [
              1,
              "#f0f921"
             ]
            ],
            "type": "surface"
           }
          ],
          "table": [
           {
            "cells": {
             "fill": {
              "color": "#EBF0F8"
             },
             "line": {
              "color": "white"
             }
            },
            "header": {
             "fill": {
              "color": "#C8D4E3"
             },
             "line": {
              "color": "white"
             }
            },
            "type": "table"
           }
          ]
         },
         "layout": {
          "annotationdefaults": {
           "arrowcolor": "#2a3f5f",
           "arrowhead": 0,
           "arrowwidth": 1
          },
          "autotypenumbers": "strict",
          "coloraxis": {
           "colorbar": {
            "outlinewidth": 0,
            "ticks": ""
           }
          },
          "colorscale": {
           "diverging": [
            [
             0,
             "#8e0152"
            ],
            [
             0.1,
             "#c51b7d"
            ],
            [
             0.2,
             "#de77ae"
            ],
            [
             0.3,
             "#f1b6da"
            ],
            [
             0.4,
             "#fde0ef"
            ],
            [
             0.5,
             "#f7f7f7"
            ],
            [
             0.6,
             "#e6f5d0"
            ],
            [
             0.7,
             "#b8e186"
            ],
            [
             0.8,
             "#7fbc41"
            ],
            [
             0.9,
             "#4d9221"
            ],
            [
             1,
             "#276419"
            ]
           ],
           "sequential": [
            [
             0,
             "#0d0887"
            ],
            [
             0.1111111111111111,
             "#46039f"
            ],
            [
             0.2222222222222222,
             "#7201a8"
            ],
            [
             0.3333333333333333,
             "#9c179e"
            ],
            [
             0.4444444444444444,
             "#bd3786"
            ],
            [
             0.5555555555555556,
             "#d8576b"
            ],
            [
             0.6666666666666666,
             "#ed7953"
            ],
            [
             0.7777777777777778,
             "#fb9f3a"
            ],
            [
             0.8888888888888888,
             "#fdca26"
            ],
            [
             1,
             "#f0f921"
            ]
           ],
           "sequentialminus": [
            [
             0,
             "#0d0887"
            ],
            [
             0.1111111111111111,
             "#46039f"
            ],
            [
             0.2222222222222222,
             "#7201a8"
            ],
            [
             0.3333333333333333,
             "#9c179e"
            ],
            [
             0.4444444444444444,
             "#bd3786"
            ],
            [
             0.5555555555555556,
             "#d8576b"
            ],
            [
             0.6666666666666666,
             "#ed7953"
            ],
            [
             0.7777777777777778,
             "#fb9f3a"
            ],
            [
             0.8888888888888888,
             "#fdca26"
            ],
            [
             1,
             "#f0f921"
            ]
           ]
          },
          "colorway": [
           "#636efa",
           "#EF553B",
           "#00cc96",
           "#ab63fa",
           "#FFA15A",
           "#19d3f3",
           "#FF6692",
           "#B6E880",
           "#FF97FF",
           "#FECB52"
          ],
          "font": {
           "color": "#2a3f5f"
          },
          "geo": {
           "bgcolor": "white",
           "lakecolor": "white",
           "landcolor": "#E5ECF6",
           "showlakes": true,
           "showland": true,
           "subunitcolor": "white"
          },
          "hoverlabel": {
           "align": "left"
          },
          "hovermode": "closest",
          "mapbox": {
           "style": "light"
          },
          "paper_bgcolor": "white",
          "plot_bgcolor": "#E5ECF6",
          "polar": {
           "angularaxis": {
            "gridcolor": "white",
            "linecolor": "white",
            "ticks": ""
           },
           "bgcolor": "#E5ECF6",
           "radialaxis": {
            "gridcolor": "white",
            "linecolor": "white",
            "ticks": ""
           }
          },
          "scene": {
           "xaxis": {
            "backgroundcolor": "#E5ECF6",
            "gridcolor": "white",
            "gridwidth": 2,
            "linecolor": "white",
            "showbackground": true,
            "ticks": "",
            "zerolinecolor": "white"
           },
           "yaxis": {
            "backgroundcolor": "#E5ECF6",
            "gridcolor": "white",
            "gridwidth": 2,
            "linecolor": "white",
            "showbackground": true,
            "ticks": "",
            "zerolinecolor": "white"
           },
           "zaxis": {
            "backgroundcolor": "#E5ECF6",
            "gridcolor": "white",
            "gridwidth": 2,
            "linecolor": "white",
            "showbackground": true,
            "ticks": "",
            "zerolinecolor": "white"
           }
          },
          "shapedefaults": {
           "line": {
            "color": "#2a3f5f"
           }
          },
          "ternary": {
           "aaxis": {
            "gridcolor": "white",
            "linecolor": "white",
            "ticks": ""
           },
           "baxis": {
            "gridcolor": "white",
            "linecolor": "white",
            "ticks": ""
           },
           "bgcolor": "#E5ECF6",
           "caxis": {
            "gridcolor": "white",
            "linecolor": "white",
            "ticks": ""
           }
          },
          "title": {
           "x": 0.05
          },
          "xaxis": {
           "automargin": true,
           "gridcolor": "white",
           "linecolor": "white",
           "ticks": "",
           "title": {
            "standoff": 15
           },
           "zerolinecolor": "white",
           "zerolinewidth": 2
          },
          "yaxis": {
           "automargin": true,
           "gridcolor": "white",
           "linecolor": "white",
           "ticks": "",
           "title": {
            "standoff": 15
           },
           "zerolinecolor": "white",
           "zerolinewidth": 2
          }
         }
        }
       }
      },
      "text/html": [
       "<div>                            <div id=\"44046823-b2b7-4d57-8e9b-d7ba73b34ca9\" class=\"plotly-graph-div\" style=\"height:525px; width:100%;\"></div>            <script type=\"text/javascript\">                require([\"plotly\"], function(Plotly) {                    window.PLOTLYENV=window.PLOTLYENV || {};                                    if (document.getElementById(\"44046823-b2b7-4d57-8e9b-d7ba73b34ca9\")) {                    Plotly.newPlot(                        \"44046823-b2b7-4d57-8e9b-d7ba73b34ca9\",                        [{\"geo\":\"geo\",\"hovertemplate\":\"City=%{location}<br>MatchID=%{marker.size}<extra></extra>\",\"legendgroup\":\"Mexico City \",\"locationmode\":\"country names\",\"locations\":[\"Mexico City \"],\"marker\":{\"color\":\"#636efa\",\"size\":[23],\"sizemode\":\"area\",\"sizeref\":0.0575,\"symbol\":\"circle\"},\"mode\":\"markers\",\"name\":\"Mexico City \",\"showlegend\":true,\"type\":\"scattergeo\"},{\"geo\":\"geo\",\"hovertemplate\":\"City=%{location}<br>MatchID=%{marker.size}<extra></extra>\",\"legendgroup\":\"Montevideo \",\"locationmode\":\"country names\",\"locations\":[\"Montevideo \"],\"marker\":{\"color\":\"#EF553B\",\"size\":[18],\"sizemode\":\"area\",\"sizeref\":0.0575,\"symbol\":\"circle\"},\"mode\":\"markers\",\"name\":\"Montevideo \",\"showlegend\":true,\"type\":\"scattergeo\"},{\"geo\":\"geo\",\"hovertemplate\":\"City=%{location}<br>MatchID=%{marker.size}<extra></extra>\",\"legendgroup\":\"Rio De Janeiro \",\"locationmode\":\"country names\",\"locations\":[\"Rio De Janeiro \"],\"marker\":{\"color\":\"#00cc96\",\"size\":[18],\"sizemode\":\"area\",\"sizeref\":0.0575,\"symbol\":\"circle\"},\"mode\":\"markers\",\"name\":\"Rio De Janeiro \",\"showlegend\":true,\"type\":\"scattergeo\"},{\"geo\":\"geo\",\"hovertemplate\":\"City=%{location}<br>MatchID=%{marker.size}<extra></extra>\",\"legendgroup\":\"Guadalajara \",\"locationmode\":\"country names\",\"locations\":[\"Guadalajara \"],\"marker\":{\"color\":\"#ab63fa\",\"size\":[17],\"sizemode\":\"area\",\"sizeref\":0.0575,\"symbol\":\"circle\"},\"mode\":\"markers\",\"name\":\"Guadalajara \",\"showlegend\":true,\"type\":\"scattergeo\"},{\"geo\":\"geo\",\"hovertemplate\":\"City=%{location}<br>MatchID=%{marker.size}<extra></extra>\",\"legendgroup\":\"Johannesburg \",\"locationmode\":\"country names\",\"locations\":[\"Johannesburg \"],\"marker\":{\"color\":\"#FFA15A\",\"size\":[15],\"sizemode\":\"area\",\"sizeref\":0.0575,\"symbol\":\"circle\"},\"mode\":\"markers\",\"name\":\"Johannesburg \",\"showlegend\":true,\"type\":\"scattergeo\"},{\"geo\":\"geo\",\"hovertemplate\":\"City=%{location}<br>MatchID=%{marker.size}<extra></extra>\",\"legendgroup\":\"Sao Paulo \",\"locationmode\":\"country names\",\"locations\":[\"Sao Paulo \"],\"marker\":{\"color\":\"#19d3f3\",\"size\":[14],\"sizemode\":\"area\",\"sizeref\":0.0575,\"symbol\":\"circle\"},\"mode\":\"markers\",\"name\":\"Sao Paulo \",\"showlegend\":true,\"type\":\"scattergeo\"},{\"geo\":\"geo\",\"hovertemplate\":\"City=%{location}<br>MatchID=%{marker.size}<extra></extra>\",\"legendgroup\":\"Buenos Aires \",\"locationmode\":\"country names\",\"locations\":[\"Buenos Aires \"],\"marker\":{\"color\":\"#FF6692\",\"size\":[12],\"sizemode\":\"area\",\"sizeref\":0.0575,\"symbol\":\"circle\"},\"mode\":\"markers\",\"name\":\"Buenos Aires \",\"showlegend\":true,\"type\":\"scattergeo\"},{\"geo\":\"geo\",\"hovertemplate\":\"City=%{location}<br>MatchID=%{marker.size}<extra></extra>\",\"legendgroup\":\"Belo Horizonte \",\"locationmode\":\"country names\",\"locations\":[\"Belo Horizonte \"],\"marker\":{\"color\":\"#B6E880\",\"size\":[11],\"sizemode\":\"area\",\"sizeref\":0.0575,\"symbol\":\"circle\"},\"mode\":\"markers\",\"name\":\"Belo Horizonte \",\"showlegend\":true,\"type\":\"scattergeo\"},{\"geo\":\"geo\",\"hovertemplate\":\"City=%{location}<br>MatchID=%{marker.size}<extra></extra>\",\"legendgroup\":\"Munich \",\"locationmode\":\"country names\",\"locations\":[\"Munich \"],\"marker\":{\"color\":\"#FF97FF\",\"size\":[11],\"sizemode\":\"area\",\"sizeref\":0.0575,\"symbol\":\"circle\"},\"mode\":\"markers\",\"name\":\"Munich \",\"showlegend\":true,\"type\":\"scattergeo\"},{\"geo\":\"geo\",\"hovertemplate\":\"City=%{location}<br>MatchID=%{marker.size}<extra></extra>\",\"legendgroup\":\"Leon \",\"locationmode\":\"country names\",\"locations\":[\"Leon \"],\"marker\":{\"color\":\"#FECB52\",\"size\":[11],\"sizemode\":\"area\",\"sizeref\":0.0575,\"symbol\":\"circle\"},\"mode\":\"markers\",\"name\":\"Leon \",\"showlegend\":true,\"type\":\"scattergeo\"},{\"geo\":\"geo\",\"hovertemplate\":\"City=%{location}<br>MatchID=%{marker.size}<extra></extra>\",\"legendgroup\":\"Dortmund \",\"locationmode\":\"country names\",\"locations\":[\"Dortmund \"],\"marker\":{\"color\":\"#636efa\",\"size\":[10],\"sizemode\":\"area\",\"sizeref\":0.0575,\"symbol\":\"circle\"},\"mode\":\"markers\",\"name\":\"Dortmund \",\"showlegend\":true,\"type\":\"scattergeo\"},{\"geo\":\"geo\",\"hovertemplate\":\"City=%{location}<br>MatchID=%{marker.size}<extra></extra>\",\"legendgroup\":\"London \",\"locationmode\":\"country names\",\"locations\":[\"London \"],\"marker\":{\"color\":\"#EF553B\",\"size\":[10],\"sizemode\":\"area\",\"sizeref\":0.0575,\"symbol\":\"circle\"},\"mode\":\"markers\",\"name\":\"London \",\"showlegend\":true,\"type\":\"scattergeo\"},{\"geo\":\"geo\",\"hovertemplate\":\"City=%{location}<br>MatchID=%{marker.size}<extra></extra>\",\"legendgroup\":\"Stuttgart \",\"locationmode\":\"country names\",\"locations\":[\"Stuttgart \"],\"marker\":{\"color\":\"#00cc96\",\"size\":[10],\"sizemode\":\"area\",\"sizeref\":0.0575,\"symbol\":\"circle\"},\"mode\":\"markers\",\"name\":\"Stuttgart \",\"showlegend\":true,\"type\":\"scattergeo\"},{\"geo\":\"geo\",\"hovertemplate\":\"City=%{location}<br>MatchID=%{marker.size}<extra></extra>\",\"legendgroup\":\"Santiago De Chile \",\"locationmode\":\"country names\",\"locations\":[\"Santiago De Chile \"],\"marker\":{\"color\":\"#ab63fa\",\"size\":[10],\"sizemode\":\"area\",\"sizeref\":0.0575,\"symbol\":\"circle\"},\"mode\":\"markers\",\"name\":\"Santiago De Chile \",\"showlegend\":true,\"type\":\"scattergeo\"},{\"geo\":\"geo\",\"hovertemplate\":\"City=%{location}<br>MatchID=%{marker.size}<extra></extra>\",\"legendgroup\":\"Gelsenkirchen \",\"locationmode\":\"country names\",\"locations\":[\"Gelsenkirchen \"],\"marker\":{\"color\":\"#FFA15A\",\"size\":[10],\"sizemode\":\"area\",\"sizeref\":0.0575,\"symbol\":\"circle\"},\"mode\":\"markers\",\"name\":\"Gelsenkirchen \",\"showlegend\":true,\"type\":\"scattergeo\"},{\"geo\":\"geo\",\"hovertemplate\":\"City=%{location}<br>MatchID=%{marker.size}<extra></extra>\",\"legendgroup\":\"Frankfurt/Main \",\"locationmode\":\"country names\",\"locations\":[\"Frankfurt/Main \"],\"marker\":{\"color\":\"#19d3f3\",\"size\":[10],\"sizemode\":\"area\",\"sizeref\":0.0575,\"symbol\":\"circle\"},\"mode\":\"markers\",\"name\":\"Frankfurt/Main \",\"showlegend\":true,\"type\":\"scattergeo\"},{\"geo\":\"geo\",\"hovertemplate\":\"City=%{location}<br>MatchID=%{marker.size}<extra></extra>\",\"legendgroup\":\"Brasilia \",\"locationmode\":\"country names\",\"locations\":[\"Brasilia \"],\"marker\":{\"color\":\"#FF6692\",\"size\":[10],\"sizemode\":\"area\",\"sizeref\":0.0575,\"symbol\":\"circle\"},\"mode\":\"markers\",\"name\":\"Brasilia \",\"showlegend\":true,\"type\":\"scattergeo\"},{\"geo\":\"geo\",\"hovertemplate\":\"City=%{location}<br>MatchID=%{marker.size}<extra></extra>\",\"legendgroup\":\"Rome \",\"locationmode\":\"country names\",\"locations\":[\"Rome \"],\"marker\":{\"color\":\"#B6E880\",\"size\":[9],\"sizemode\":\"area\",\"sizeref\":0.0575,\"symbol\":\"circle\"},\"mode\":\"markers\",\"name\":\"Rome \",\"showlegend\":true,\"type\":\"scattergeo\"},{\"geo\":\"geo\",\"hovertemplate\":\"City=%{location}<br>MatchID=%{marker.size}<extra></extra>\",\"legendgroup\":\"Bordeaux \",\"locationmode\":\"country names\",\"locations\":[\"Bordeaux \"],\"marker\":{\"color\":\"#FF97FF\",\"size\":[9],\"sizemode\":\"area\",\"sizeref\":0.0575,\"symbol\":\"circle\"},\"mode\":\"markers\",\"name\":\"Bordeaux \",\"showlegend\":true,\"type\":\"scattergeo\"},{\"geo\":\"geo\",\"hovertemplate\":\"City=%{location}<br>MatchID=%{marker.size}<extra></extra>\",\"legendgroup\":\"Saint-Denis \",\"locationmode\":\"country names\",\"locations\":[\"Saint-Denis \"],\"marker\":{\"color\":\"#FECB52\",\"size\":[9],\"sizemode\":\"area\",\"sizeref\":0.0575,\"symbol\":\"circle\"},\"mode\":\"markers\",\"name\":\"Saint-Denis \",\"showlegend\":true,\"type\":\"scattergeo\"},{\"geo\":\"geo\",\"hovertemplate\":\"City=%{location}<br>MatchID=%{marker.size}<extra></extra>\",\"legendgroup\":\"Marseilles \",\"locationmode\":\"country names\",\"locations\":[\"Marseilles \"],\"marker\":{\"color\":\"#636efa\",\"size\":[9],\"sizemode\":\"area\",\"sizeref\":0.0575,\"symbol\":\"circle\"},\"mode\":\"markers\",\"name\":\"Marseilles \",\"showlegend\":true,\"type\":\"scattergeo\"},{\"geo\":\"geo\",\"hovertemplate\":\"City=%{location}<br>MatchID=%{marker.size}<extra></extra>\",\"legendgroup\":\"Paris \",\"locationmode\":\"country names\",\"locations\":[\"Paris \"],\"marker\":{\"color\":\"#EF553B\",\"size\":[9],\"sizemode\":\"area\",\"sizeref\":0.0575,\"symbol\":\"circle\"},\"mode\":\"markers\",\"name\":\"Paris \",\"showlegend\":true,\"type\":\"scattergeo\"},{\"geo\":\"geo\",\"hovertemplate\":\"City=%{location}<br>MatchID=%{marker.size}<extra></extra>\",\"legendgroup\":\"Hanover \",\"locationmode\":\"country names\",\"locations\":[\"Hanover \"],\"marker\":{\"color\":\"#00cc96\",\"size\":[9],\"sizemode\":\"area\",\"sizeref\":0.0575,\"symbol\":\"circle\"},\"mode\":\"markers\",\"name\":\"Hanover \",\"showlegend\":true,\"type\":\"scattergeo\"},{\"geo\":\"geo\",\"hovertemplate\":\"City=%{location}<br>MatchID=%{marker.size}<extra></extra>\",\"legendgroup\":\"Milan \",\"locationmode\":\"country names\",\"locations\":[\"Milan \"],\"marker\":{\"color\":\"#ab63fa\",\"size\":[9],\"sizemode\":\"area\",\"sizeref\":0.0575,\"symbol\":\"circle\"},\"mode\":\"markers\",\"name\":\"Milan \",\"showlegend\":true,\"type\":\"scattergeo\"},{\"geo\":\"geo\",\"hovertemplate\":\"City=%{location}<br>MatchID=%{marker.size}<extra></extra>\",\"legendgroup\":\"Fortaleza \",\"locationmode\":\"country names\",\"locations\":[\"Fortaleza \"],\"marker\":{\"color\":\"#FFA15A\",\"size\":[8],\"sizemode\":\"area\",\"sizeref\":0.0575,\"symbol\":\"circle\"},\"mode\":\"markers\",\"name\":\"Fortaleza \",\"showlegend\":true,\"type\":\"scattergeo\"},{\"geo\":\"geo\",\"hovertemplate\":\"City=%{location}<br>MatchID=%{marker.size}<extra></extra>\",\"legendgroup\":\"Puebla \",\"locationmode\":\"country names\",\"locations\":[\"Puebla \"],\"marker\":{\"color\":\"#19d3f3\",\"size\":[8],\"sizemode\":\"area\",\"sizeref\":0.0575,\"symbol\":\"circle\"},\"mode\":\"markers\",\"name\":\"Puebla \",\"showlegend\":true,\"type\":\"scattergeo\"},{\"geo\":\"geo\",\"hovertemplate\":\"City=%{location}<br>MatchID=%{marker.size}<extra></extra>\",\"legendgroup\":\"Hamburg \",\"locationmode\":\"country names\",\"locations\":[\"Hamburg \"],\"marker\":{\"color\":\"#FF6692\",\"size\":[8],\"sizemode\":\"area\",\"sizeref\":0.0575,\"symbol\":\"circle\"},\"mode\":\"markers\",\"name\":\"Hamburg \",\"showlegend\":true,\"type\":\"scattergeo\"},{\"geo\":\"geo\",\"hovertemplate\":\"City=%{location}<br>MatchID=%{marker.size}<extra></extra>\",\"legendgroup\":\"Monterrey \",\"locationmode\":\"country names\",\"locations\":[\"Monterrey \"],\"marker\":{\"color\":\"#B6E880\",\"size\":[8],\"sizemode\":\"area\",\"sizeref\":0.0575,\"symbol\":\"circle\"},\"mode\":\"markers\",\"name\":\"Monterrey \",\"showlegend\":true,\"type\":\"scattergeo\"},{\"geo\":\"geo\",\"hovertemplate\":\"City=%{location}<br>MatchID=%{marker.size}<extra></extra>\",\"legendgroup\":\"Nelson Mandela Bay/Port Elizabeth \",\"locationmode\":\"country names\",\"locations\":[\"Nelson Mandela Bay/Port Elizabeth \"],\"marker\":{\"color\":\"#FF97FF\",\"size\":[8],\"sizemode\":\"area\",\"sizeref\":0.0575,\"symbol\":\"circle\"},\"mode\":\"markers\",\"name\":\"Nelson Mandela Bay/Port Elizabeth \",\"showlegend\":true,\"type\":\"scattergeo\"},{\"geo\":\"geo\",\"hovertemplate\":\"City=%{location}<br>MatchID=%{marker.size}<extra></extra>\",\"legendgroup\":\"Toulouse \",\"locationmode\":\"country names\",\"locations\":[\"Toulouse \"],\"marker\":{\"color\":\"#FECB52\",\"size\":[8],\"sizemode\":\"area\",\"sizeref\":0.0575,\"symbol\":\"circle\"},\"mode\":\"markers\",\"name\":\"Toulouse \",\"showlegend\":true,\"type\":\"scattergeo\"},{\"geo\":\"geo\",\"hovertemplate\":\"City=%{location}<br>MatchID=%{marker.size}<extra></extra>\",\"legendgroup\":\"Salvador \",\"locationmode\":\"country names\",\"locations\":[\"Salvador \"],\"marker\":{\"color\":\"#636efa\",\"size\":[8],\"sizemode\":\"area\",\"sizeref\":0.0575,\"symbol\":\"circle\"},\"mode\":\"markers\",\"name\":\"Salvador \",\"showlegend\":true,\"type\":\"scattergeo\"},{\"geo\":\"geo\",\"hovertemplate\":\"City=%{location}<br>MatchID=%{marker.size}<extra></extra>\",\"legendgroup\":\"Cordoba \",\"locationmode\":\"country names\",\"locations\":[\"Cordoba \"],\"marker\":{\"color\":\"#EF553B\",\"size\":[8],\"sizemode\":\"area\",\"sizeref\":0.0575,\"symbol\":\"circle\"},\"mode\":\"markers\",\"name\":\"Cordoba \",\"showlegend\":true,\"type\":\"scattergeo\"},{\"geo\":\"geo\",\"hovertemplate\":\"City=%{location}<br>MatchID=%{marker.size}<extra></extra>\",\"legendgroup\":\"Cape Town \",\"locationmode\":\"country names\",\"locations\":[\"Cape Town \"],\"marker\":{\"color\":\"#00cc96\",\"size\":[8],\"sizemode\":\"area\",\"sizeref\":0.0575,\"symbol\":\"circle\"},\"mode\":\"markers\",\"name\":\"Cape Town \",\"showlegend\":true,\"type\":\"scattergeo\"},{\"geo\":\"geo\",\"hovertemplate\":\"City=%{location}<br>MatchID=%{marker.size}<extra></extra>\",\"legendgroup\":\"Barcelona \",\"locationmode\":\"country names\",\"locations\":[\"Barcelona \"],\"marker\":{\"color\":\"#ab63fa\",\"size\":[8],\"sizemode\":\"area\",\"sizeref\":0.0575,\"symbol\":\"circle\"},\"mode\":\"markers\",\"name\":\"Barcelona \",\"showlegend\":true,\"type\":\"scattergeo\"},{\"geo\":\"geo\",\"hovertemplate\":\"City=%{location}<br>MatchID=%{marker.size}<extra></extra>\",\"legendgroup\":\"Los Angeles \",\"locationmode\":\"country names\",\"locations\":[\"Los Angeles \"],\"marker\":{\"color\":\"#FFA15A\",\"size\":[8],\"sizemode\":\"area\",\"sizeref\":0.0575,\"symbol\":\"circle\"},\"mode\":\"markers\",\"name\":\"Los Angeles \",\"showlegend\":true,\"type\":\"scattergeo\"},{\"geo\":\"geo\",\"hovertemplate\":\"City=%{location}<br>MatchID=%{marker.size}<extra></extra>\",\"legendgroup\":\"Solna \",\"locationmode\":\"country names\",\"locations\":[\"Solna \"],\"marker\":{\"color\":\"#19d3f3\",\"size\":[8],\"sizemode\":\"area\",\"sizeref\":0.0575,\"symbol\":\"circle\"},\"mode\":\"markers\",\"name\":\"Solna \",\"showlegend\":true,\"type\":\"scattergeo\"},{\"geo\":\"geo\",\"hovertemplate\":\"City=%{location}<br>MatchID=%{marker.size}<extra></extra>\",\"legendgroup\":\"Vina Del Mar \",\"locationmode\":\"country names\",\"locations\":[\"Vina Del Mar \"],\"marker\":{\"color\":\"#FF6692\",\"size\":[8],\"sizemode\":\"area\",\"sizeref\":0.0575,\"symbol\":\"circle\"},\"mode\":\"markers\",\"name\":\"Vina Del Mar \",\"showlegend\":true,\"type\":\"scattergeo\"},{\"geo\":\"geo\",\"hovertemplate\":\"City=%{location}<br>MatchID=%{marker.size}<extra></extra>\",\"legendgroup\":\"New York/New Jersey \",\"locationmode\":\"country names\",\"locations\":[\"New York/New Jersey \"],\"marker\":{\"color\":\"#B6E880\",\"size\":[7],\"sizemode\":\"area\",\"sizeref\":0.0575,\"symbol\":\"circle\"},\"mode\":\"markers\",\"name\":\"New York/New Jersey \",\"showlegend\":true,\"type\":\"scattergeo\"},{\"geo\":\"geo\",\"hovertemplate\":\"City=%{location}<br>MatchID=%{marker.size}<extra></extra>\",\"legendgroup\":\"Arica \",\"locationmode\":\"country names\",\"locations\":[\"Arica \"],\"marker\":{\"color\":\"#FF97FF\",\"size\":[7],\"sizemode\":\"area\",\"sizeref\":0.0575,\"symbol\":\"circle\"},\"mode\":\"markers\",\"name\":\"Arica \",\"showlegend\":true,\"type\":\"scattergeo\"},{\"geo\":\"geo\",\"hovertemplate\":\"City=%{location}<br>MatchID=%{marker.size}<extra></extra>\",\"legendgroup\":\"Turin \",\"locationmode\":\"country names\",\"locations\":[\"Turin \"],\"marker\":{\"color\":\"#FECB52\",\"size\":[7],\"sizemode\":\"area\",\"sizeref\":0.0575,\"symbol\":\"circle\"},\"mode\":\"markers\",\"name\":\"Turin \",\"showlegend\":true,\"type\":\"scattergeo\"},{\"geo\":\"geo\",\"hovertemplate\":\"City=%{location}<br>MatchID=%{marker.size}<extra></extra>\",\"legendgroup\":\"Gothenburg \",\"locationmode\":\"country names\",\"locations\":[\"Gothenburg \"],\"marker\":{\"color\":\"#636efa\",\"size\":[7],\"sizemode\":\"area\",\"sizeref\":0.0575,\"symbol\":\"circle\"},\"mode\":\"markers\",\"name\":\"Gothenburg \",\"showlegend\":true,\"type\":\"scattergeo\"},{\"geo\":\"geo\",\"hovertemplate\":\"City=%{location}<br>MatchID=%{marker.size}<extra></extra>\",\"legendgroup\":\"Naples \",\"locationmode\":\"country names\",\"locations\":[\"Naples \"],\"marker\":{\"color\":\"#EF553B\",\"size\":[7],\"sizemode\":\"area\",\"sizeref\":0.0575,\"symbol\":\"circle\"},\"mode\":\"markers\",\"name\":\"Naples \",\"showlegend\":true,\"type\":\"scattergeo\"},{\"geo\":\"geo\",\"hovertemplate\":\"City=%{location}<br>MatchID=%{marker.size}<extra></extra>\",\"legendgroup\":\"Rancagua \",\"locationmode\":\"country names\",\"locations\":[\"Rancagua \"],\"marker\":{\"color\":\"#00cc96\",\"size\":[7],\"sizemode\":\"area\",\"sizeref\":0.0575,\"symbol\":\"circle\"},\"mode\":\"markers\",\"name\":\"Rancagua \",\"showlegend\":true,\"type\":\"scattergeo\"},{\"geo\":\"geo\",\"hovertemplate\":\"City=%{location}<br>MatchID=%{marker.size}<extra></extra>\",\"legendgroup\":\"Toluca \",\"locationmode\":\"country names\",\"locations\":[\"Toluca \"],\"marker\":{\"color\":\"#ab63fa\",\"size\":[7],\"sizemode\":\"area\",\"sizeref\":0.0575,\"symbol\":\"circle\"},\"mode\":\"markers\",\"name\":\"Toluca \",\"showlegend\":true,\"type\":\"scattergeo\"},{\"geo\":\"geo\",\"hovertemplate\":\"City=%{location}<br>MatchID=%{marker.size}<extra></extra>\",\"legendgroup\":\"Florence \",\"locationmode\":\"country names\",\"locations\":[\"Florence \"],\"marker\":{\"color\":\"#FFA15A\",\"size\":[7],\"sizemode\":\"area\",\"sizeref\":0.0575,\"symbol\":\"circle\"},\"mode\":\"markers\",\"name\":\"Florence \",\"showlegend\":true,\"type\":\"scattergeo\"},{\"geo\":\"geo\",\"hovertemplate\":\"City=%{location}<br>MatchID=%{marker.size}<extra></extra>\",\"legendgroup\":\"Madrid \",\"locationmode\":\"country names\",\"locations\":[\"Madrid \"],\"marker\":{\"color\":\"#19d3f3\",\"size\":[7],\"sizemode\":\"area\",\"sizeref\":0.0575,\"symbol\":\"circle\"},\"mode\":\"markers\",\"name\":\"Madrid \",\"showlegend\":true,\"type\":\"scattergeo\"},{\"geo\":\"geo\",\"hovertemplate\":\"City=%{location}<br>MatchID=%{marker.size}<extra></extra>\",\"legendgroup\":\"Durban \",\"locationmode\":\"country names\",\"locations\":[\"Durban \"],\"marker\":{\"color\":\"#FF6692\",\"size\":[7],\"sizemode\":\"area\",\"sizeref\":0.0575,\"symbol\":\"circle\"},\"mode\":\"markers\",\"name\":\"Durban \",\"showlegend\":true,\"type\":\"scattergeo\"},{\"geo\":\"geo\",\"hovertemplate\":\"City=%{location}<br>MatchID=%{marker.size}<extra></extra>\",\"legendgroup\":\"Recife \",\"locationmode\":\"country names\",\"locations\":[\"Recife \"],\"marker\":{\"color\":\"#B6E880\",\"size\":[7],\"sizemode\":\"area\",\"sizeref\":0.0575,\"symbol\":\"circle\"},\"mode\":\"markers\",\"name\":\"Recife \",\"showlegend\":true,\"type\":\"scattergeo\"},{\"geo\":\"geo\",\"hovertemplate\":\"City=%{location}<br>MatchID=%{marker.size}<extra></extra>\",\"legendgroup\":\"Montpellier \",\"locationmode\":\"country names\",\"locations\":[\"Montpellier \"],\"marker\":{\"color\":\"#FF97FF\",\"size\":[6],\"sizemode\":\"area\",\"sizeref\":0.0575,\"symbol\":\"circle\"},\"mode\":\"markers\",\"name\":\"Montpellier \",\"showlegend\":true,\"type\":\"scattergeo\"},{\"geo\":\"geo\",\"hovertemplate\":\"City=%{location}<br>MatchID=%{marker.size}<extra></extra>\",\"legendgroup\":\"Mendoza \",\"locationmode\":\"country names\",\"locations\":[\"Mendoza \"],\"marker\":{\"color\":\"#FECB52\",\"size\":[6],\"sizemode\":\"area\",\"sizeref\":0.0575,\"symbol\":\"circle\"},\"mode\":\"markers\",\"name\":\"Mendoza \",\"showlegend\":true,\"type\":\"scattergeo\"},{\"geo\":\"geo\",\"hovertemplate\":\"City=%{location}<br>MatchID=%{marker.size}<extra></extra>\",\"legendgroup\":\"Mar Del Plata \",\"locationmode\":\"country names\",\"locations\":[\"Mar Del Plata \"],\"marker\":{\"color\":\"#636efa\",\"size\":[6],\"sizemode\":\"area\",\"sizeref\":0.0575,\"symbol\":\"circle\"},\"mode\":\"markers\",\"name\":\"Mar Del Plata \",\"showlegend\":true,\"type\":\"scattergeo\"},{\"geo\":\"geo\",\"hovertemplate\":\"City=%{location}<br>MatchID=%{marker.size}<extra></extra>\",\"legendgroup\":\"Lens \",\"locationmode\":\"country names\",\"locations\":[\"Lens \"],\"marker\":{\"color\":\"#EF553B\",\"size\":[6],\"sizemode\":\"area\",\"sizeref\":0.0575,\"symbol\":\"circle\"},\"mode\":\"markers\",\"name\":\"Lens \",\"showlegend\":true,\"type\":\"scattergeo\"},{\"geo\":\"geo\",\"hovertemplate\":\"City=%{location}<br>MatchID=%{marker.size}<extra></extra>\",\"legendgroup\":\"Nantes \",\"locationmode\":\"country names\",\"locations\":[\"Nantes \"],\"marker\":{\"color\":\"#00cc96\",\"size\":[6],\"sizemode\":\"area\",\"sizeref\":0.0575,\"symbol\":\"circle\"},\"mode\":\"markers\",\"name\":\"Nantes \",\"showlegend\":true,\"type\":\"scattergeo\"},{\"geo\":\"geo\",\"hovertemplate\":\"City=%{location}<br>MatchID=%{marker.size}<extra></extra>\",\"legendgroup\":\"Mangaung/Bloemfontein \",\"locationmode\":\"country names\",\"locations\":[\"Mangaung/Bloemfontein \"],\"marker\":{\"color\":\"#ab63fa\",\"size\":[6],\"sizemode\":\"area\",\"sizeref\":0.0575,\"symbol\":\"circle\"},\"mode\":\"markers\",\"name\":\"Mangaung/Bloemfontein \",\"showlegend\":true,\"type\":\"scattergeo\"},{\"geo\":\"geo\",\"hovertemplate\":\"City=%{location}<br>MatchID=%{marker.size}<extra></extra>\",\"legendgroup\":\"Phokeng \",\"locationmode\":\"country names\",\"locations\":[\"Phokeng \"],\"marker\":{\"color\":\"#FFA15A\",\"size\":[6],\"sizemode\":\"area\",\"sizeref\":0.0575,\"symbol\":\"circle\"},\"mode\":\"markers\",\"name\":\"Phokeng \",\"showlegend\":true,\"type\":\"scattergeo\"},{\"geo\":\"geo\",\"hovertemplate\":\"City=%{location}<br>MatchID=%{marker.size}<extra></extra>\",\"legendgroup\":\"Porto Alegre \",\"locationmode\":\"country names\",\"locations\":[\"Porto Alegre \"],\"marker\":{\"color\":\"#19d3f3\",\"size\":[6],\"sizemode\":\"area\",\"sizeref\":0.0575,\"symbol\":\"circle\"},\"mode\":\"markers\",\"name\":\"Porto Alegre \",\"showlegend\":true,\"type\":\"scattergeo\"},{\"geo\":\"geo\",\"hovertemplate\":\"City=%{location}<br>MatchID=%{marker.size}<extra></extra>\",\"legendgroup\":\"Rosario \",\"locationmode\":\"country names\",\"locations\":[\"Rosario \"],\"marker\":{\"color\":\"#FF6692\",\"size\":[6],\"sizemode\":\"area\",\"sizeref\":0.0575,\"symbol\":\"circle\"},\"mode\":\"markers\",\"name\":\"Rosario \",\"showlegend\":true,\"type\":\"scattergeo\"},{\"geo\":\"geo\",\"hovertemplate\":\"City=%{location}<br>MatchID=%{marker.size}<extra></extra>\",\"legendgroup\":\"Dallas \",\"locationmode\":\"country names\",\"locations\":[\"Dallas \"],\"marker\":{\"color\":\"#B6E880\",\"size\":[6],\"sizemode\":\"area\",\"sizeref\":0.0575,\"symbol\":\"circle\"},\"mode\":\"markers\",\"name\":\"Dallas \",\"showlegend\":true,\"type\":\"scattergeo\"},{\"geo\":\"geo\",\"hovertemplate\":\"City=%{location}<br>MatchID=%{marker.size}<extra></extra>\",\"legendgroup\":\"Saint-Etienne \",\"locationmode\":\"country names\",\"locations\":[\"Saint-Etienne \"],\"marker\":{\"color\":\"#FF97FF\",\"size\":[6],\"sizemode\":\"area\",\"sizeref\":0.0575,\"symbol\":\"circle\"},\"mode\":\"markers\",\"name\":\"Saint-Etienne \",\"showlegend\":true,\"type\":\"scattergeo\"},{\"geo\":\"geo\",\"hovertemplate\":\"City=%{location}<br>MatchID=%{marker.size}<extra></extra>\",\"legendgroup\":\"Curitiba \",\"locationmode\":\"country names\",\"locations\":[\"Curitiba \"],\"marker\":{\"color\":\"#FECB52\",\"size\":[6],\"sizemode\":\"area\",\"sizeref\":0.0575,\"symbol\":\"circle\"},\"mode\":\"markers\",\"name\":\"Curitiba \",\"showlegend\":true,\"type\":\"scattergeo\"},{\"geo\":\"geo\",\"hovertemplate\":\"City=%{location}<br>MatchID=%{marker.size}<extra></extra>\",\"legendgroup\":\"San Francisco \",\"locationmode\":\"country names\",\"locations\":[\"San Francisco \"],\"marker\":{\"color\":\"#636efa\",\"size\":[6],\"sizemode\":\"area\",\"sizeref\":0.0575,\"symbol\":\"circle\"},\"mode\":\"markers\",\"name\":\"San Francisco \",\"showlegend\":true,\"type\":\"scattergeo\"},{\"geo\":\"geo\",\"hovertemplate\":\"City=%{location}<br>MatchID=%{marker.size}<extra></extra>\",\"legendgroup\":\"Boston \",\"locationmode\":\"country names\",\"locations\":[\"Boston \"],\"marker\":{\"color\":\"#EF553B\",\"size\":[6],\"sizemode\":\"area\",\"sizeref\":0.0575,\"symbol\":\"circle\"},\"mode\":\"markers\",\"name\":\"Boston \",\"showlegend\":true,\"type\":\"scattergeo\"},{\"geo\":\"geo\",\"hovertemplate\":\"City=%{location}<br>MatchID=%{marker.size}<extra></extra>\",\"legendgroup\":\"Bologna \",\"locationmode\":\"country names\",\"locations\":[\"Bologna \"],\"marker\":{\"color\":\"#00cc96\",\"size\":[6],\"sizemode\":\"area\",\"sizeref\":0.0575,\"symbol\":\"circle\"},\"mode\":\"markers\",\"name\":\"Bologna \",\"showlegend\":true,\"type\":\"scattergeo\"},{\"geo\":\"geo\",\"hovertemplate\":\"City=%{location}<br>MatchID=%{marker.size}<extra></extra>\",\"legendgroup\":\"Tshwane/Pretoria \",\"locationmode\":\"country names\",\"locations\":[\"Tshwane/Pretoria \"],\"marker\":{\"color\":\"#ab63fa\",\"size\":[6],\"sizemode\":\"area\",\"sizeref\":0.0575,\"symbol\":\"circle\"},\"mode\":\"markers\",\"name\":\"Tshwane/Pretoria \",\"showlegend\":true,\"type\":\"scattergeo\"},{\"geo\":\"geo\",\"hovertemplate\":\"City=%{location}<br>MatchID=%{marker.size}<extra></extra>\",\"legendgroup\":\"Berlin \",\"locationmode\":\"country names\",\"locations\":[\"Berlin \"],\"marker\":{\"color\":\"#FFA15A\",\"size\":[6],\"sizemode\":\"area\",\"sizeref\":0.0575,\"symbol\":\"circle\"},\"mode\":\"markers\",\"name\":\"Berlin \",\"showlegend\":true,\"type\":\"scattergeo\"},{\"geo\":\"geo\",\"hovertemplate\":\"City=%{location}<br>MatchID=%{marker.size}<extra></extra>\",\"legendgroup\":\"Basel \",\"locationmode\":\"country names\",\"locations\":[\"Basel \"],\"marker\":{\"color\":\"#19d3f3\",\"size\":[6],\"sizemode\":\"area\",\"sizeref\":0.0575,\"symbol\":\"circle\"},\"mode\":\"markers\",\"name\":\"Basel \",\"showlegend\":true,\"type\":\"scattergeo\"},{\"geo\":\"geo\",\"hovertemplate\":\"City=%{location}<br>MatchID=%{marker.size}<extra></extra>\",\"legendgroup\":\"Lyon \",\"locationmode\":\"country names\",\"locations\":[\"Lyon \"],\"marker\":{\"color\":\"#FF6692\",\"size\":[6],\"sizemode\":\"area\",\"sizeref\":0.0575,\"symbol\":\"circle\"},\"mode\":\"markers\",\"name\":\"Lyon \",\"showlegend\":true,\"type\":\"scattergeo\"},{\"geo\":\"geo\",\"hovertemplate\":\"City=%{location}<br>MatchID=%{marker.size}<extra></extra>\",\"legendgroup\":\"Nuremberg \",\"locationmode\":\"country names\",\"locations\":[\"Nuremberg \"],\"marker\":{\"color\":\"#B6E880\",\"size\":[5],\"sizemode\":\"area\",\"sizeref\":0.0575,\"symbol\":\"circle\"},\"mode\":\"markers\",\"name\":\"Nuremberg \",\"showlegend\":true,\"type\":\"scattergeo\"},{\"geo\":\"geo\",\"hovertemplate\":\"City=%{location}<br>MatchID=%{marker.size}<extra></extra>\",\"legendgroup\":\"Orlando \",\"locationmode\":\"country names\",\"locations\":[\"Orlando \"],\"marker\":{\"color\":\"#FF97FF\",\"size\":[5],\"sizemode\":\"area\",\"sizeref\":0.0575,\"symbol\":\"circle\"},\"mode\":\"markers\",\"name\":\"Orlando \",\"showlegend\":true,\"type\":\"scattergeo\"},{\"geo\":\"geo\",\"hovertemplate\":\"City=%{location}<br>MatchID=%{marker.size}<extra></extra>\",\"legendgroup\":\"Washington Dc \",\"locationmode\":\"country names\",\"locations\":[\"Washington Dc \"],\"marker\":{\"color\":\"#FECB52\",\"size\":[5],\"sizemode\":\"area\",\"sizeref\":0.0575,\"symbol\":\"circle\"},\"mode\":\"markers\",\"name\":\"Washington Dc \",\"showlegend\":true,\"type\":\"scattergeo\"},{\"geo\":\"geo\",\"hovertemplate\":\"City=%{location}<br>MatchID=%{marker.size}<extra></extra>\",\"legendgroup\":\"Zurich \",\"locationmode\":\"country names\",\"locations\":[\"Zurich \"],\"marker\":{\"color\":\"#636efa\",\"size\":[5],\"sizemode\":\"area\",\"sizeref\":0.0575,\"symbol\":\"circle\"},\"mode\":\"markers\",\"name\":\"Zurich \",\"showlegend\":true,\"type\":\"scattergeo\"},{\"geo\":\"geo\",\"hovertemplate\":\"City=%{location}<br>MatchID=%{marker.size}<extra></extra>\",\"legendgroup\":\"Genoa \",\"locationmode\":\"country names\",\"locations\":[\"Genoa \"],\"marker\":{\"color\":\"#EF553B\",\"size\":[5],\"sizemode\":\"area\",\"sizeref\":0.0575,\"symbol\":\"circle\"},\"mode\":\"markers\",\"name\":\"Genoa \",\"showlegend\":true,\"type\":\"scattergeo\"},{\"geo\":\"geo\",\"hovertemplate\":\"City=%{location}<br>MatchID=%{marker.size}<extra></extra>\",\"legendgroup\":\"D\\ufffdSseldorf \",\"locationmode\":\"country names\",\"locations\":[\"D\\ufffdSseldorf \"],\"marker\":{\"color\":\"#00cc96\",\"size\":[5],\"sizemode\":\"area\",\"sizeref\":0.0575,\"symbol\":\"circle\"},\"mode\":\"markers\",\"name\":\"D\\ufffdSseldorf \",\"showlegend\":true,\"type\":\"scattergeo\"},{\"geo\":\"geo\",\"hovertemplate\":\"City=%{location}<br>MatchID=%{marker.size}<extra></extra>\",\"legendgroup\":\"Berne \",\"locationmode\":\"country names\",\"locations\":[\"Berne \"],\"marker\":{\"color\":\"#ab63fa\",\"size\":[5],\"sizemode\":\"area\",\"sizeref\":0.0575,\"symbol\":\"circle\"},\"mode\":\"markers\",\"name\":\"Berne \",\"showlegend\":true,\"type\":\"scattergeo\"},{\"geo\":\"geo\",\"hovertemplate\":\"City=%{location}<br>MatchID=%{marker.size}<extra></extra>\",\"legendgroup\":\"Bari \",\"locationmode\":\"country names\",\"locations\":[\"Bari \"],\"marker\":{\"color\":\"#FFA15A\",\"size\":[5],\"sizemode\":\"area\",\"sizeref\":0.0575,\"symbol\":\"circle\"},\"mode\":\"markers\",\"name\":\"Bari \",\"showlegend\":true,\"type\":\"scattergeo\"},{\"geo\":\"geo\",\"hovertemplate\":\"City=%{location}<br>MatchID=%{marker.size}<extra></extra>\",\"legendgroup\":\"Liverpool \",\"locationmode\":\"country names\",\"locations\":[\"Liverpool \"],\"marker\":{\"color\":\"#19d3f3\",\"size\":[5],\"sizemode\":\"area\",\"sizeref\":0.0575,\"symbol\":\"circle\"},\"mode\":\"markers\",\"name\":\"Liverpool \",\"showlegend\":true,\"type\":\"scattergeo\"},{\"geo\":\"geo\",\"hovertemplate\":\"City=%{location}<br>MatchID=%{marker.size}<extra></extra>\",\"legendgroup\":\"Chicago \",\"locationmode\":\"country names\",\"locations\":[\"Chicago \"],\"marker\":{\"color\":\"#FF6692\",\"size\":[5],\"sizemode\":\"area\",\"sizeref\":0.0575,\"symbol\":\"circle\"},\"mode\":\"markers\",\"name\":\"Chicago \",\"showlegend\":true,\"type\":\"scattergeo\"},{\"geo\":\"geo\",\"hovertemplate\":\"City=%{location}<br>MatchID=%{marker.size}<extra></extra>\",\"legendgroup\":\"Leipzig \",\"locationmode\":\"country names\",\"locations\":[\"Leipzig \"],\"marker\":{\"color\":\"#B6E880\",\"size\":[5],\"sizemode\":\"area\",\"sizeref\":0.0575,\"symbol\":\"circle\"},\"mode\":\"markers\",\"name\":\"Leipzig \",\"showlegend\":true,\"type\":\"scattergeo\"},{\"geo\":\"geo\",\"hovertemplate\":\"City=%{location}<br>MatchID=%{marker.size}<extra></extra>\",\"legendgroup\":\"Cologne \",\"locationmode\":\"country names\",\"locations\":[\"Cologne \"],\"marker\":{\"color\":\"#FF97FF\",\"size\":[5],\"sizemode\":\"area\",\"sizeref\":0.0575,\"symbol\":\"circle\"},\"mode\":\"markers\",\"name\":\"Cologne \",\"showlegend\":true,\"type\":\"scattergeo\"},{\"geo\":\"geo\",\"hovertemplate\":\"City=%{location}<br>MatchID=%{marker.size}<extra></extra>\",\"legendgroup\":\"Lausanne \",\"locationmode\":\"country names\",\"locations\":[\"Lausanne \"],\"marker\":{\"color\":\"#FECB52\",\"size\":[5],\"sizemode\":\"area\",\"sizeref\":0.0575,\"symbol\":\"circle\"},\"mode\":\"markers\",\"name\":\"Lausanne \",\"showlegend\":true,\"type\":\"scattergeo\"},{\"geo\":\"geo\",\"hovertemplate\":\"City=%{location}<br>MatchID=%{marker.size}<extra></extra>\",\"legendgroup\":\"Kaiserslautern \",\"locationmode\":\"country names\",\"locations\":[\"Kaiserslautern \"],\"marker\":{\"color\":\"#636efa\",\"size\":[5],\"sizemode\":\"area\",\"sizeref\":0.0575,\"symbol\":\"circle\"},\"mode\":\"markers\",\"name\":\"Kaiserslautern \",\"showlegend\":true,\"type\":\"scattergeo\"},{\"geo\":\"geo\",\"hovertemplate\":\"City=%{location}<br>MatchID=%{marker.size}<extra></extra>\",\"legendgroup\":\"Suwon \",\"locationmode\":\"country names\",\"locations\":[\"Suwon \"],\"marker\":{\"color\":\"#EF553B\",\"size\":[4],\"sizemode\":\"area\",\"sizeref\":0.0575,\"symbol\":\"circle\"},\"mode\":\"markers\",\"name\":\"Suwon \",\"showlegend\":true,\"type\":\"scattergeo\"},{\"geo\":\"geo\",\"hovertemplate\":\"City=%{location}<br>MatchID=%{marker.size}<extra></extra>\",\"legendgroup\":\"Seville \",\"locationmode\":\"country names\",\"locations\":[\"Seville \"],\"marker\":{\"color\":\"#00cc96\",\"size\":[4],\"sizemode\":\"area\",\"sizeref\":0.0575,\"symbol\":\"circle\"},\"mode\":\"markers\",\"name\":\"Seville \",\"showlegend\":true,\"type\":\"scattergeo\"},{\"geo\":\"geo\",\"hovertemplate\":\"City=%{location}<br>MatchID=%{marker.size}<extra></extra>\",\"legendgroup\":\"Polokwane \",\"locationmode\":\"country names\",\"locations\":[\"Polokwane \"],\"marker\":{\"color\":\"#ab63fa\",\"size\":[4],\"sizemode\":\"area\",\"sizeref\":0.0575,\"symbol\":\"circle\"},\"mode\":\"markers\",\"name\":\"Polokwane \",\"showlegend\":true,\"type\":\"scattergeo\"},{\"geo\":\"geo\",\"hovertemplate\":\"City=%{location}<br>MatchID=%{marker.size}<extra></extra>\",\"legendgroup\":\"Geneva \",\"locationmode\":\"country names\",\"locations\":[\"Geneva \"],\"marker\":{\"color\":\"#FFA15A\",\"size\":[4],\"sizemode\":\"area\",\"sizeref\":0.0575,\"symbol\":\"circle\"},\"mode\":\"markers\",\"name\":\"Geneva \",\"showlegend\":true,\"type\":\"scattergeo\"},{\"geo\":\"geo\",\"hovertemplate\":\"City=%{location}<br>MatchID=%{marker.size}<extra></extra>\",\"legendgroup\":\"Queretaro \",\"locationmode\":\"country names\",\"locations\":[\"Queretaro \"],\"marker\":{\"color\":\"#19d3f3\",\"size\":[4],\"sizemode\":\"area\",\"sizeref\":0.0575,\"symbol\":\"circle\"},\"mode\":\"markers\",\"name\":\"Queretaro \",\"showlegend\":true,\"type\":\"scattergeo\"},{\"geo\":\"geo\",\"hovertemplate\":\"City=%{location}<br>MatchID=%{marker.size}<extra></extra>\",\"legendgroup\":\"Sunderland \",\"locationmode\":\"country names\",\"locations\":[\"Sunderland \"],\"marker\":{\"color\":\"#FF6692\",\"size\":[4],\"sizemode\":\"area\",\"sizeref\":0.0575,\"symbol\":\"circle\"},\"mode\":\"markers\",\"name\":\"Sunderland \",\"showlegend\":true,\"type\":\"scattergeo\"},{\"geo\":\"geo\",\"hovertemplate\":\"City=%{location}<br>MatchID=%{marker.size}<extra></extra>\",\"legendgroup\":\"Cuiaba \",\"locationmode\":\"country names\",\"locations\":[\"Cuiaba \"],\"marker\":{\"color\":\"#B6E880\",\"size\":[4],\"sizemode\":\"area\",\"sizeref\":0.0575,\"symbol\":\"circle\"},\"mode\":\"markers\",\"name\":\"Cuiaba \",\"showlegend\":true,\"type\":\"scattergeo\"},{\"geo\":\"geo\",\"hovertemplate\":\"City=%{location}<br>MatchID=%{marker.size}<extra></extra>\",\"legendgroup\":\"Saitama \",\"locationmode\":\"country names\",\"locations\":[\"Saitama \"],\"marker\":{\"color\":\"#FF97FF\",\"size\":[4],\"sizemode\":\"area\",\"sizeref\":0.0575,\"symbol\":\"circle\"},\"mode\":\"markers\",\"name\":\"Saitama \",\"showlegend\":true,\"type\":\"scattergeo\"},{\"geo\":\"geo\",\"hovertemplate\":\"City=%{location}<br>MatchID=%{marker.size}<extra></extra>\",\"legendgroup\":\"Malm\\ufffd \",\"locationmode\":\"country names\",\"locations\":[\"Malm\\ufffd \"],\"marker\":{\"color\":\"#FECB52\",\"size\":[4],\"sizemode\":\"area\",\"sizeref\":0.0575,\"symbol\":\"circle\"},\"mode\":\"markers\",\"name\":\"Malm\\ufffd \",\"showlegend\":true,\"type\":\"scattergeo\"},{\"geo\":\"geo\",\"hovertemplate\":\"City=%{location}<br>MatchID=%{marker.size}<extra></extra>\",\"legendgroup\":\"Daegu \",\"locationmode\":\"country names\",\"locations\":[\"Daegu \"],\"marker\":{\"color\":\"#636efa\",\"size\":[4],\"sizemode\":\"area\",\"sizeref\":0.0575,\"symbol\":\"circle\"},\"mode\":\"markers\",\"name\":\"Daegu \",\"showlegend\":true,\"type\":\"scattergeo\"},{\"geo\":\"geo\",\"hovertemplate\":\"City=%{location}<br>MatchID=%{marker.size}<extra></extra>\",\"legendgroup\":\"Sheffield \",\"locationmode\":\"country names\",\"locations\":[\"Sheffield \"],\"marker\":{\"color\":\"#EF553B\",\"size\":[4],\"sizemode\":\"area\",\"sizeref\":0.0575,\"symbol\":\"circle\"},\"mode\":\"markers\",\"name\":\"Sheffield \",\"showlegend\":true,\"type\":\"scattergeo\"},{\"geo\":\"geo\",\"hovertemplate\":\"City=%{location}<br>MatchID=%{marker.size}<extra></extra>\",\"legendgroup\":\"Detroit \",\"locationmode\":\"country names\",\"locations\":[\"Detroit \"],\"marker\":{\"color\":\"#00cc96\",\"size\":[4],\"sizemode\":\"area\",\"sizeref\":0.0575,\"symbol\":\"circle\"},\"mode\":\"markers\",\"name\":\"Detroit \",\"showlegend\":true,\"type\":\"scattergeo\"},{\"geo\":\"geo\",\"hovertemplate\":\"City=%{location}<br>MatchID=%{marker.size}<extra></extra>\",\"legendgroup\":\"Manaus \",\"locationmode\":\"country names\",\"locations\":[\"Manaus \"],\"marker\":{\"color\":\"#ab63fa\",\"size\":[4],\"sizemode\":\"area\",\"sizeref\":0.0575,\"symbol\":\"circle\"},\"mode\":\"markers\",\"name\":\"Manaus \",\"showlegend\":true,\"type\":\"scattergeo\"},{\"geo\":\"geo\",\"hovertemplate\":\"City=%{location}<br>MatchID=%{marker.size}<extra></extra>\",\"legendgroup\":\"Yokohama \",\"locationmode\":\"country names\",\"locations\":[\"Yokohama \"],\"marker\":{\"color\":\"#FFA15A\",\"size\":[4],\"sizemode\":\"area\",\"sizeref\":0.0575,\"symbol\":\"circle\"},\"mode\":\"markers\",\"name\":\"Yokohama \",\"showlegend\":true,\"type\":\"scattergeo\"},{\"geo\":\"geo\",\"hovertemplate\":\"City=%{location}<br>MatchID=%{marker.size}<extra></extra>\",\"legendgroup\":\"Nelspruit \",\"locationmode\":\"country names\",\"locations\":[\"Nelspruit \"],\"marker\":{\"color\":\"#19d3f3\",\"size\":[4],\"sizemode\":\"area\",\"sizeref\":0.0575,\"symbol\":\"circle\"},\"mode\":\"markers\",\"name\":\"Nelspruit \",\"showlegend\":true,\"type\":\"scattergeo\"},{\"geo\":\"geo\",\"hovertemplate\":\"City=%{location}<br>MatchID=%{marker.size}<extra></extra>\",\"legendgroup\":\"Verona \",\"locationmode\":\"country names\",\"locations\":[\"Verona \"],\"marker\":{\"color\":\"#FF6692\",\"size\":[4],\"sizemode\":\"area\",\"sizeref\":0.0575,\"symbol\":\"circle\"},\"mode\":\"markers\",\"name\":\"Verona \",\"showlegend\":true,\"type\":\"scattergeo\"},{\"geo\":\"geo\",\"hovertemplate\":\"City=%{location}<br>MatchID=%{marker.size}<extra></extra>\",\"legendgroup\":\"Natal \",\"locationmode\":\"country names\",\"locations\":[\"Natal \"],\"marker\":{\"color\":\"#B6E880\",\"size\":[4],\"sizemode\":\"area\",\"sizeref\":0.0575,\"symbol\":\"circle\"},\"mode\":\"markers\",\"name\":\"Natal \",\"showlegend\":true,\"type\":\"scattergeo\"},{\"geo\":\"geo\",\"hovertemplate\":\"City=%{location}<br>MatchID=%{marker.size}<extra></extra>\",\"legendgroup\":\"Daejeon \",\"locationmode\":\"country names\",\"locations\":[\"Daejeon \"],\"marker\":{\"color\":\"#FF97FF\",\"size\":[3],\"sizemode\":\"area\",\"sizeref\":0.0575,\"symbol\":\"circle\"},\"mode\":\"markers\",\"name\":\"Daejeon \",\"showlegend\":true,\"type\":\"scattergeo\"},{\"geo\":\"geo\",\"hovertemplate\":\"City=%{location}<br>MatchID=%{marker.size}<extra></extra>\",\"legendgroup\":\"Colombes \",\"locationmode\":\"country names\",\"locations\":[\"Colombes \"],\"marker\":{\"color\":\"#FECB52\",\"size\":[3],\"sizemode\":\"area\",\"sizeref\":0.0575,\"symbol\":\"circle\"},\"mode\":\"markers\",\"name\":\"Colombes \",\"showlegend\":true,\"type\":\"scattergeo\"},{\"geo\":\"geo\",\"hovertemplate\":\"City=%{location}<br>MatchID=%{marker.size}<extra></extra>\",\"legendgroup\":\"Zaragoza \",\"locationmode\":\"country names\",\"locations\":[\"Zaragoza \"],\"marker\":{\"color\":\"#636efa\",\"size\":[3],\"sizemode\":\"area\",\"sizeref\":0.0575,\"symbol\":\"circle\"},\"mode\":\"markers\",\"name\":\"Zaragoza \",\"showlegend\":true,\"type\":\"scattergeo\"},{\"geo\":\"geo\",\"hovertemplate\":\"City=%{location}<br>MatchID=%{marker.size}<extra></extra>\",\"legendgroup\":\"Berlin West \",\"locationmode\":\"country names\",\"locations\":[\"Berlin West \"],\"marker\":{\"color\":\"#EF553B\",\"size\":[3],\"sizemode\":\"area\",\"sizeref\":0.0575,\"symbol\":\"circle\"},\"mode\":\"markers\",\"name\":\"Berlin West \",\"showlegend\":true,\"type\":\"scattergeo\"},{\"geo\":\"geo\",\"hovertemplate\":\"City=%{location}<br>MatchID=%{marker.size}<extra></extra>\",\"legendgroup\":\"Vigo \",\"locationmode\":\"country names\",\"locations\":[\"Vigo \"],\"marker\":{\"color\":\"#00cc96\",\"size\":[3],\"sizemode\":\"area\",\"sizeref\":0.0575,\"symbol\":\"circle\"},\"mode\":\"markers\",\"name\":\"Vigo \",\"showlegend\":true,\"type\":\"scattergeo\"},{\"geo\":\"geo\",\"hovertemplate\":\"City=%{location}<br>MatchID=%{marker.size}<extra></extra>\",\"legendgroup\":\"Valladolid \",\"locationmode\":\"country names\",\"locations\":[\"Valladolid \"],\"marker\":{\"color\":\"#ab63fa\",\"size\":[3],\"sizemode\":\"area\",\"sizeref\":0.0575,\"symbol\":\"circle\"},\"mode\":\"markers\",\"name\":\"Valladolid \",\"showlegend\":true,\"type\":\"scattergeo\"},{\"geo\":\"geo\",\"hovertemplate\":\"City=%{location}<br>MatchID=%{marker.size}<extra></extra>\",\"legendgroup\":\"Valencia \",\"locationmode\":\"country names\",\"locations\":[\"Valencia \"],\"marker\":{\"color\":\"#FFA15A\",\"size\":[3],\"sizemode\":\"area\",\"sizeref\":0.0575,\"symbol\":\"circle\"},\"mode\":\"markers\",\"name\":\"Valencia \",\"showlegend\":true,\"type\":\"scattergeo\"},{\"geo\":\"geo\",\"hovertemplate\":\"City=%{location}<br>MatchID=%{marker.size}<extra></extra>\",\"legendgroup\":\"Ulsan \",\"locationmode\":\"country names\",\"locations\":[\"Ulsan \"],\"marker\":{\"color\":\"#19d3f3\",\"size\":[3],\"sizemode\":\"area\",\"sizeref\":0.0575,\"symbol\":\"circle\"},\"mode\":\"markers\",\"name\":\"Ulsan \",\"showlegend\":true,\"type\":\"scattergeo\"},{\"geo\":\"geo\",\"hovertemplate\":\"City=%{location}<br>MatchID=%{marker.size}<extra></extra>\",\"legendgroup\":\"Birmingham \",\"locationmode\":\"country names\",\"locations\":[\"Birmingham \"],\"marker\":{\"color\":\"#FF6692\",\"size\":[3],\"sizemode\":\"area\",\"sizeref\":0.0575,\"symbol\":\"circle\"},\"mode\":\"markers\",\"name\":\"Birmingham \",\"showlegend\":true,\"type\":\"scattergeo\"},{\"geo\":\"geo\",\"hovertemplate\":\"City=%{location}<br>MatchID=%{marker.size}<extra></extra>\",\"legendgroup\":\"Udine \",\"locationmode\":\"country names\",\"locations\":[\"Udine \"],\"marker\":{\"color\":\"#B6E880\",\"size\":[3],\"sizemode\":\"area\",\"sizeref\":0.0575,\"symbol\":\"circle\"},\"mode\":\"markers\",\"name\":\"Udine \",\"showlegend\":true,\"type\":\"scattergeo\"},{\"geo\":\"geo\",\"hovertemplate\":\"City=%{location}<br>MatchID=%{marker.size}<extra></extra>\",\"legendgroup\":\"Sapporo \",\"locationmode\":\"country names\",\"locations\":[\"Sapporo \"],\"marker\":{\"color\":\"#FF97FF\",\"size\":[3],\"sizemode\":\"area\",\"sizeref\":0.0575,\"symbol\":\"circle\"},\"mode\":\"markers\",\"name\":\"Sapporo \",\"showlegend\":true,\"type\":\"scattergeo\"},{\"geo\":\"geo\",\"hovertemplate\":\"City=%{location}<br>MatchID=%{marker.size}<extra></extra>\",\"legendgroup\":\"Seoul \",\"locationmode\":\"country names\",\"locations\":[\"Seoul \"],\"marker\":{\"color\":\"#FECB52\",\"size\":[3],\"sizemode\":\"area\",\"sizeref\":0.0575,\"symbol\":\"circle\"},\"mode\":\"markers\",\"name\":\"Seoul \",\"showlegend\":true,\"type\":\"scattergeo\"},{\"geo\":\"geo\",\"hovertemplate\":\"City=%{location}<br>MatchID=%{marker.size}<extra></extra>\",\"legendgroup\":\"Bilbao \",\"locationmode\":\"country names\",\"locations\":[\"Bilbao \"],\"marker\":{\"color\":\"#636efa\",\"size\":[3],\"sizemode\":\"area\",\"sizeref\":0.0575,\"symbol\":\"circle\"},\"mode\":\"markers\",\"name\":\"Bilbao \",\"showlegend\":true,\"type\":\"scattergeo\"},{\"geo\":\"geo\",\"hovertemplate\":\"City=%{location}<br>MatchID=%{marker.size}<extra></extra>\",\"legendgroup\":\"Shizuoka \",\"locationmode\":\"country names\",\"locations\":[\"Shizuoka \"],\"marker\":{\"color\":\"#EF553B\",\"size\":[3],\"sizemode\":\"area\",\"sizeref\":0.0575,\"symbol\":\"circle\"},\"mode\":\"markers\",\"name\":\"Shizuoka \",\"showlegend\":true,\"type\":\"scattergeo\"},{\"geo\":\"geo\",\"hovertemplate\":\"City=%{location}<br>MatchID=%{marker.size}<extra></extra>\",\"legendgroup\":\"Cagliari \",\"locationmode\":\"country names\",\"locations\":[\"Cagliari \"],\"marker\":{\"color\":\"#00cc96\",\"size\":[3],\"sizemode\":\"area\",\"sizeref\":0.0575,\"symbol\":\"circle\"},\"mode\":\"markers\",\"name\":\"Cagliari \",\"showlegend\":true,\"type\":\"scattergeo\"},{\"geo\":\"geo\",\"hovertemplate\":\"City=%{location}<br>MatchID=%{marker.size}<extra></extra>\",\"legendgroup\":\"Busan \",\"locationmode\":\"country names\",\"locations\":[\"Busan \"],\"marker\":{\"color\":\"#ab63fa\",\"size\":[3],\"sizemode\":\"area\",\"sizeref\":0.0575,\"symbol\":\"circle\"},\"mode\":\"markers\",\"name\":\"Busan \",\"showlegend\":true,\"type\":\"scattergeo\"},{\"geo\":\"geo\",\"hovertemplate\":\"City=%{location}<br>MatchID=%{marker.size}<extra></extra>\",\"legendgroup\":\"Malaga \",\"locationmode\":\"country names\",\"locations\":[\"Malaga \"],\"marker\":{\"color\":\"#FFA15A\",\"size\":[3],\"sizemode\":\"area\",\"sizeref\":0.0575,\"symbol\":\"circle\"},\"mode\":\"markers\",\"name\":\"Malaga \",\"showlegend\":true,\"type\":\"scattergeo\"},{\"geo\":\"geo\",\"hovertemplate\":\"City=%{location}<br>MatchID=%{marker.size}<extra></extra>\",\"legendgroup\":\"Rifu \",\"locationmode\":\"country names\",\"locations\":[\"Rifu \"],\"marker\":{\"color\":\"#19d3f3\",\"size\":[3],\"sizemode\":\"area\",\"sizeref\":0.0575,\"symbol\":\"circle\"},\"mode\":\"markers\",\"name\":\"Rifu \",\"showlegend\":true,\"type\":\"scattergeo\"},{\"geo\":\"geo\",\"hovertemplate\":\"City=%{location}<br>MatchID=%{marker.size}<extra></extra>\",\"legendgroup\":\"Elche \",\"locationmode\":\"country names\",\"locations\":[\"Elche \"],\"marker\":{\"color\":\"#FF6692\",\"size\":[3],\"sizemode\":\"area\",\"sizeref\":0.0575,\"symbol\":\"circle\"},\"mode\":\"markers\",\"name\":\"Elche \",\"showlegend\":true,\"type\":\"scattergeo\"},{\"geo\":\"geo\",\"hovertemplate\":\"City=%{location}<br>MatchID=%{marker.size}<extra></extra>\",\"legendgroup\":\"Ibaraki \",\"locationmode\":\"country names\",\"locations\":[\"Ibaraki \"],\"marker\":{\"color\":\"#B6E880\",\"size\":[3],\"sizemode\":\"area\",\"sizeref\":0.0575,\"symbol\":\"circle\"},\"mode\":\"markers\",\"name\":\"Ibaraki \",\"showlegend\":true,\"type\":\"scattergeo\"},{\"geo\":\"geo\",\"hovertemplate\":\"City=%{location}<br>MatchID=%{marker.size}<extra></extra>\",\"legendgroup\":\"Manchester \",\"locationmode\":\"country names\",\"locations\":[\"Manchester \"],\"marker\":{\"color\":\"#FF97FF\",\"size\":[3],\"sizemode\":\"area\",\"sizeref\":0.0575,\"symbol\":\"circle\"},\"mode\":\"markers\",\"name\":\"Manchester \",\"showlegend\":true,\"type\":\"scattergeo\"},{\"geo\":\"geo\",\"hovertemplate\":\"City=%{location}<br>MatchID=%{marker.size}<extra></extra>\",\"legendgroup\":\"Middlesbrough \",\"locationmode\":\"country names\",\"locations\":[\"Middlesbrough \"],\"marker\":{\"color\":\"#FECB52\",\"size\":[3],\"sizemode\":\"area\",\"sizeref\":0.0575,\"symbol\":\"circle\"},\"mode\":\"markers\",\"name\":\"Middlesbrough \",\"showlegend\":true,\"type\":\"scattergeo\"},{\"geo\":\"geo\",\"hovertemplate\":\"City=%{location}<br>MatchID=%{marker.size}<extra></extra>\",\"legendgroup\":\"La Coru\\ufffdA \",\"locationmode\":\"country names\",\"locations\":[\"La Coru\\ufffdA \"],\"marker\":{\"color\":\"#636efa\",\"size\":[3],\"sizemode\":\"area\",\"sizeref\":0.0575,\"symbol\":\"circle\"},\"mode\":\"markers\",\"name\":\"La Coru\\ufffdA \",\"showlegend\":true,\"type\":\"scattergeo\"},{\"geo\":\"geo\",\"hovertemplate\":\"City=%{location}<br>MatchID=%{marker.size}<extra></extra>\",\"legendgroup\":\"Kobe \",\"locationmode\":\"country names\",\"locations\":[\"Kobe \"],\"marker\":{\"color\":\"#EF553B\",\"size\":[3],\"sizemode\":\"area\",\"sizeref\":0.0575,\"symbol\":\"circle\"},\"mode\":\"markers\",\"name\":\"Kobe \",\"showlegend\":true,\"type\":\"scattergeo\"},{\"geo\":\"geo\",\"hovertemplate\":\"City=%{location}<br>MatchID=%{marker.size}<extra></extra>\",\"legendgroup\":\"Jeonju \",\"locationmode\":\"country names\",\"locations\":[\"Jeonju \"],\"marker\":{\"color\":\"#00cc96\",\"size\":[3],\"sizemode\":\"area\",\"sizeref\":0.0575,\"symbol\":\"circle\"},\"mode\":\"markers\",\"name\":\"Jeonju \",\"showlegend\":true,\"type\":\"scattergeo\"},{\"geo\":\"geo\",\"hovertemplate\":\"City=%{location}<br>MatchID=%{marker.size}<extra></extra>\",\"legendgroup\":\"Jeju \",\"locationmode\":\"country names\",\"locations\":[\"Jeju \"],\"marker\":{\"color\":\"#ab63fa\",\"size\":[3],\"sizemode\":\"area\",\"sizeref\":0.0575,\"symbol\":\"circle\"},\"mode\":\"markers\",\"name\":\"Jeju \",\"showlegend\":true,\"type\":\"scattergeo\"},{\"geo\":\"geo\",\"hovertemplate\":\"City=%{location}<br>MatchID=%{marker.size}<extra></extra>\",\"legendgroup\":\"Irapuato \",\"locationmode\":\"country names\",\"locations\":[\"Irapuato \"],\"marker\":{\"color\":\"#FFA15A\",\"size\":[3],\"sizemode\":\"area\",\"sizeref\":0.0575,\"symbol\":\"circle\"},\"mode\":\"markers\",\"name\":\"Irapuato \",\"showlegend\":true,\"type\":\"scattergeo\"},{\"geo\":\"geo\",\"hovertemplate\":\"City=%{location}<br>MatchID=%{marker.size}<extra></extra>\",\"legendgroup\":\"Incheon \",\"locationmode\":\"country names\",\"locations\":[\"Incheon \"],\"marker\":{\"color\":\"#19d3f3\",\"size\":[3],\"sizemode\":\"area\",\"sizeref\":0.0575,\"symbol\":\"circle\"},\"mode\":\"markers\",\"name\":\"Incheon \",\"showlegend\":true,\"type\":\"scattergeo\"},{\"geo\":\"geo\",\"hovertemplate\":\"City=%{location}<br>MatchID=%{marker.size}<extra></extra>\",\"legendgroup\":\"Nezahualcoyotl \",\"locationmode\":\"country names\",\"locations\":[\"Nezahualcoyotl \"],\"marker\":{\"color\":\"#FF6692\",\"size\":[3],\"sizemode\":\"area\",\"sizeref\":0.0575,\"symbol\":\"circle\"},\"mode\":\"markers\",\"name\":\"Nezahualcoyotl \",\"showlegend\":true,\"type\":\"scattergeo\"},{\"geo\":\"geo\",\"hovertemplate\":\"City=%{location}<br>MatchID=%{marker.size}<extra></extra>\",\"legendgroup\":\"Niigata \",\"locationmode\":\"country names\",\"locations\":[\"Niigata \"],\"marker\":{\"color\":\"#B6E880\",\"size\":[3],\"sizemode\":\"area\",\"sizeref\":0.0575,\"symbol\":\"circle\"},\"mode\":\"markers\",\"name\":\"Niigata \",\"showlegend\":true,\"type\":\"scattergeo\"},{\"geo\":\"geo\",\"hovertemplate\":\"City=%{location}<br>MatchID=%{marker.size}<extra></extra>\",\"legendgroup\":\"Norrk\\ufffdPing \",\"locationmode\":\"country names\",\"locations\":[\"Norrk\\ufffdPing \"],\"marker\":{\"color\":\"#FF97FF\",\"size\":[3],\"sizemode\":\"area\",\"sizeref\":0.0575,\"symbol\":\"circle\"},\"mode\":\"markers\",\"name\":\"Norrk\\ufffdPing \",\"showlegend\":true,\"type\":\"scattergeo\"},{\"geo\":\"geo\",\"hovertemplate\":\"City=%{location}<br>MatchID=%{marker.size}<extra></extra>\",\"legendgroup\":\"Alicante \",\"locationmode\":\"country names\",\"locations\":[\"Alicante \"],\"marker\":{\"color\":\"#FECB52\",\"size\":[3],\"sizemode\":\"area\",\"sizeref\":0.0575,\"symbol\":\"circle\"},\"mode\":\"markers\",\"name\":\"Alicante \",\"showlegend\":true,\"type\":\"scattergeo\"},{\"geo\":\"geo\",\"hovertemplate\":\"City=%{location}<br>MatchID=%{marker.size}<extra></extra>\",\"legendgroup\":\"Palermo \",\"locationmode\":\"country names\",\"locations\":[\"Palermo \"],\"marker\":{\"color\":\"#636efa\",\"size\":[3],\"sizemode\":\"area\",\"sizeref\":0.0575,\"symbol\":\"circle\"},\"mode\":\"markers\",\"name\":\"Palermo \",\"showlegend\":true,\"type\":\"scattergeo\"},{\"geo\":\"geo\",\"hovertemplate\":\"City=%{location}<br>MatchID=%{marker.size}<extra></extra>\",\"legendgroup\":\"Gijon \",\"locationmode\":\"country names\",\"locations\":[\"Gijon \"],\"marker\":{\"color\":\"#EF553B\",\"size\":[3],\"sizemode\":\"area\",\"sizeref\":0.0575,\"symbol\":\"circle\"},\"mode\":\"markers\",\"name\":\"Gijon \",\"showlegend\":true,\"type\":\"scattergeo\"},{\"geo\":\"geo\",\"hovertemplate\":\"City=%{location}<br>MatchID=%{marker.size}<extra></extra>\",\"legendgroup\":\"Gwangju \",\"locationmode\":\"country names\",\"locations\":[\"Gwangju \"],\"marker\":{\"color\":\"#00cc96\",\"size\":[3],\"sizemode\":\"area\",\"sizeref\":0.0575,\"symbol\":\"circle\"},\"mode\":\"markers\",\"name\":\"Gwangju \",\"showlegend\":true,\"type\":\"scattergeo\"},{\"geo\":\"geo\",\"hovertemplate\":\"City=%{location}<br>MatchID=%{marker.size}<extra></extra>\",\"legendgroup\":\"Osaka \",\"locationmode\":\"country names\",\"locations\":[\"Osaka \"],\"marker\":{\"color\":\"#ab63fa\",\"size\":[3],\"sizemode\":\"area\",\"sizeref\":0.0575,\"symbol\":\"circle\"},\"mode\":\"markers\",\"name\":\"Osaka \",\"showlegend\":true,\"type\":\"scattergeo\"},{\"geo\":\"geo\",\"hovertemplate\":\"City=%{location}<br>MatchID=%{marker.size}<extra></extra>\",\"legendgroup\":\"Oviedo \",\"locationmode\":\"country names\",\"locations\":[\"Oviedo \"],\"marker\":{\"color\":\"#FFA15A\",\"size\":[3],\"sizemode\":\"area\",\"sizeref\":0.0575,\"symbol\":\"circle\"},\"mode\":\"markers\",\"name\":\"Oviedo \",\"showlegend\":true,\"type\":\"scattergeo\"},{\"geo\":\"geo\",\"hovertemplate\":\"City=%{location}<br>MatchID=%{marker.size}<extra></extra>\",\"legendgroup\":\"Oita \",\"locationmode\":\"country names\",\"locations\":[\"Oita \"],\"marker\":{\"color\":\"#19d3f3\",\"size\":[3],\"sizemode\":\"area\",\"sizeref\":0.0575,\"symbol\":\"circle\"},\"mode\":\"markers\",\"name\":\"Oita \",\"showlegend\":true,\"type\":\"scattergeo\"},{\"geo\":\"geo\",\"hovertemplate\":\"City=%{location}<br>MatchID=%{marker.size}<extra></extra>\",\"legendgroup\":\"Halmstad \",\"locationmode\":\"country names\",\"locations\":[\"Halmstad \"],\"marker\":{\"color\":\"#FF6692\",\"size\":[2],\"sizemode\":\"area\",\"sizeref\":0.0575,\"symbol\":\"circle\"},\"mode\":\"markers\",\"name\":\"Halmstad \",\"showlegend\":true,\"type\":\"scattergeo\"},{\"geo\":\"geo\",\"hovertemplate\":\"City=%{location}<br>MatchID=%{marker.size}<extra></extra>\",\"legendgroup\":\"Vasteras \",\"locationmode\":\"country names\",\"locations\":[\"Vasteras \"],\"marker\":{\"color\":\"#B6E880\",\"size\":[2],\"sizemode\":\"area\",\"sizeref\":0.0575,\"symbol\":\"circle\"},\"mode\":\"markers\",\"name\":\"Vasteras \",\"showlegend\":true,\"type\":\"scattergeo\"},{\"geo\":\"geo\",\"hovertemplate\":\"City=%{location}<br>MatchID=%{marker.size}<extra></extra>\",\"legendgroup\":\"Sandviken \",\"locationmode\":\"country names\",\"locations\":[\"Sandviken \"],\"marker\":{\"color\":\"#FF97FF\",\"size\":[2],\"sizemode\":\"area\",\"sizeref\":0.0575,\"symbol\":\"circle\"},\"mode\":\"markers\",\"name\":\"Sandviken \",\"showlegend\":true,\"type\":\"scattergeo\"},{\"geo\":\"geo\",\"hovertemplate\":\"City=%{location}<br>MatchID=%{marker.size}<extra></extra>\",\"legendgroup\":\"Boras \",\"locationmode\":\"country names\",\"locations\":[\"Boras \"],\"marker\":{\"color\":\"#FECB52\",\"size\":[2],\"sizemode\":\"area\",\"sizeref\":0.0575,\"symbol\":\"circle\"},\"mode\":\"markers\",\"name\":\"Boras \",\"showlegend\":true,\"type\":\"scattergeo\"},{\"geo\":\"geo\",\"hovertemplate\":\"City=%{location}<br>MatchID=%{marker.size}<extra></extra>\",\"legendgroup\":\"Helsingborg \",\"locationmode\":\"country names\",\"locations\":[\"Helsingborg \"],\"marker\":{\"color\":\"#636efa\",\"size\":[2],\"sizemode\":\"area\",\"sizeref\":0.0575,\"symbol\":\"circle\"},\"mode\":\"markers\",\"name\":\"Helsingborg \",\"showlegend\":true,\"type\":\"scattergeo\"},{\"geo\":\"geo\",\"hovertemplate\":\"City=%{location}<br>MatchID=%{marker.size}<extra></extra>\",\"legendgroup\":\"Udevalla \",\"locationmode\":\"country names\",\"locations\":[\"Udevalla \"],\"marker\":{\"color\":\"#EF553B\",\"size\":[1],\"sizemode\":\"area\",\"sizeref\":0.0575,\"symbol\":\"circle\"},\"mode\":\"markers\",\"name\":\"Udevalla \",\"showlegend\":true,\"type\":\"scattergeo\"},{\"geo\":\"geo\",\"hovertemplate\":\"City=%{location}<br>MatchID=%{marker.size}<extra></extra>\",\"legendgroup\":\"Trieste \",\"locationmode\":\"country names\",\"locations\":[\"Trieste \"],\"marker\":{\"color\":\"#00cc96\",\"size\":[1],\"sizemode\":\"area\",\"sizeref\":0.0575,\"symbol\":\"circle\"},\"mode\":\"markers\",\"name\":\"Trieste \",\"showlegend\":true,\"type\":\"scattergeo\"},{\"geo\":\"geo\",\"hovertemplate\":\"City=%{location}<br>MatchID=%{marker.size}<extra></extra>\",\"legendgroup\":\"Reims \",\"locationmode\":\"country names\",\"locations\":[\"Reims \"],\"marker\":{\"color\":\"#ab63fa\",\"size\":[1],\"sizemode\":\"area\",\"sizeref\":0.0575,\"symbol\":\"circle\"},\"mode\":\"markers\",\"name\":\"Reims \",\"showlegend\":true,\"type\":\"scattergeo\"},{\"geo\":\"geo\",\"hovertemplate\":\"City=%{location}<br>MatchID=%{marker.size}<extra></extra>\",\"legendgroup\":\"Le Havre \",\"locationmode\":\"country names\",\"locations\":[\"Le Havre \"],\"marker\":{\"color\":\"#FFA15A\",\"size\":[1],\"sizemode\":\"area\",\"sizeref\":0.0575,\"symbol\":\"circle\"},\"mode\":\"markers\",\"name\":\"Le Havre \",\"showlegend\":true,\"type\":\"scattergeo\"},{\"geo\":\"geo\",\"hovertemplate\":\"City=%{location}<br>MatchID=%{marker.size}<extra></extra>\",\"legendgroup\":\"Orebro \",\"locationmode\":\"country names\",\"locations\":[\"Orebro \"],\"marker\":{\"color\":\"#19d3f3\",\"size\":[1],\"sizemode\":\"area\",\"sizeref\":0.0575,\"symbol\":\"circle\"},\"mode\":\"markers\",\"name\":\"Orebro \",\"showlegend\":true,\"type\":\"scattergeo\"},{\"geo\":\"geo\",\"hovertemplate\":\"City=%{location}<br>MatchID=%{marker.size}<extra></extra>\",\"legendgroup\":\"Lille \",\"locationmode\":\"country names\",\"locations\":[\"Lille \"],\"marker\":{\"color\":\"#FF6692\",\"size\":[1],\"sizemode\":\"area\",\"sizeref\":0.0575,\"symbol\":\"circle\"},\"mode\":\"markers\",\"name\":\"Lille \",\"showlegend\":true,\"type\":\"scattergeo\"},{\"geo\":\"geo\",\"hovertemplate\":\"City=%{location}<br>MatchID=%{marker.size}<extra></extra>\",\"legendgroup\":\"Lugano \",\"locationmode\":\"country names\",\"locations\":[\"Lugano \"],\"marker\":{\"color\":\"#B6E880\",\"size\":[1],\"sizemode\":\"area\",\"sizeref\":0.0575,\"symbol\":\"circle\"},\"mode\":\"markers\",\"name\":\"Lugano \",\"showlegend\":true,\"type\":\"scattergeo\"},{\"geo\":\"geo\",\"hovertemplate\":\"City=%{location}<br>MatchID=%{marker.size}<extra></extra>\",\"legendgroup\":\"Antibes \",\"locationmode\":\"country names\",\"locations\":[\"Antibes \"],\"marker\":{\"color\":\"#FF97FF\",\"size\":[1],\"sizemode\":\"area\",\"sizeref\":0.0575,\"symbol\":\"circle\"},\"mode\":\"markers\",\"name\":\"Antibes \",\"showlegend\":true,\"type\":\"scattergeo\"},{\"geo\":\"geo\",\"hovertemplate\":\"City=%{location}<br>MatchID=%{marker.size}<extra></extra>\",\"legendgroup\":\"Eskilstuna \",\"locationmode\":\"country names\",\"locations\":[\"Eskilstuna \"],\"marker\":{\"color\":\"#FECB52\",\"size\":[1],\"sizemode\":\"area\",\"sizeref\":0.0575,\"symbol\":\"circle\"},\"mode\":\"markers\",\"name\":\"Eskilstuna \",\"showlegend\":true,\"type\":\"scattergeo\"},{\"geo\":\"geo\",\"hovertemplate\":\"City=%{location}<br>MatchID=%{marker.size}<extra></extra>\",\"legendgroup\":\"Strasbourg \",\"locationmode\":\"country names\",\"locations\":[\"Strasbourg \"],\"marker\":{\"color\":\"#636efa\",\"size\":[1],\"sizemode\":\"area\",\"sizeref\":0.0575,\"symbol\":\"circle\"},\"mode\":\"markers\",\"name\":\"Strasbourg \",\"showlegend\":true,\"type\":\"scattergeo\"}],                        {\"template\":{\"data\":{\"histogram2dcontour\":[{\"type\":\"histogram2dcontour\",\"colorbar\":{\"outlinewidth\":0,\"ticks\":\"\"},\"colorscale\":[[0.0,\"#0d0887\"],[0.1111111111111111,\"#46039f\"],[0.2222222222222222,\"#7201a8\"],[0.3333333333333333,\"#9c179e\"],[0.4444444444444444,\"#bd3786\"],[0.5555555555555556,\"#d8576b\"],[0.6666666666666666,\"#ed7953\"],[0.7777777777777778,\"#fb9f3a\"],[0.8888888888888888,\"#fdca26\"],[1.0,\"#f0f921\"]]}],\"choropleth\":[{\"type\":\"choropleth\",\"colorbar\":{\"outlinewidth\":0,\"ticks\":\"\"}}],\"histogram2d\":[{\"type\":\"histogram2d\",\"colorbar\":{\"outlinewidth\":0,\"ticks\":\"\"},\"colorscale\":[[0.0,\"#0d0887\"],[0.1111111111111111,\"#46039f\"],[0.2222222222222222,\"#7201a8\"],[0.3333333333333333,\"#9c179e\"],[0.4444444444444444,\"#bd3786\"],[0.5555555555555556,\"#d8576b\"],[0.6666666666666666,\"#ed7953\"],[0.7777777777777778,\"#fb9f3a\"],[0.8888888888888888,\"#fdca26\"],[1.0,\"#f0f921\"]]}],\"heatmap\":[{\"type\":\"heatmap\",\"colorbar\":{\"outlinewidth\":0,\"ticks\":\"\"},\"colorscale\":[[0.0,\"#0d0887\"],[0.1111111111111111,\"#46039f\"],[0.2222222222222222,\"#7201a8\"],[0.3333333333333333,\"#9c179e\"],[0.4444444444444444,\"#bd3786\"],[0.5555555555555556,\"#d8576b\"],[0.6666666666666666,\"#ed7953\"],[0.7777777777777778,\"#fb9f3a\"],[0.8888888888888888,\"#fdca26\"],[1.0,\"#f0f921\"]]}],\"heatmapgl\":[{\"type\":\"heatmapgl\",\"colorbar\":{\"outlinewidth\":0,\"ticks\":\"\"},\"colorscale\":[[0.0,\"#0d0887\"],[0.1111111111111111,\"#46039f\"],[0.2222222222222222,\"#7201a8\"],[0.3333333333333333,\"#9c179e\"],[0.4444444444444444,\"#bd3786\"],[0.5555555555555556,\"#d8576b\"],[0.6666666666666666,\"#ed7953\"],[0.7777777777777778,\"#fb9f3a\"],[0.8888888888888888,\"#fdca26\"],[1.0,\"#f0f921\"]]}],\"contourcarpet\":[{\"type\":\"contourcarpet\",\"colorbar\":{\"outlinewidth\":0,\"ticks\":\"\"}}],\"contour\":[{\"type\":\"contour\",\"colorbar\":{\"outlinewidth\":0,\"ticks\":\"\"},\"colorscale\":[[0.0,\"#0d0887\"],[0.1111111111111111,\"#46039f\"],[0.2222222222222222,\"#7201a8\"],[0.3333333333333333,\"#9c179e\"],[0.4444444444444444,\"#bd3786\"],[0.5555555555555556,\"#d8576b\"],[0.6666666666666666,\"#ed7953\"],[0.7777777777777778,\"#fb9f3a\"],[0.8888888888888888,\"#fdca26\"],[1.0,\"#f0f921\"]]}],\"surface\":[{\"type\":\"surface\",\"colorbar\":{\"outlinewidth\":0,\"ticks\":\"\"},\"colorscale\":[[0.0,\"#0d0887\"],[0.1111111111111111,\"#46039f\"],[0.2222222222222222,\"#7201a8\"],[0.3333333333333333,\"#9c179e\"],[0.4444444444444444,\"#bd3786\"],[0.5555555555555556,\"#d8576b\"],[0.6666666666666666,\"#ed7953\"],[0.7777777777777778,\"#fb9f3a\"],[0.8888888888888888,\"#fdca26\"],[1.0,\"#f0f921\"]]}],\"mesh3d\":[{\"type\":\"mesh3d\",\"colorbar\":{\"outlinewidth\":0,\"ticks\":\"\"}}],\"scatter\":[{\"fillpattern\":{\"fillmode\":\"overlay\",\"size\":10,\"solidity\":0.2},\"type\":\"scatter\"}],\"parcoords\":[{\"type\":\"parcoords\",\"line\":{\"colorbar\":{\"outlinewidth\":0,\"ticks\":\"\"}}}],\"scatterpolargl\":[{\"type\":\"scatterpolargl\",\"marker\":{\"colorbar\":{\"outlinewidth\":0,\"ticks\":\"\"}}}],\"bar\":[{\"error_x\":{\"color\":\"#2a3f5f\"},\"error_y\":{\"color\":\"#2a3f5f\"},\"marker\":{\"line\":{\"color\":\"#E5ECF6\",\"width\":0.5},\"pattern\":{\"fillmode\":\"overlay\",\"size\":10,\"solidity\":0.2}},\"type\":\"bar\"}],\"scattergeo\":[{\"type\":\"scattergeo\",\"marker\":{\"colorbar\":{\"outlinewidth\":0,\"ticks\":\"\"}}}],\"scatterpolar\":[{\"type\":\"scatterpolar\",\"marker\":{\"colorbar\":{\"outlinewidth\":0,\"ticks\":\"\"}}}],\"histogram\":[{\"marker\":{\"pattern\":{\"fillmode\":\"overlay\",\"size\":10,\"solidity\":0.2}},\"type\":\"histogram\"}],\"scattergl\":[{\"type\":\"scattergl\",\"marker\":{\"colorbar\":{\"outlinewidth\":0,\"ticks\":\"\"}}}],\"scatter3d\":[{\"type\":\"scatter3d\",\"line\":{\"colorbar\":{\"outlinewidth\":0,\"ticks\":\"\"}},\"marker\":{\"colorbar\":{\"outlinewidth\":0,\"ticks\":\"\"}}}],\"scattermapbox\":[{\"type\":\"scattermapbox\",\"marker\":{\"colorbar\":{\"outlinewidth\":0,\"ticks\":\"\"}}}],\"scatterternary\":[{\"type\":\"scatterternary\",\"marker\":{\"colorbar\":{\"outlinewidth\":0,\"ticks\":\"\"}}}],\"scattercarpet\":[{\"type\":\"scattercarpet\",\"marker\":{\"colorbar\":{\"outlinewidth\":0,\"ticks\":\"\"}}}],\"carpet\":[{\"aaxis\":{\"endlinecolor\":\"#2a3f5f\",\"gridcolor\":\"white\",\"linecolor\":\"white\",\"minorgridcolor\":\"white\",\"startlinecolor\":\"#2a3f5f\"},\"baxis\":{\"endlinecolor\":\"#2a3f5f\",\"gridcolor\":\"white\",\"linecolor\":\"white\",\"minorgridcolor\":\"white\",\"startlinecolor\":\"#2a3f5f\"},\"type\":\"carpet\"}],\"table\":[{\"cells\":{\"fill\":{\"color\":\"#EBF0F8\"},\"line\":{\"color\":\"white\"}},\"header\":{\"fill\":{\"color\":\"#C8D4E3\"},\"line\":{\"color\":\"white\"}},\"type\":\"table\"}],\"barpolar\":[{\"marker\":{\"line\":{\"color\":\"#E5ECF6\",\"width\":0.5},\"pattern\":{\"fillmode\":\"overlay\",\"size\":10,\"solidity\":0.2}},\"type\":\"barpolar\"}],\"pie\":[{\"automargin\":true,\"type\":\"pie\"}]},\"layout\":{\"autotypenumbers\":\"strict\",\"colorway\":[\"#636efa\",\"#EF553B\",\"#00cc96\",\"#ab63fa\",\"#FFA15A\",\"#19d3f3\",\"#FF6692\",\"#B6E880\",\"#FF97FF\",\"#FECB52\"],\"font\":{\"color\":\"#2a3f5f\"},\"hovermode\":\"closest\",\"hoverlabel\":{\"align\":\"left\"},\"paper_bgcolor\":\"white\",\"plot_bgcolor\":\"#E5ECF6\",\"polar\":{\"bgcolor\":\"#E5ECF6\",\"angularaxis\":{\"gridcolor\":\"white\",\"linecolor\":\"white\",\"ticks\":\"\"},\"radialaxis\":{\"gridcolor\":\"white\",\"linecolor\":\"white\",\"ticks\":\"\"}},\"ternary\":{\"bgcolor\":\"#E5ECF6\",\"aaxis\":{\"gridcolor\":\"white\",\"linecolor\":\"white\",\"ticks\":\"\"},\"baxis\":{\"gridcolor\":\"white\",\"linecolor\":\"white\",\"ticks\":\"\"},\"caxis\":{\"gridcolor\":\"white\",\"linecolor\":\"white\",\"ticks\":\"\"}},\"coloraxis\":{\"colorbar\":{\"outlinewidth\":0,\"ticks\":\"\"}},\"colorscale\":{\"sequential\":[[0.0,\"#0d0887\"],[0.1111111111111111,\"#46039f\"],[0.2222222222222222,\"#7201a8\"],[0.3333333333333333,\"#9c179e\"],[0.4444444444444444,\"#bd3786\"],[0.5555555555555556,\"#d8576b\"],[0.6666666666666666,\"#ed7953\"],[0.7777777777777778,\"#fb9f3a\"],[0.8888888888888888,\"#fdca26\"],[1.0,\"#f0f921\"]],\"sequentialminus\":[[0.0,\"#0d0887\"],[0.1111111111111111,\"#46039f\"],[0.2222222222222222,\"#7201a8\"],[0.3333333333333333,\"#9c179e\"],[0.4444444444444444,\"#bd3786\"],[0.5555555555555556,\"#d8576b\"],[0.6666666666666666,\"#ed7953\"],[0.7777777777777778,\"#fb9f3a\"],[0.8888888888888888,\"#fdca26\"],[1.0,\"#f0f921\"]],\"diverging\":[[0,\"#8e0152\"],[0.1,\"#c51b7d\"],[0.2,\"#de77ae\"],[0.3,\"#f1b6da\"],[0.4,\"#fde0ef\"],[0.5,\"#f7f7f7\"],[0.6,\"#e6f5d0\"],[0.7,\"#b8e186\"],[0.8,\"#7fbc41\"],[0.9,\"#4d9221\"],[1,\"#276419\"]]},\"xaxis\":{\"gridcolor\":\"white\",\"linecolor\":\"white\",\"ticks\":\"\",\"title\":{\"standoff\":15},\"zerolinecolor\":\"white\",\"automargin\":true,\"zerolinewidth\":2},\"yaxis\":{\"gridcolor\":\"white\",\"linecolor\":\"white\",\"ticks\":\"\",\"title\":{\"standoff\":15},\"zerolinecolor\":\"white\",\"automargin\":true,\"zerolinewidth\":2},\"scene\":{\"xaxis\":{\"backgroundcolor\":\"#E5ECF6\",\"gridcolor\":\"white\",\"linecolor\":\"white\",\"showbackground\":true,\"ticks\":\"\",\"zerolinecolor\":\"white\",\"gridwidth\":2},\"yaxis\":{\"backgroundcolor\":\"#E5ECF6\",\"gridcolor\":\"white\",\"linecolor\":\"white\",\"showbackground\":true,\"ticks\":\"\",\"zerolinecolor\":\"white\",\"gridwidth\":2},\"zaxis\":{\"backgroundcolor\":\"#E5ECF6\",\"gridcolor\":\"white\",\"linecolor\":\"white\",\"showbackground\":true,\"ticks\":\"\",\"zerolinecolor\":\"white\",\"gridwidth\":2}},\"shapedefaults\":{\"line\":{\"color\":\"#2a3f5f\"}},\"annotationdefaults\":{\"arrowcolor\":\"#2a3f5f\",\"arrowhead\":0,\"arrowwidth\":1},\"geo\":{\"bgcolor\":\"white\",\"landcolor\":\"#E5ECF6\",\"subunitcolor\":\"white\",\"showland\":true,\"showlakes\":true,\"lakecolor\":\"white\"},\"title\":{\"x\":0.05},\"mapbox\":{\"style\":\"light\"}}},\"geo\":{\"domain\":{\"x\":[0.0,1.0],\"y\":[0.0,1.0]},\"center\":{}},\"legend\":{\"title\":{\"text\":\"City\"},\"tracegroupgap\":0,\"itemsizing\":\"constant\"},\"margin\":{\"t\":60}},                        {\"responsive\": true}                    ).then(function(){\n",
       "                            \n",
       "var gd = document.getElementById('44046823-b2b7-4d57-8e9b-d7ba73b34ca9');\n",
       "var x = new MutationObserver(function (mutations, observer) {{\n",
       "        var display = window.getComputedStyle(gd).display;\n",
       "        if (!display || display === 'none') {{\n",
       "            console.log([gd, 'removed!']);\n",
       "            Plotly.purge(gd);\n",
       "            observer.disconnect();\n",
       "        }}\n",
       "}});\n",
       "\n",
       "// Listen for the removal of the full notebook cells\n",
       "var notebookContainer = gd.closest('#notebook-container');\n",
       "if (notebookContainer) {{\n",
       "    x.observe(notebookContainer, {childList: true});\n",
       "}}\n",
       "\n",
       "// Listen for the clearing of the current output cell\n",
       "var outputEl = gd.closest('.output');\n",
       "if (outputEl) {{\n",
       "    x.observe(outputEl, {childList: true});\n",
       "}}\n",
       "\n",
       "                        })                };                });            </script>        </div>"
      ]
     },
     "metadata": {},
     "output_type": "display_data"
    }
   ],
   "source": [
    "px.scatter_geo(grouped, \n",
    "               locations='City', \n",
    "               size='MatchID', \n",
    "               locationmode='country names', \n",
    "               color='City')"
   ]
  },
  {
   "cell_type": "code",
   "execution_count": null,
   "id": "a4eeb3f7",
   "metadata": {},
   "outputs": [],
   "source": []
  },
  {
   "cell_type": "code",
   "execution_count": null,
   "id": "1cbd855c",
   "metadata": {},
   "outputs": [],
   "source": []
  }
 ],
 "metadata": {
  "kernelspec": {
   "display_name": "Python 3 (ipykernel)",
   "language": "python",
   "name": "python3"
  },
  "language_info": {
   "codemirror_mode": {
    "name": "ipython",
    "version": 3
   },
   "file_extension": ".py",
   "mimetype": "text/x-python",
   "name": "python",
   "nbconvert_exporter": "python",
   "pygments_lexer": "ipython3",
   "version": "3.9.13"
  }
 },
 "nbformat": 4,
 "nbformat_minor": 5
}
